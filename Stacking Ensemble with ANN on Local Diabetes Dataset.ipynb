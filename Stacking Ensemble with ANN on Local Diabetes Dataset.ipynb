{
 "cells": [
  {
   "cell_type": "code",
   "execution_count": 1,
   "id": "inside-threat",
   "metadata": {},
   "outputs": [],
   "source": [
    "#import libraries\n",
    "import numpy as np\n",
    "import pandas as pd\n",
    "import seaborn as sns\n",
    "import matplotlib.pyplot as plt"
   ]
  },
  {
   "cell_type": "markdown",
   "id": "eastern-bunny",
   "metadata": {},
   "source": [
    "# Load dataset"
   ]
  },
  {
   "cell_type": "code",
   "execution_count": 2,
   "id": "architectural-convertible",
   "metadata": {},
   "outputs": [
    {
     "data": {
      "text/html": [
       "<div>\n",
       "<style scoped>\n",
       "    .dataframe tbody tr th:only-of-type {\n",
       "        vertical-align: middle;\n",
       "    }\n",
       "\n",
       "    .dataframe tbody tr th {\n",
       "        vertical-align: top;\n",
       "    }\n",
       "\n",
       "    .dataframe thead th {\n",
       "        text-align: right;\n",
       "    }\n",
       "</style>\n",
       "<table border=\"1\" class=\"dataframe\">\n",
       "  <thead>\n",
       "    <tr style=\"text-align: right;\">\n",
       "      <th></th>\n",
       "      <th>Pregnancies</th>\n",
       "      <th>Age</th>\n",
       "      <th>BMI</th>\n",
       "      <th>BP(Systolic)</th>\n",
       "      <th>BP(Diastolic)</th>\n",
       "      <th>Genetic</th>\n",
       "      <th>Insulin</th>\n",
       "      <th>Skin Thickness(mm)</th>\n",
       "      <th>Glucose Consumption</th>\n",
       "      <th>Outcome</th>\n",
       "    </tr>\n",
       "  </thead>\n",
       "  <tbody>\n",
       "    <tr>\n",
       "      <th>0</th>\n",
       "      <td>3</td>\n",
       "      <td>50</td>\n",
       "      <td>22.263762</td>\n",
       "      <td>140</td>\n",
       "      <td>90</td>\n",
       "      <td>0</td>\n",
       "      <td>0</td>\n",
       "      <td>317.50</td>\n",
       "      <td>14.6</td>\n",
       "      <td>1</td>\n",
       "    </tr>\n",
       "    <tr>\n",
       "      <th>1</th>\n",
       "      <td>1</td>\n",
       "      <td>40</td>\n",
       "      <td>24.111159</td>\n",
       "      <td>110</td>\n",
       "      <td>80</td>\n",
       "      <td>2</td>\n",
       "      <td>0</td>\n",
       "      <td>317.50</td>\n",
       "      <td>6.1</td>\n",
       "      <td>0</td>\n",
       "    </tr>\n",
       "    <tr>\n",
       "      <th>2</th>\n",
       "      <td>0</td>\n",
       "      <td>21</td>\n",
       "      <td>17.183204</td>\n",
       "      <td>120</td>\n",
       "      <td>80</td>\n",
       "      <td>0</td>\n",
       "      <td>0</td>\n",
       "      <td>259.08</td>\n",
       "      <td>9.7</td>\n",
       "      <td>1</td>\n",
       "    </tr>\n",
       "    <tr>\n",
       "      <th>3</th>\n",
       "      <td>2</td>\n",
       "      <td>30</td>\n",
       "      <td>21.244332</td>\n",
       "      <td>130</td>\n",
       "      <td>85</td>\n",
       "      <td>0</td>\n",
       "      <td>0</td>\n",
       "      <td>322.58</td>\n",
       "      <td>17.8</td>\n",
       "      <td>1</td>\n",
       "    </tr>\n",
       "    <tr>\n",
       "      <th>4</th>\n",
       "      <td>2</td>\n",
       "      <td>35</td>\n",
       "      <td>22.819490</td>\n",
       "      <td>110</td>\n",
       "      <td>75</td>\n",
       "      <td>0</td>\n",
       "      <td>0</td>\n",
       "      <td>335.28</td>\n",
       "      <td>16.7</td>\n",
       "      <td>1</td>\n",
       "    </tr>\n",
       "  </tbody>\n",
       "</table>\n",
       "</div>"
      ],
      "text/plain": [
       "   Pregnancies  Age        BMI  BP(Systolic)  BP(Diastolic)  Genetic  Insulin  \\\n",
       "0            3   50  22.263762           140             90        0        0   \n",
       "1            1   40  24.111159           110             80        2        0   \n",
       "2            0   21  17.183204           120             80        0        0   \n",
       "3            2   30  21.244332           130             85        0        0   \n",
       "4            2   35  22.819490           110             75        0        0   \n",
       "\n",
       "   Skin Thickness(mm)  Glucose Consumption  Outcome  \n",
       "0              317.50                 14.6        1  \n",
       "1              317.50                  6.1        0  \n",
       "2              259.08                  9.7        1  \n",
       "3              322.58                 17.8        1  \n",
       "4              335.28                 16.7        1  "
      ]
     },
     "execution_count": 2,
     "metadata": {},
     "output_type": "execute_result"
    }
   ],
   "source": [
    "dataset=pd.read_csv(\"DIABETES DATASET.csv\", delimiter=\",\")\n",
    "dataset.head()"
   ]
  },
  {
   "cell_type": "code",
   "execution_count": 3,
   "id": "hazardous-costume",
   "metadata": {},
   "outputs": [
    {
     "data": {
      "text/html": [
       "<div>\n",
       "<style scoped>\n",
       "    .dataframe tbody tr th:only-of-type {\n",
       "        vertical-align: middle;\n",
       "    }\n",
       "\n",
       "    .dataframe tbody tr th {\n",
       "        vertical-align: top;\n",
       "    }\n",
       "\n",
       "    .dataframe thead th {\n",
       "        text-align: right;\n",
       "    }\n",
       "</style>\n",
       "<table border=\"1\" class=\"dataframe\">\n",
       "  <thead>\n",
       "    <tr style=\"text-align: right;\">\n",
       "      <th></th>\n",
       "      <th>Pregnancies</th>\n",
       "      <th>Age</th>\n",
       "      <th>BMI</th>\n",
       "      <th>BP(Systolic)</th>\n",
       "      <th>BP(Diastolic)</th>\n",
       "      <th>Genetic</th>\n",
       "      <th>Insulin</th>\n",
       "      <th>Skin Thickness(mm)</th>\n",
       "      <th>Glucose Consumption</th>\n",
       "      <th>Outcome</th>\n",
       "    </tr>\n",
       "  </thead>\n",
       "  <tbody>\n",
       "    <tr>\n",
       "      <th>460</th>\n",
       "      <td>2</td>\n",
       "      <td>35</td>\n",
       "      <td>24.193597</td>\n",
       "      <td>130</td>\n",
       "      <td>90</td>\n",
       "      <td>2</td>\n",
       "      <td>0</td>\n",
       "      <td>292.1</td>\n",
       "      <td>8.1</td>\n",
       "      <td>1</td>\n",
       "    </tr>\n",
       "    <tr>\n",
       "      <th>461</th>\n",
       "      <td>2</td>\n",
       "      <td>40</td>\n",
       "      <td>22.077443</td>\n",
       "      <td>140</td>\n",
       "      <td>90</td>\n",
       "      <td>0</td>\n",
       "      <td>0</td>\n",
       "      <td>279.4</td>\n",
       "      <td>6.9</td>\n",
       "      <td>0</td>\n",
       "    </tr>\n",
       "    <tr>\n",
       "      <th>462</th>\n",
       "      <td>3</td>\n",
       "      <td>28</td>\n",
       "      <td>26.489311</td>\n",
       "      <td>140</td>\n",
       "      <td>100</td>\n",
       "      <td>0</td>\n",
       "      <td>0</td>\n",
       "      <td>317.5</td>\n",
       "      <td>12.0</td>\n",
       "      <td>1</td>\n",
       "    </tr>\n",
       "    <tr>\n",
       "      <th>463</th>\n",
       "      <td>2</td>\n",
       "      <td>35</td>\n",
       "      <td>22.580690</td>\n",
       "      <td>110</td>\n",
       "      <td>80</td>\n",
       "      <td>0</td>\n",
       "      <td>0</td>\n",
       "      <td>292.1</td>\n",
       "      <td>20.0</td>\n",
       "      <td>1</td>\n",
       "    </tr>\n",
       "    <tr>\n",
       "      <th>464</th>\n",
       "      <td>3</td>\n",
       "      <td>38</td>\n",
       "      <td>22.388934</td>\n",
       "      <td>120</td>\n",
       "      <td>70</td>\n",
       "      <td>2</td>\n",
       "      <td>0</td>\n",
       "      <td>254.0</td>\n",
       "      <td>13.0</td>\n",
       "      <td>1</td>\n",
       "    </tr>\n",
       "  </tbody>\n",
       "</table>\n",
       "</div>"
      ],
      "text/plain": [
       "     Pregnancies  Age        BMI  BP(Systolic)  BP(Diastolic)  Genetic  \\\n",
       "460            2   35  24.193597           130             90        2   \n",
       "461            2   40  22.077443           140             90        0   \n",
       "462            3   28  26.489311           140            100        0   \n",
       "463            2   35  22.580690           110             80        0   \n",
       "464            3   38  22.388934           120             70        2   \n",
       "\n",
       "     Insulin  Skin Thickness(mm)  Glucose Consumption  Outcome  \n",
       "460        0               292.1                  8.1        1  \n",
       "461        0               279.4                  6.9        0  \n",
       "462        0               317.5                 12.0        1  \n",
       "463        0               292.1                 20.0        1  \n",
       "464        0               254.0                 13.0        1  "
      ]
     },
     "execution_count": 3,
     "metadata": {},
     "output_type": "execute_result"
    }
   ],
   "source": [
    "dataset.tail()"
   ]
  },
  {
   "cell_type": "code",
   "execution_count": 4,
   "id": "gross-sphere",
   "metadata": {},
   "outputs": [
    {
     "data": {
      "text/plain": [
       "Index(['Pregnancies', 'Age', 'BMI', 'BP(Systolic)', 'BP(Diastolic)', 'Genetic',\n",
       "       'Insulin', 'Skin Thickness(mm)', 'Glucose Consumption', 'Outcome'],\n",
       "      dtype='object')"
      ]
     },
     "execution_count": 4,
     "metadata": {},
     "output_type": "execute_result"
    }
   ],
   "source": [
    "dataset.columns"
   ]
  },
  {
   "cell_type": "code",
   "execution_count": 5,
   "id": "bearing-chemistry",
   "metadata": {},
   "outputs": [
    {
     "data": {
      "text/plain": [
       "(465, 10)"
      ]
     },
     "execution_count": 5,
     "metadata": {},
     "output_type": "execute_result"
    }
   ],
   "source": [
    "dataset.shape"
   ]
  },
  {
   "cell_type": "code",
   "execution_count": 6,
   "id": "private-bridal",
   "metadata": {},
   "outputs": [
    {
     "data": {
      "text/html": [
       "<div>\n",
       "<style scoped>\n",
       "    .dataframe tbody tr th:only-of-type {\n",
       "        vertical-align: middle;\n",
       "    }\n",
       "\n",
       "    .dataframe tbody tr th {\n",
       "        vertical-align: top;\n",
       "    }\n",
       "\n",
       "    .dataframe thead th {\n",
       "        text-align: right;\n",
       "    }\n",
       "</style>\n",
       "<table border=\"1\" class=\"dataframe\">\n",
       "  <thead>\n",
       "    <tr style=\"text-align: right;\">\n",
       "      <th></th>\n",
       "      <th>Pregnancies</th>\n",
       "      <th>Age</th>\n",
       "      <th>BMI</th>\n",
       "      <th>BP(Systolic)</th>\n",
       "      <th>BP(Diastolic)</th>\n",
       "      <th>Genetic</th>\n",
       "      <th>Insulin</th>\n",
       "      <th>Skin Thickness(mm)</th>\n",
       "      <th>Glucose Consumption</th>\n",
       "      <th>Outcome</th>\n",
       "    </tr>\n",
       "  </thead>\n",
       "  <tbody>\n",
       "    <tr>\n",
       "      <th>count</th>\n",
       "      <td>465.000000</td>\n",
       "      <td>465.000000</td>\n",
       "      <td>465.000000</td>\n",
       "      <td>465.000000</td>\n",
       "      <td>465.000000</td>\n",
       "      <td>465.000000</td>\n",
       "      <td>465.000000</td>\n",
       "      <td>465.000000</td>\n",
       "      <td>465.000000</td>\n",
       "      <td>465.000000</td>\n",
       "    </tr>\n",
       "    <tr>\n",
       "      <th>mean</th>\n",
       "      <td>3.047312</td>\n",
       "      <td>44.296774</td>\n",
       "      <td>25.178749</td>\n",
       "      <td>119.141935</td>\n",
       "      <td>79.425806</td>\n",
       "      <td>1.526882</td>\n",
       "      <td>5.156989</td>\n",
       "      <td>306.878430</td>\n",
       "      <td>13.739806</td>\n",
       "      <td>0.800000</td>\n",
       "    </tr>\n",
       "    <tr>\n",
       "      <th>std</th>\n",
       "      <td>1.845871</td>\n",
       "      <td>12.833738</td>\n",
       "      <td>3.765211</td>\n",
       "      <td>13.959504</td>\n",
       "      <td>10.695198</td>\n",
       "      <td>1.664742</td>\n",
       "      <td>8.992998</td>\n",
       "      <td>34.630121</td>\n",
       "      <td>6.519517</td>\n",
       "      <td>0.400431</td>\n",
       "    </tr>\n",
       "    <tr>\n",
       "      <th>min</th>\n",
       "      <td>0.000000</td>\n",
       "      <td>21.000000</td>\n",
       "      <td>17.183204</td>\n",
       "      <td>80.000000</td>\n",
       "      <td>30.000000</td>\n",
       "      <td>0.000000</td>\n",
       "      <td>0.000000</td>\n",
       "      <td>29.210000</td>\n",
       "      <td>5.000000</td>\n",
       "      <td>0.000000</td>\n",
       "    </tr>\n",
       "    <tr>\n",
       "      <th>25%</th>\n",
       "      <td>2.000000</td>\n",
       "      <td>35.000000</td>\n",
       "      <td>22.580690</td>\n",
       "      <td>110.000000</td>\n",
       "      <td>70.000000</td>\n",
       "      <td>0.000000</td>\n",
       "      <td>0.000000</td>\n",
       "      <td>284.480000</td>\n",
       "      <td>8.000000</td>\n",
       "      <td>1.000000</td>\n",
       "    </tr>\n",
       "    <tr>\n",
       "      <th>50%</th>\n",
       "      <td>3.000000</td>\n",
       "      <td>42.000000</td>\n",
       "      <td>24.576776</td>\n",
       "      <td>120.000000</td>\n",
       "      <td>80.000000</td>\n",
       "      <td>1.000000</td>\n",
       "      <td>0.000000</td>\n",
       "      <td>304.800000</td>\n",
       "      <td>12.800000</td>\n",
       "      <td>1.000000</td>\n",
       "    </tr>\n",
       "    <tr>\n",
       "      <th>75%</th>\n",
       "      <td>4.000000</td>\n",
       "      <td>53.000000</td>\n",
       "      <td>27.492665</td>\n",
       "      <td>130.000000</td>\n",
       "      <td>80.000000</td>\n",
       "      <td>2.000000</td>\n",
       "      <td>10.000000</td>\n",
       "      <td>330.200000</td>\n",
       "      <td>17.500000</td>\n",
       "      <td>1.000000</td>\n",
       "    </tr>\n",
       "    <tr>\n",
       "      <th>max</th>\n",
       "      <td>12.000000</td>\n",
       "      <td>86.000000</td>\n",
       "      <td>37.442807</td>\n",
       "      <td>180.000000</td>\n",
       "      <td>120.000000</td>\n",
       "      <td>8.000000</td>\n",
       "      <td>44.000000</td>\n",
       "      <td>406.400000</td>\n",
       "      <td>45.000000</td>\n",
       "      <td>1.000000</td>\n",
       "    </tr>\n",
       "  </tbody>\n",
       "</table>\n",
       "</div>"
      ],
      "text/plain": [
       "       Pregnancies         Age         BMI  BP(Systolic)  BP(Diastolic)  \\\n",
       "count   465.000000  465.000000  465.000000    465.000000     465.000000   \n",
       "mean      3.047312   44.296774   25.178749    119.141935      79.425806   \n",
       "std       1.845871   12.833738    3.765211     13.959504      10.695198   \n",
       "min       0.000000   21.000000   17.183204     80.000000      30.000000   \n",
       "25%       2.000000   35.000000   22.580690    110.000000      70.000000   \n",
       "50%       3.000000   42.000000   24.576776    120.000000      80.000000   \n",
       "75%       4.000000   53.000000   27.492665    130.000000      80.000000   \n",
       "max      12.000000   86.000000   37.442807    180.000000     120.000000   \n",
       "\n",
       "          Genetic     Insulin  Skin Thickness(mm)  Glucose Consumption  \\\n",
       "count  465.000000  465.000000          465.000000           465.000000   \n",
       "mean     1.526882    5.156989          306.878430            13.739806   \n",
       "std      1.664742    8.992998           34.630121             6.519517   \n",
       "min      0.000000    0.000000           29.210000             5.000000   \n",
       "25%      0.000000    0.000000          284.480000             8.000000   \n",
       "50%      1.000000    0.000000          304.800000            12.800000   \n",
       "75%      2.000000   10.000000          330.200000            17.500000   \n",
       "max      8.000000   44.000000          406.400000            45.000000   \n",
       "\n",
       "          Outcome  \n",
       "count  465.000000  \n",
       "mean     0.800000  \n",
       "std      0.400431  \n",
       "min      0.000000  \n",
       "25%      1.000000  \n",
       "50%      1.000000  \n",
       "75%      1.000000  \n",
       "max      1.000000  "
      ]
     },
     "execution_count": 6,
     "metadata": {},
     "output_type": "execute_result"
    }
   ],
   "source": [
    "dataset.describe()"
   ]
  },
  {
   "cell_type": "code",
   "execution_count": 7,
   "id": "worthy-begin",
   "metadata": {},
   "outputs": [
    {
     "name": "stdout",
     "output_type": "stream",
     "text": [
      "<class 'pandas.core.frame.DataFrame'>\n",
      "RangeIndex: 465 entries, 0 to 464\n",
      "Data columns (total 10 columns):\n",
      " #   Column               Non-Null Count  Dtype  \n",
      "---  ------               --------------  -----  \n",
      " 0   Pregnancies          465 non-null    int64  \n",
      " 1   Age                  465 non-null    int64  \n",
      " 2   BMI                  465 non-null    float64\n",
      " 3   BP(Systolic)         465 non-null    int64  \n",
      " 4   BP(Diastolic)        465 non-null    int64  \n",
      " 5   Genetic              465 non-null    int64  \n",
      " 6   Insulin              465 non-null    int64  \n",
      " 7   Skin Thickness(mm)   465 non-null    float64\n",
      " 8   Glucose Consumption  465 non-null    float64\n",
      " 9   Outcome              465 non-null    int64  \n",
      "dtypes: float64(3), int64(7)\n",
      "memory usage: 36.5 KB\n"
     ]
    }
   ],
   "source": [
    "dataset.info()"
   ]
  },
  {
   "cell_type": "markdown",
   "id": "polished-advice",
   "metadata": {},
   "source": [
    "# Check missing values"
   ]
  },
  {
   "cell_type": "code",
   "execution_count": 8,
   "id": "sonic-headline",
   "metadata": {},
   "outputs": [
    {
     "data": {
      "text/plain": [
       "Pregnancies            0\n",
       "Age                    0\n",
       "BMI                    0\n",
       "BP(Systolic)           0\n",
       "BP(Diastolic)          0\n",
       "Genetic                0\n",
       "Insulin                0\n",
       "Skin Thickness(mm)     0\n",
       "Glucose Consumption    0\n",
       "Outcome                0\n",
       "dtype: int64"
      ]
     },
     "execution_count": 8,
     "metadata": {},
     "output_type": "execute_result"
    }
   ],
   "source": [
    "#Cheking missing values\n",
    "dataset.isnull().sum()"
   ]
  },
  {
   "cell_type": "markdown",
   "id": "competent-remark",
   "metadata": {},
   "source": [
    "# Outlier Detection"
   ]
  },
  {
   "cell_type": "code",
   "execution_count": 9,
   "id": "threaded-season",
   "metadata": {},
   "outputs": [
    {
     "data": {
      "image/png": "[encoded data removed]",
      "text/plain": [
       "<Figure size 1440x576 with 1 Axes>"
      ]
     },
     "metadata": {
      "needs_background": "light"
     },
     "output_type": "display_data"
    }
   ],
   "source": [
    "#detecting outlier\n",
    "# Plot boxplot\n",
    "plt.figure(figsize =[20,8])\n",
    "dataset.boxplot()\n",
    "plt.show()"
   ]
  },
  {
   "cell_type": "code",
   "execution_count": 10,
   "id": "viral-bracket",
   "metadata": {},
   "outputs": [],
   "source": [
    "a = dataset.iloc[: , 0:9]\n",
    "b = dataset.iloc[: , 9]"
   ]
  },
  {
   "cell_type": "code",
   "execution_count": 11,
   "id": "greatest-wellington",
   "metadata": {},
   "outputs": [
    {
     "name": "stdout",
     "output_type": "stream",
     "text": [
      "     Pregnancies       Age       BMI  BP(Systolic)  BP(Diastolic)   Genetic  \\\n",
      "0       0.025659  0.444872  0.775023      1.495793       0.989751  0.918176   \n",
      "1       1.110325  0.335164  0.283846      0.655595       0.053745  0.284505   \n",
      "2       1.652658  1.817231  2.125819      0.061534       0.053745  0.918176   \n",
      "3       0.567992  1.115199  1.046065      0.778664       0.521748  0.918176   \n",
      "4       0.567992  0.725181  0.627269      0.655595       0.414258  0.918176   \n",
      "..           ...       ...       ...           ...            ...       ...   \n",
      "460     0.567992  0.725181  0.261928      0.778664       0.989751  0.284505   \n",
      "461     0.567992  0.335164  0.824561      1.495793       0.989751  0.918176   \n",
      "462     0.025659  1.271206  0.348446      1.495793       1.925757  0.918176   \n",
      "463     0.567992  0.725181  0.690760      0.655595       0.053745  0.918176   \n",
      "464     0.025659  0.491171  0.741743      0.061534       0.882261  0.284505   \n",
      "\n",
      "      Insulin  Skin Thickness(mm)  Glucose Consumption  \n",
      "0    0.574063            0.307045             0.132083  \n",
      "1    0.574063            0.307045             1.173098  \n",
      "2    0.574063            1.381742             0.620315  \n",
      "3    0.574063            0.453896             0.623446  \n",
      "4    0.574063            0.821024             0.454540  \n",
      "..        ...                 ...                  ...  \n",
      "460  0.574063            0.427210             0.865997  \n",
      "461  0.574063            0.794338             1.050258  \n",
      "462  0.574063            0.307045             0.267149  \n",
      "463  0.574063            0.427210             0.961258  \n",
      "464  0.574063            1.528594             0.113598  \n",
      "\n",
      "[465 rows x 9 columns]\n"
     ]
    }
   ],
   "source": [
    "# outlier detection replacement by median using z-score\n",
    "from scipy.stats import zscore\n",
    "\n",
    "numeric_cols=a.select_dtypes(include=[np.number]).columns\n",
    "z=a[numeric_cols].apply(zscore).abs()\n",
    "print(z)"
   ]
  },
  {
   "cell_type": "code",
   "execution_count": 12,
   "id": "vocational-principle",
   "metadata": {},
   "outputs": [],
   "source": [
    "my_cols=['Pregnancies', 'Age', 'BMI', 'BP(Systolic)', 'BP(Diastolic)',\n",
    "       'Genetic', 'Insulin', 'Skin Thickness(mm)', 'Glucose Consumption']\n",
    "for col in my_cols:\n",
    "    z.loc[z[col]>3,col]=np.nan"
   ]
  },
  {
   "cell_type": "code",
   "execution_count": 13,
   "id": "senior-quarter",
   "metadata": {},
   "outputs": [
    {
     "data": {
      "text/plain": [
       "Pregnancies            9\n",
       "Age                    2\n",
       "BMI                    4\n",
       "BP(Systolic)           2\n",
       "BP(Diastolic)          5\n",
       "Genetic                5\n",
       "Insulin                2\n",
       "Skin Thickness(mm)     1\n",
       "Glucose Consumption    4\n",
       "dtype: int64"
      ]
     },
     "execution_count": 13,
     "metadata": {},
     "output_type": "execute_result"
    }
   ],
   "source": [
    "z.isnull().sum()"
   ]
  },
  {
   "cell_type": "code",
   "execution_count": 14,
   "id": "capital-niger",
   "metadata": {},
   "outputs": [],
   "source": [
    "d=z.fillna(z.median())"
   ]
  },
  {
   "cell_type": "code",
   "execution_count": 15,
   "id": "elegant-degree",
   "metadata": {},
   "outputs": [
    {
     "data": {
      "text/html": [
       "<div>\n",
       "<style scoped>\n",
       "    .dataframe tbody tr th:only-of-type {\n",
       "        vertical-align: middle;\n",
       "    }\n",
       "\n",
       "    .dataframe tbody tr th {\n",
       "        vertical-align: top;\n",
       "    }\n",
       "\n",
       "    .dataframe thead th {\n",
       "        text-align: right;\n",
       "    }\n",
       "</style>\n",
       "<table border=\"1\" class=\"dataframe\">\n",
       "  <thead>\n",
       "    <tr style=\"text-align: right;\">\n",
       "      <th></th>\n",
       "      <th>Pregnancies</th>\n",
       "      <th>Age</th>\n",
       "      <th>BMI</th>\n",
       "      <th>BP(Systolic)</th>\n",
       "      <th>BP(Diastolic)</th>\n",
       "      <th>Genetic</th>\n",
       "      <th>Insulin</th>\n",
       "      <th>Skin Thickness(mm)</th>\n",
       "      <th>Glucose Consumption</th>\n",
       "      <th>Outcome</th>\n",
       "    </tr>\n",
       "  </thead>\n",
       "  <tbody>\n",
       "    <tr>\n",
       "      <th>0</th>\n",
       "      <td>0.025659</td>\n",
       "      <td>0.444872</td>\n",
       "      <td>0.775023</td>\n",
       "      <td>1.495793</td>\n",
       "      <td>0.989751</td>\n",
       "      <td>0.918176</td>\n",
       "      <td>0.574063</td>\n",
       "      <td>0.307045</td>\n",
       "      <td>0.132083</td>\n",
       "      <td>1</td>\n",
       "    </tr>\n",
       "    <tr>\n",
       "      <th>1</th>\n",
       "      <td>1.110325</td>\n",
       "      <td>0.335164</td>\n",
       "      <td>0.283846</td>\n",
       "      <td>0.655595</td>\n",
       "      <td>0.053745</td>\n",
       "      <td>0.284505</td>\n",
       "      <td>0.574063</td>\n",
       "      <td>0.307045</td>\n",
       "      <td>1.173098</td>\n",
       "      <td>0</td>\n",
       "    </tr>\n",
       "    <tr>\n",
       "      <th>2</th>\n",
       "      <td>1.652658</td>\n",
       "      <td>1.817231</td>\n",
       "      <td>2.125819</td>\n",
       "      <td>0.061534</td>\n",
       "      <td>0.053745</td>\n",
       "      <td>0.918176</td>\n",
       "      <td>0.574063</td>\n",
       "      <td>1.381742</td>\n",
       "      <td>0.620315</td>\n",
       "      <td>1</td>\n",
       "    </tr>\n",
       "    <tr>\n",
       "      <th>3</th>\n",
       "      <td>0.567992</td>\n",
       "      <td>1.115199</td>\n",
       "      <td>1.046065</td>\n",
       "      <td>0.778664</td>\n",
       "      <td>0.521748</td>\n",
       "      <td>0.918176</td>\n",
       "      <td>0.574063</td>\n",
       "      <td>0.453896</td>\n",
       "      <td>0.623446</td>\n",
       "      <td>1</td>\n",
       "    </tr>\n",
       "    <tr>\n",
       "      <th>4</th>\n",
       "      <td>0.567992</td>\n",
       "      <td>0.725181</td>\n",
       "      <td>0.627269</td>\n",
       "      <td>0.655595</td>\n",
       "      <td>0.414258</td>\n",
       "      <td>0.918176</td>\n",
       "      <td>0.574063</td>\n",
       "      <td>0.821024</td>\n",
       "      <td>0.454540</td>\n",
       "      <td>1</td>\n",
       "    </tr>\n",
       "  </tbody>\n",
       "</table>\n",
       "</div>"
      ],
      "text/plain": [
       "   Pregnancies       Age       BMI  BP(Systolic)  BP(Diastolic)   Genetic  \\\n",
       "0     0.025659  0.444872  0.775023      1.495793       0.989751  0.918176   \n",
       "1     1.110325  0.335164  0.283846      0.655595       0.053745  0.284505   \n",
       "2     1.652658  1.817231  2.125819      0.061534       0.053745  0.918176   \n",
       "3     0.567992  1.115199  1.046065      0.778664       0.521748  0.918176   \n",
       "4     0.567992  0.725181  0.627269      0.655595       0.414258  0.918176   \n",
       "\n",
       "    Insulin  Skin Thickness(mm)  Glucose Consumption  Outcome  \n",
       "0  0.574063            0.307045             0.132083        1  \n",
       "1  0.574063            0.307045             1.173098        0  \n",
       "2  0.574063            1.381742             0.620315        1  \n",
       "3  0.574063            0.453896             0.623446        1  \n",
       "4  0.574063            0.821024             0.454540        1  "
      ]
     },
     "execution_count": 15,
     "metadata": {},
     "output_type": "execute_result"
    }
   ],
   "source": [
    "new=pd.concat([d,b],axis=1)\n",
    "new.head()"
   ]
  },
  {
   "cell_type": "code",
   "execution_count": 16,
   "id": "located-solomon",
   "metadata": {},
   "outputs": [],
   "source": [
    "X= new.iloc[:,new.columns !=\"Outcome\"]\n",
    "y= new.iloc[:,new.columns == \"Outcome\"]"
   ]
  },
  {
   "cell_type": "code",
   "execution_count": 17,
   "id": "elegant-calculation",
   "metadata": {},
   "outputs": [
    {
     "data": {
      "text/plain": [
       "0    1\n",
       "1    0\n",
       "2    1\n",
       "3    1\n",
       "4    1\n",
       "Name: Outcome, dtype: int64"
      ]
     },
     "execution_count": 17,
     "metadata": {},
     "output_type": "execute_result"
    }
   ],
   "source": [
    "y=new[\"Outcome\"]\n",
    "y.head()"
   ]
  },
  {
   "cell_type": "markdown",
   "id": "bound-sheet",
   "metadata": {},
   "source": [
    "# Balancing outcome by SMOTE"
   ]
  },
  {
   "cell_type": "code",
   "execution_count": 18,
   "id": "minor-yacht",
   "metadata": {},
   "outputs": [
    {
     "data": {
      "text/plain": [
       "1    0.8\n",
       "0    0.2\n",
       "Name: Outcome, dtype: float64"
      ]
     },
     "execution_count": 18,
     "metadata": {},
     "output_type": "execute_result"
    }
   ],
   "source": [
    "#Lets check if the data is Balanced or not\n",
    "round(dataset.Outcome.value_counts(normalize = True),2)"
   ]
  },
  {
   "cell_type": "code",
   "execution_count": 19,
   "id": "earlier-photographer",
   "metadata": {},
   "outputs": [
    {
     "data": {
      "text/plain": [
       "<function matplotlib.pyplot.show(close=None, block=None)>"
      ]
     },
     "execution_count": 19,
     "metadata": {},
     "output_type": "execute_result"
    },
    {
     "data": {
      "image/png": "[encoded data removed]",
      "text/plain": [
       "<Figure size 432x288 with 1 Axes>"
      ]
     },
     "metadata": {
      "needs_background": "light"
     },
     "output_type": "display_data"
    }
   ],
   "source": [
    "# Bar plot with respec to Outcoome 1 and 0 \n",
    "round(dataset.Outcome.value_counts(normalize = True),2).plot.bar()\n",
    "plt.show"
   ]
  },
  {
   "cell_type": "code",
   "execution_count": 20,
   "id": "subject-bearing",
   "metadata": {},
   "outputs": [],
   "source": [
    "from imblearn.over_sampling  import SMOTE\n",
    "smt= SMOTE()\n",
    "data_X,data_y =smt.fit_resample(X, y)"
   ]
  },
  {
   "cell_type": "code",
   "execution_count": 21,
   "id": "public-school",
   "metadata": {},
   "outputs": [
    {
     "name": "stdout",
     "output_type": "stream",
     "text": [
      "(744, 9)\n",
      "(744,)\n"
     ]
    }
   ],
   "source": [
    "print(data_X.shape)\n",
    "print(data_y.shape)"
   ]
  },
  {
   "cell_type": "code",
   "execution_count": 22,
   "id": "equal-addiction",
   "metadata": {},
   "outputs": [
    {
     "data": {
      "text/plain": [
       "<AxesSubplot:>"
      ]
     },
     "execution_count": 22,
     "metadata": {},
     "output_type": "execute_result"
    },
    {
     "data": {
      "image/png": "[encoded data removed]",
      "text/plain": [
       "<Figure size 432x288 with 1 Axes>"
      ]
     },
     "metadata": {
      "needs_background": "light"
     },
     "output_type": "display_data"
    }
   ],
   "source": [
    "data_y.value_counts(normalize = True).plot.bar()"
   ]
  },
  {
   "cell_type": "code",
   "execution_count": null,
   "id": "champion-tribe",
   "metadata": {},
   "outputs": [],
   "source": []
  },
  {
   "cell_type": "markdown",
   "id": "transparent-single",
   "metadata": {},
   "source": [
    "# Data scaling"
   ]
  },
  {
   "cell_type": "code",
   "execution_count": 23,
   "id": "royal-medium",
   "metadata": {},
   "outputs": [],
   "source": [
    "from sklearn.preprocessing import StandardScaler\n",
    "trans= StandardScaler()\n",
    "trans.fit(X)\n",
    "X=trans.fit_transform(X)"
   ]
  },
  {
   "cell_type": "code",
   "execution_count": 24,
   "id": "greenhouse-chair",
   "metadata": {},
   "outputs": [],
   "source": [
    "#fix random seed for reproducibility\n",
    "import numpy\n",
    "seed = 7\n",
    "numpy.random.seed(seed)"
   ]
  },
  {
   "cell_type": "markdown",
   "id": "patient-writer",
   "metadata": {},
   "source": [
    "# Split dataset"
   ]
  },
  {
   "cell_type": "code",
   "execution_count": 25,
   "id": "floating-ferry",
   "metadata": {},
   "outputs": [
    {
     "data": {
      "text/plain": [
       "((520, 9), (224, 9), (520,), (224,))"
      ]
     },
     "execution_count": 25,
     "metadata": {},
     "output_type": "execute_result"
    }
   ],
   "source": [
    "#split into 70% for train and 30% for test\n",
    "from sklearn.model_selection import train_test_split\n",
    "X_train, X_test, y_train, y_test = train_test_split(data_X,data_y, test_size=0.30, random_state=seed)\n",
    "X_train.shape, X_test.shape, y_train.shape, y_test.shape"
   ]
  },
  {
   "cell_type": "code",
   "execution_count": 26,
   "id": "immediate-bacon",
   "metadata": {},
   "outputs": [],
   "source": [
    "from keras.models import Sequential\n",
    "from keras.layers import Dense, Dropout\n",
    "import numpy\n",
    "import pandas as pd\n",
    "import matplotlib.pyplot as plt\n",
    "from sklearn.preprocessing import scale\n",
    "from sklearn.metrics import accuracy_score\n",
    "import tensorflow as tf"
   ]
  },
  {
   "cell_type": "markdown",
   "id": "chemical-shade",
   "metadata": {},
   "source": [
    "# Define model"
   ]
  },
  {
   "cell_type": "code",
   "execution_count": 27,
   "id": "fitting-disease",
   "metadata": {},
   "outputs": [
    {
     "name": "stdout",
     "output_type": "stream",
     "text": [
      "Model: \"sequential\"\n",
      "_________________________________________________________________\n",
      "Layer (type)                 Output Shape              Param #   \n",
      "=================================================================\n",
      "dense (Dense)                (None, 12)                120       \n",
      "_________________________________________________________________\n",
      "dense_1 (Dense)              (None, 1)                 13        \n",
      "=================================================================\n",
      "Total params: 133\n",
      "Trainable params: 133\n",
      "Non-trainable params: 0\n",
      "_________________________________________________________________\n"
     ]
    }
   ],
   "source": [
    "model1= Sequential ()\n",
    "model1.add(Dense(12, input_dim=9, activation= 'relu' ))\n",
    "model1.add(Dense(1, activation= 'sigmoid' ))\n",
    "model1.summary()"
   ]
  },
  {
   "cell_type": "code",
   "execution_count": 28,
   "id": "technological-mineral",
   "metadata": {},
   "outputs": [
    {
     "data": {
      "image/png": "[encoded data removed]",
      "text/plain": [
       "<IPython.core.display.Image object>"
      ]
     },
     "execution_count": 28,
     "metadata": {},
     "output_type": "execute_result"
    }
   ],
   "source": [
    "from keras.utils import plot_model\n",
    "plot_model(model1, to_file='multilayer_perceptron_graph.png')"
   ]
  },
  {
   "cell_type": "code",
   "execution_count": 29,
   "id": "bronze-hormone",
   "metadata": {},
   "outputs": [],
   "source": [
    "from keras.callbacks import EarlyStopping\n",
    "es= EarlyStopping(monitor='val_loss', min_delta=0, patience=10, verbose=0, mode='auto')"
   ]
  },
  {
   "cell_type": "markdown",
   "id": "grateful-testimony",
   "metadata": {},
   "source": [
    "# Compile model"
   ]
  },
  {
   "cell_type": "code",
   "execution_count": 30,
   "id": "mexican-estate",
   "metadata": {},
   "outputs": [],
   "source": [
    "model1.compile(loss= 'binary_crossentropy' , optimizer= 'adam' , metrics=[ 'accuracy' ])"
   ]
  },
  {
   "cell_type": "markdown",
   "id": "quality-algebra",
   "metadata": {},
   "source": [
    "# Fit the model"
   ]
  },
  {
   "cell_type": "code",
   "execution_count": 31,
   "id": "mighty-grave",
   "metadata": {},
   "outputs": [
    {
     "name": "stdout",
     "output_type": "stream",
     "text": [
      "Epoch 1/200\n",
      "17/17 [==============================] - 0s 24ms/step - loss: 0.6970 - accuracy: 0.5173 - val_loss: 0.7085 - val_accuracy: 0.4777\n",
      "Epoch 2/200\n",
      "17/17 [==============================] - 0s 4ms/step - loss: 0.6906 - accuracy: 0.5288 - val_loss: 0.7025 - val_accuracy: 0.5223\n",
      "Epoch 3/200\n",
      "17/17 [==============================] - 0s 4ms/step - loss: 0.6854 - accuracy: 0.5423 - val_loss: 0.6988 - val_accuracy: 0.5223\n",
      "Epoch 4/200\n",
      "17/17 [==============================] - 0s 2ms/step - loss: 0.6806 - accuracy: 0.5577 - val_loss: 0.6934 - val_accuracy: 0.5402\n",
      "Epoch 5/200\n",
      "17/17 [==============================] - 0s 3ms/step - loss: 0.6758 - accuracy: 0.5577 - val_loss: 0.6862 - val_accuracy: 0.5446\n",
      "Epoch 6/200\n",
      "17/17 [==============================] - 0s 5ms/step - loss: 0.6707 - accuracy: 0.5731 - val_loss: 0.6813 - val_accuracy: 0.5402\n",
      "Epoch 7/200\n",
      "17/17 [==============================] - 0s 4ms/step - loss: 0.6662 - accuracy: 0.6000 - val_loss: 0.6758 - val_accuracy: 0.5580\n",
      "Epoch 8/200\n",
      "17/17 [==============================] - 0s 3ms/step - loss: 0.6612 - accuracy: 0.6173 - val_loss: 0.6699 - val_accuracy: 0.5804\n",
      "Epoch 9/200\n",
      "17/17 [==============================] - 0s 3ms/step - loss: 0.6562 - accuracy: 0.6462 - val_loss: 0.6662 - val_accuracy: 0.6116\n",
      "Epoch 10/200\n",
      "17/17 [==============================] - 0s 3ms/step - loss: 0.6498 - accuracy: 0.6538 - val_loss: 0.6605 - val_accuracy: 0.6384\n",
      "Epoch 11/200\n",
      "17/17 [==============================] - 0s 3ms/step - loss: 0.6413 - accuracy: 0.6769 - val_loss: 0.6528 - val_accuracy: 0.6607\n",
      "Epoch 12/200\n",
      "17/17 [==============================] - 0s 3ms/step - loss: 0.6319 - accuracy: 0.7019 - val_loss: 0.6452 - val_accuracy: 0.6920\n",
      "Epoch 13/200\n",
      "17/17 [==============================] - 0s 2ms/step - loss: 0.6221 - accuracy: 0.7192 - val_loss: 0.6362 - val_accuracy: 0.7277\n",
      "Epoch 14/200\n",
      "17/17 [==============================] - 0s 2ms/step - loss: 0.6122 - accuracy: 0.7365 - val_loss: 0.6287 - val_accuracy: 0.7500\n",
      "Epoch 15/200\n",
      "17/17 [==============================] - 0s 3ms/step - loss: 0.6018 - accuracy: 0.7615 - val_loss: 0.6176 - val_accuracy: 0.7500\n",
      "Epoch 16/200\n",
      "17/17 [==============================] - 0s 3ms/step - loss: 0.5909 - accuracy: 0.7731 - val_loss: 0.6081 - val_accuracy: 0.7679\n",
      "Epoch 17/200\n",
      "17/17 [==============================] - 0s 2ms/step - loss: 0.5794 - accuracy: 0.7808 - val_loss: 0.5980 - val_accuracy: 0.7812\n",
      "Epoch 18/200\n",
      "17/17 [==============================] - 0s 2ms/step - loss: 0.5687 - accuracy: 0.7904 - val_loss: 0.5867 - val_accuracy: 0.7812\n",
      "Epoch 19/200\n",
      "17/17 [==============================] - 0s 2ms/step - loss: 0.5587 - accuracy: 0.8077 - val_loss: 0.5763 - val_accuracy: 0.7812\n",
      "Epoch 20/200\n",
      "17/17 [==============================] - 0s 2ms/step - loss: 0.5478 - accuracy: 0.8077 - val_loss: 0.5652 - val_accuracy: 0.7946\n",
      "Epoch 21/200\n",
      "17/17 [==============================] - 0s 2ms/step - loss: 0.5393 - accuracy: 0.8173 - val_loss: 0.5566 - val_accuracy: 0.7991\n",
      "Epoch 22/200\n",
      "17/17 [==============================] - 0s 2ms/step - loss: 0.5306 - accuracy: 0.8231 - val_loss: 0.5491 - val_accuracy: 0.8170\n",
      "Epoch 23/200\n",
      "17/17 [==============================] - 0s 2ms/step - loss: 0.5229 - accuracy: 0.8288 - val_loss: 0.5410 - val_accuracy: 0.8214\n",
      "Epoch 24/200\n",
      "17/17 [==============================] - 0s 2ms/step - loss: 0.5149 - accuracy: 0.8385 - val_loss: 0.5321 - val_accuracy: 0.8170\n",
      "Epoch 25/200\n",
      "17/17 [==============================] - 0s 2ms/step - loss: 0.5083 - accuracy: 0.8365 - val_loss: 0.5247 - val_accuracy: 0.8214\n",
      "Epoch 26/200\n",
      "17/17 [==============================] - 0s 3ms/step - loss: 0.5012 - accuracy: 0.8385 - val_loss: 0.5178 - val_accuracy: 0.8170\n",
      "Epoch 27/200\n",
      "17/17 [==============================] - 0s 3ms/step - loss: 0.4954 - accuracy: 0.8385 - val_loss: 0.5125 - val_accuracy: 0.8304\n",
      "Epoch 28/200\n",
      "17/17 [==============================] - 0s 3ms/step - loss: 0.4888 - accuracy: 0.8404 - val_loss: 0.5064 - val_accuracy: 0.8348\n",
      "Epoch 29/200\n",
      "17/17 [==============================] - 0s 2ms/step - loss: 0.4837 - accuracy: 0.8462 - val_loss: 0.5003 - val_accuracy: 0.8393\n",
      "Epoch 30/200\n",
      "17/17 [==============================] - 0s 2ms/step - loss: 0.4779 - accuracy: 0.8481 - val_loss: 0.4958 - val_accuracy: 0.8348\n",
      "Epoch 31/200\n",
      "17/17 [==============================] - 0s 2ms/step - loss: 0.4729 - accuracy: 0.8481 - val_loss: 0.4905 - val_accuracy: 0.8438\n",
      "Epoch 32/200\n",
      "17/17 [==============================] - 0s 2ms/step - loss: 0.4679 - accuracy: 0.8500 - val_loss: 0.4855 - val_accuracy: 0.8482\n",
      "Epoch 33/200\n",
      "17/17 [==============================] - 0s 2ms/step - loss: 0.4635 - accuracy: 0.8519 - val_loss: 0.4814 - val_accuracy: 0.8482\n",
      "Epoch 34/200\n",
      "17/17 [==============================] - 0s 2ms/step - loss: 0.4598 - accuracy: 0.8519 - val_loss: 0.4788 - val_accuracy: 0.8438\n",
      "Epoch 35/200\n",
      "17/17 [==============================] - 0s 2ms/step - loss: 0.4576 - accuracy: 0.8462 - val_loss: 0.4720 - val_accuracy: 0.8393\n",
      "Epoch 36/200\n",
      "17/17 [==============================] - 0s 2ms/step - loss: 0.4512 - accuracy: 0.8519 - val_loss: 0.4691 - val_accuracy: 0.8438\n",
      "Epoch 37/200\n",
      "17/17 [==============================] - 0s 2ms/step - loss: 0.4472 - accuracy: 0.8538 - val_loss: 0.4661 - val_accuracy: 0.8438\n",
      "Epoch 38/200\n",
      "17/17 [==============================] - 0s 3ms/step - loss: 0.4438 - accuracy: 0.8538 - val_loss: 0.4622 - val_accuracy: 0.8393\n",
      "Epoch 39/200\n",
      "17/17 [==============================] - 0s 4ms/step - loss: 0.4400 - accuracy: 0.8538 - val_loss: 0.4588 - val_accuracy: 0.8438\n",
      "Epoch 40/200\n",
      "17/17 [==============================] - 0s 3ms/step - loss: 0.4372 - accuracy: 0.8519 - val_loss: 0.4550 - val_accuracy: 0.8348\n",
      "Epoch 41/200\n",
      "17/17 [==============================] - 0s 2ms/step - loss: 0.4335 - accuracy: 0.8538 - val_loss: 0.4532 - val_accuracy: 0.8393\n",
      "Epoch 42/200\n",
      "17/17 [==============================] - 0s 2ms/step - loss: 0.4305 - accuracy: 0.8577 - val_loss: 0.4495 - val_accuracy: 0.8393\n",
      "Epoch 43/200\n",
      "17/17 [==============================] - 0s 2ms/step - loss: 0.4273 - accuracy: 0.8596 - val_loss: 0.4461 - val_accuracy: 0.8393\n",
      "Epoch 44/200\n",
      "17/17 [==============================] - 0s 2ms/step - loss: 0.4242 - accuracy: 0.8596 - val_loss: 0.4431 - val_accuracy: 0.8393\n",
      "Epoch 45/200\n",
      "17/17 [==============================] - 0s 2ms/step - loss: 0.4215 - accuracy: 0.8558 - val_loss: 0.4397 - val_accuracy: 0.8482\n",
      "Epoch 46/200\n",
      "17/17 [==============================] - 0s 2ms/step - loss: 0.4188 - accuracy: 0.8596 - val_loss: 0.4388 - val_accuracy: 0.8348\n",
      "Epoch 47/200\n",
      "17/17 [==============================] - 0s 2ms/step - loss: 0.4170 - accuracy: 0.8615 - val_loss: 0.4355 - val_accuracy: 0.8348\n",
      "Epoch 48/200\n",
      "17/17 [==============================] - 0s 2ms/step - loss: 0.4137 - accuracy: 0.8615 - val_loss: 0.4329 - val_accuracy: 0.8438\n",
      "Epoch 49/200\n",
      "17/17 [==============================] - 0s 3ms/step - loss: 0.4120 - accuracy: 0.8577 - val_loss: 0.4294 - val_accuracy: 0.8482\n",
      "Epoch 50/200\n",
      "17/17 [==============================] - 0s 3ms/step - loss: 0.4090 - accuracy: 0.8558 - val_loss: 0.4285 - val_accuracy: 0.8438\n",
      "Epoch 51/200\n",
      "17/17 [==============================] - 0s 3ms/step - loss: 0.4070 - accuracy: 0.8615 - val_loss: 0.4261 - val_accuracy: 0.8438\n",
      "Epoch 52/200\n",
      "17/17 [==============================] - 0s 2ms/step - loss: 0.4047 - accuracy: 0.8596 - val_loss: 0.4236 - val_accuracy: 0.8482\n",
      "Epoch 53/200\n",
      "17/17 [==============================] - 0s 2ms/step - loss: 0.4026 - accuracy: 0.8577 - val_loss: 0.4218 - val_accuracy: 0.8438\n",
      "Epoch 54/200\n",
      "17/17 [==============================] - 0s 3ms/step - loss: 0.4006 - accuracy: 0.8615 - val_loss: 0.4206 - val_accuracy: 0.8438\n",
      "Epoch 55/200\n",
      "17/17 [==============================] - 0s 3ms/step - loss: 0.3990 - accuracy: 0.8615 - val_loss: 0.4180 - val_accuracy: 0.8438\n",
      "Epoch 56/200\n",
      "17/17 [==============================] - 0s 3ms/step - loss: 0.3969 - accuracy: 0.8596 - val_loss: 0.4164 - val_accuracy: 0.8438\n",
      "Epoch 57/200\n",
      "17/17 [==============================] - 0s 3ms/step - loss: 0.3956 - accuracy: 0.8692 - val_loss: 0.4161 - val_accuracy: 0.8438\n",
      "Epoch 58/200\n",
      "17/17 [==============================] - 0s 2ms/step - loss: 0.3936 - accuracy: 0.8712 - val_loss: 0.4145 - val_accuracy: 0.8438\n"
     ]
    },
    {
     "name": "stdout",
     "output_type": "stream",
     "text": [
      "Epoch 59/200\n",
      "17/17 [==============================] - 0s 2ms/step - loss: 0.3922 - accuracy: 0.8712 - val_loss: 0.4134 - val_accuracy: 0.8393\n",
      "Epoch 60/200\n",
      "17/17 [==============================] - 0s 3ms/step - loss: 0.3905 - accuracy: 0.8692 - val_loss: 0.4113 - val_accuracy: 0.8438\n",
      "Epoch 61/200\n",
      "17/17 [==============================] - 0s 3ms/step - loss: 0.3889 - accuracy: 0.8635 - val_loss: 0.4090 - val_accuracy: 0.8527\n",
      "Epoch 62/200\n",
      "17/17 [==============================] - 0s 3ms/step - loss: 0.3865 - accuracy: 0.8731 - val_loss: 0.4094 - val_accuracy: 0.8393\n",
      "Epoch 63/200\n",
      "17/17 [==============================] - 0s 2ms/step - loss: 0.3854 - accuracy: 0.8750 - val_loss: 0.4072 - val_accuracy: 0.8438\n",
      "Epoch 64/200\n",
      "17/17 [==============================] - 0s 2ms/step - loss: 0.3840 - accuracy: 0.8750 - val_loss: 0.4062 - val_accuracy: 0.8482\n",
      "Epoch 65/200\n",
      "17/17 [==============================] - 0s 2ms/step - loss: 0.3824 - accuracy: 0.8750 - val_loss: 0.4045 - val_accuracy: 0.8527\n",
      "Epoch 66/200\n",
      "17/17 [==============================] - 0s 2ms/step - loss: 0.3811 - accuracy: 0.8769 - val_loss: 0.4036 - val_accuracy: 0.8482\n",
      "Epoch 67/200\n",
      "17/17 [==============================] - 0s 2ms/step - loss: 0.3799 - accuracy: 0.8750 - val_loss: 0.4019 - val_accuracy: 0.8482\n",
      "Epoch 68/200\n",
      "17/17 [==============================] - 0s 2ms/step - loss: 0.3782 - accuracy: 0.8769 - val_loss: 0.4014 - val_accuracy: 0.8438\n",
      "Epoch 69/200\n",
      "17/17 [==============================] - 0s 2ms/step - loss: 0.3772 - accuracy: 0.8769 - val_loss: 0.3995 - val_accuracy: 0.8482\n",
      "Epoch 70/200\n",
      "17/17 [==============================] - 0s 2ms/step - loss: 0.3763 - accuracy: 0.8712 - val_loss: 0.3981 - val_accuracy: 0.8482\n",
      "Epoch 71/200\n",
      "17/17 [==============================] - 0s 2ms/step - loss: 0.3742 - accuracy: 0.8750 - val_loss: 0.3970 - val_accuracy: 0.8482\n",
      "Epoch 72/200\n",
      "17/17 [==============================] - 0s 2ms/step - loss: 0.3733 - accuracy: 0.8750 - val_loss: 0.3963 - val_accuracy: 0.8482\n",
      "Epoch 73/200\n",
      "17/17 [==============================] - 0s 3ms/step - loss: 0.3733 - accuracy: 0.8712 - val_loss: 0.3944 - val_accuracy: 0.8527\n",
      "Epoch 74/200\n",
      "17/17 [==============================] - 0s 2ms/step - loss: 0.3712 - accuracy: 0.8750 - val_loss: 0.3944 - val_accuracy: 0.8482\n",
      "Epoch 75/200\n",
      "17/17 [==============================] - 0s 2ms/step - loss: 0.3702 - accuracy: 0.8769 - val_loss: 0.3928 - val_accuracy: 0.8527\n",
      "Epoch 76/200\n",
      "17/17 [==============================] - 0s 2ms/step - loss: 0.3707 - accuracy: 0.8769 - val_loss: 0.3926 - val_accuracy: 0.8438\n",
      "Epoch 77/200\n",
      "17/17 [==============================] - 0s 2ms/step - loss: 0.3674 - accuracy: 0.8769 - val_loss: 0.3904 - val_accuracy: 0.8482\n",
      "Epoch 78/200\n",
      "17/17 [==============================] - 0s 2ms/step - loss: 0.3657 - accuracy: 0.8769 - val_loss: 0.3898 - val_accuracy: 0.8438\n",
      "Epoch 79/200\n",
      "17/17 [==============================] - 0s 2ms/step - loss: 0.3648 - accuracy: 0.8769 - val_loss: 0.3891 - val_accuracy: 0.8482\n",
      "Epoch 80/200\n",
      "17/17 [==============================] - 0s 2ms/step - loss: 0.3637 - accuracy: 0.8750 - val_loss: 0.3879 - val_accuracy: 0.8482\n",
      "Epoch 81/200\n",
      "17/17 [==============================] - 0s 2ms/step - loss: 0.3629 - accuracy: 0.8750 - val_loss: 0.3870 - val_accuracy: 0.8438\n",
      "Epoch 82/200\n",
      "17/17 [==============================] - 0s 2ms/step - loss: 0.3616 - accuracy: 0.8769 - val_loss: 0.3859 - val_accuracy: 0.8482\n",
      "Epoch 83/200\n",
      "17/17 [==============================] - 0s 2ms/step - loss: 0.3611 - accuracy: 0.8769 - val_loss: 0.3857 - val_accuracy: 0.8482\n",
      "Epoch 84/200\n",
      "17/17 [==============================] - 0s 3ms/step - loss: 0.3602 - accuracy: 0.8769 - val_loss: 0.3842 - val_accuracy: 0.8482\n",
      "Epoch 85/200\n",
      "17/17 [==============================] - 0s 3ms/step - loss: 0.3587 - accuracy: 0.8769 - val_loss: 0.3831 - val_accuracy: 0.8527\n",
      "Epoch 86/200\n",
      "17/17 [==============================] - 0s 3ms/step - loss: 0.3578 - accuracy: 0.8750 - val_loss: 0.3829 - val_accuracy: 0.8482\n",
      "Epoch 87/200\n",
      "17/17 [==============================] - 0s 2ms/step - loss: 0.3567 - accuracy: 0.8769 - val_loss: 0.3818 - val_accuracy: 0.8482\n",
      "Epoch 88/200\n",
      "17/17 [==============================] - 0s 2ms/step - loss: 0.3559 - accuracy: 0.8750 - val_loss: 0.3814 - val_accuracy: 0.8438\n",
      "Epoch 89/200\n",
      "17/17 [==============================] - 0s 2ms/step - loss: 0.3549 - accuracy: 0.8788 - val_loss: 0.3810 - val_accuracy: 0.8527\n",
      "Epoch 90/200\n",
      "17/17 [==============================] - 0s 2ms/step - loss: 0.3543 - accuracy: 0.8788 - val_loss: 0.3800 - val_accuracy: 0.8527\n",
      "Epoch 91/200\n",
      "17/17 [==============================] - 0s 2ms/step - loss: 0.3539 - accuracy: 0.8788 - val_loss: 0.3791 - val_accuracy: 0.8527\n",
      "Epoch 92/200\n",
      "17/17 [==============================] - 0s 3ms/step - loss: 0.3534 - accuracy: 0.8769 - val_loss: 0.3785 - val_accuracy: 0.8482\n",
      "Epoch 93/200\n",
      "17/17 [==============================] - 0s 2ms/step - loss: 0.3526 - accuracy: 0.8808 - val_loss: 0.3782 - val_accuracy: 0.8438\n",
      "Epoch 94/200\n",
      "17/17 [==============================] - 0s 2ms/step - loss: 0.3513 - accuracy: 0.8827 - val_loss: 0.3772 - val_accuracy: 0.8527\n",
      "Epoch 95/200\n",
      "17/17 [==============================] - 0s 2ms/step - loss: 0.3501 - accuracy: 0.8769 - val_loss: 0.3769 - val_accuracy: 0.8527\n",
      "Epoch 96/200\n",
      "17/17 [==============================] - 0s 3ms/step - loss: 0.3492 - accuracy: 0.8808 - val_loss: 0.3764 - val_accuracy: 0.8482\n",
      "Epoch 97/200\n",
      "17/17 [==============================] - 0s 3ms/step - loss: 0.3485 - accuracy: 0.8788 - val_loss: 0.3750 - val_accuracy: 0.8527\n",
      "Epoch 98/200\n",
      "17/17 [==============================] - 0s 3ms/step - loss: 0.3479 - accuracy: 0.8788 - val_loss: 0.3746 - val_accuracy: 0.8527\n",
      "Epoch 99/200\n",
      "17/17 [==============================] - 0s 2ms/step - loss: 0.3466 - accuracy: 0.8788 - val_loss: 0.3736 - val_accuracy: 0.8527\n",
      "Epoch 100/200\n",
      "17/17 [==============================] - 0s 2ms/step - loss: 0.3470 - accuracy: 0.8808 - val_loss: 0.3733 - val_accuracy: 0.8482\n",
      "Epoch 101/200\n",
      "17/17 [==============================] - 0s 2ms/step - loss: 0.3449 - accuracy: 0.8788 - val_loss: 0.3720 - val_accuracy: 0.8527\n",
      "Epoch 102/200\n",
      "17/17 [==============================] - 0s 2ms/step - loss: 0.3447 - accuracy: 0.8808 - val_loss: 0.3724 - val_accuracy: 0.8527\n",
      "Epoch 103/200\n",
      "17/17 [==============================] - 0s 2ms/step - loss: 0.3440 - accuracy: 0.8808 - val_loss: 0.3718 - val_accuracy: 0.8527\n",
      "Epoch 104/200\n",
      "17/17 [==============================] - 0s 2ms/step - loss: 0.3430 - accuracy: 0.8788 - val_loss: 0.3705 - val_accuracy: 0.8527\n",
      "Epoch 105/200\n",
      "17/17 [==============================] - 0s 2ms/step - loss: 0.3424 - accuracy: 0.8808 - val_loss: 0.3700 - val_accuracy: 0.8527\n",
      "Epoch 106/200\n",
      "17/17 [==============================] - 0s 3ms/step - loss: 0.3413 - accuracy: 0.8769 - val_loss: 0.3697 - val_accuracy: 0.8482\n",
      "Epoch 107/200\n",
      "17/17 [==============================] - 0s 3ms/step - loss: 0.3404 - accuracy: 0.8808 - val_loss: 0.3689 - val_accuracy: 0.8482\n",
      "Epoch 108/200\n",
      "17/17 [==============================] - 0s 3ms/step - loss: 0.3398 - accuracy: 0.8808 - val_loss: 0.3676 - val_accuracy: 0.8482\n",
      "Epoch 109/200\n",
      "17/17 [==============================] - 0s 3ms/step - loss: 0.3393 - accuracy: 0.8808 - val_loss: 0.3669 - val_accuracy: 0.8527\n",
      "Epoch 110/200\n",
      "17/17 [==============================] - 0s 2ms/step - loss: 0.3386 - accuracy: 0.8788 - val_loss: 0.3663 - val_accuracy: 0.8527\n",
      "Epoch 111/200\n",
      "17/17 [==============================] - 0s 2ms/step - loss: 0.3379 - accuracy: 0.8769 - val_loss: 0.3659 - val_accuracy: 0.8527\n",
      "Epoch 112/200\n",
      "17/17 [==============================] - 0s 2ms/step - loss: 0.3371 - accuracy: 0.8788 - val_loss: 0.3650 - val_accuracy: 0.8527\n",
      "Epoch 113/200\n",
      "17/17 [==============================] - 0s 3ms/step - loss: 0.3364 - accuracy: 0.8808 - val_loss: 0.3644 - val_accuracy: 0.8571\n",
      "Epoch 114/200\n",
      "17/17 [==============================] - 0s 3ms/step - loss: 0.3354 - accuracy: 0.8808 - val_loss: 0.3637 - val_accuracy: 0.8527\n",
      "Epoch 115/200\n",
      "17/17 [==============================] - 0s 2ms/step - loss: 0.3346 - accuracy: 0.8808 - val_loss: 0.3626 - val_accuracy: 0.8527\n",
      "Epoch 116/200\n"
     ]
    },
    {
     "name": "stdout",
     "output_type": "stream",
     "text": [
      "17/17 [==============================] - 0s 2ms/step - loss: 0.3339 - accuracy: 0.8827 - val_loss: 0.3624 - val_accuracy: 0.8661\n",
      "Epoch 117/200\n",
      "17/17 [==============================] - 0s 2ms/step - loss: 0.3332 - accuracy: 0.8788 - val_loss: 0.3613 - val_accuracy: 0.8527\n",
      "Epoch 118/200\n",
      "17/17 [==============================] - 0s 2ms/step - loss: 0.3325 - accuracy: 0.8827 - val_loss: 0.3608 - val_accuracy: 0.8527\n",
      "Epoch 119/200\n",
      "17/17 [==============================] - 0s 3ms/step - loss: 0.3316 - accuracy: 0.8808 - val_loss: 0.3602 - val_accuracy: 0.8527\n",
      "Epoch 120/200\n",
      "17/17 [==============================] - 0s 3ms/step - loss: 0.3308 - accuracy: 0.8827 - val_loss: 0.3598 - val_accuracy: 0.8482\n",
      "Epoch 121/200\n",
      "17/17 [==============================] - 0s 3ms/step - loss: 0.3302 - accuracy: 0.8827 - val_loss: 0.3596 - val_accuracy: 0.8482\n",
      "Epoch 122/200\n",
      "17/17 [==============================] - 0s 2ms/step - loss: 0.3293 - accuracy: 0.8865 - val_loss: 0.3588 - val_accuracy: 0.8616\n",
      "Epoch 123/200\n",
      "17/17 [==============================] - 0s 2ms/step - loss: 0.3278 - accuracy: 0.8846 - val_loss: 0.3581 - val_accuracy: 0.8482\n",
      "Epoch 124/200\n",
      "17/17 [==============================] - 0s 2ms/step - loss: 0.3276 - accuracy: 0.8846 - val_loss: 0.3576 - val_accuracy: 0.8527\n",
      "Epoch 125/200\n",
      "17/17 [==============================] - 0s 2ms/step - loss: 0.3262 - accuracy: 0.8846 - val_loss: 0.3567 - val_accuracy: 0.8616\n",
      "Epoch 126/200\n",
      "17/17 [==============================] - 0s 2ms/step - loss: 0.3268 - accuracy: 0.8865 - val_loss: 0.3561 - val_accuracy: 0.8705\n",
      "Epoch 127/200\n",
      "17/17 [==============================] - 0s 2ms/step - loss: 0.3245 - accuracy: 0.8865 - val_loss: 0.3556 - val_accuracy: 0.8527\n",
      "Epoch 128/200\n",
      "17/17 [==============================] - 0s 2ms/step - loss: 0.3240 - accuracy: 0.8846 - val_loss: 0.3550 - val_accuracy: 0.8616\n",
      "Epoch 129/200\n",
      "17/17 [==============================] - 0s 2ms/step - loss: 0.3251 - accuracy: 0.8846 - val_loss: 0.3541 - val_accuracy: 0.8571\n",
      "Epoch 130/200\n",
      "17/17 [==============================] - 0s 2ms/step - loss: 0.3224 - accuracy: 0.8885 - val_loss: 0.3537 - val_accuracy: 0.8616\n",
      "Epoch 131/200\n",
      "17/17 [==============================] - 0s 3ms/step - loss: 0.3216 - accuracy: 0.8865 - val_loss: 0.3529 - val_accuracy: 0.8571\n",
      "Epoch 132/200\n",
      "17/17 [==============================] - 0s 4ms/step - loss: 0.3212 - accuracy: 0.8865 - val_loss: 0.3522 - val_accuracy: 0.8661\n",
      "Epoch 133/200\n",
      "17/17 [==============================] - 0s 3ms/step - loss: 0.3201 - accuracy: 0.8885 - val_loss: 0.3517 - val_accuracy: 0.8661\n",
      "Epoch 134/200\n",
      "17/17 [==============================] - 0s 3ms/step - loss: 0.3191 - accuracy: 0.8865 - val_loss: 0.3514 - val_accuracy: 0.8571\n",
      "Epoch 135/200\n",
      "17/17 [==============================] - 0s 2ms/step - loss: 0.3181 - accuracy: 0.8865 - val_loss: 0.3507 - val_accuracy: 0.8616\n",
      "Epoch 136/200\n",
      "17/17 [==============================] - 0s 2ms/step - loss: 0.3174 - accuracy: 0.8885 - val_loss: 0.3505 - val_accuracy: 0.8661\n",
      "Epoch 137/200\n",
      "17/17 [==============================] - 0s 2ms/step - loss: 0.3175 - accuracy: 0.8885 - val_loss: 0.3495 - val_accuracy: 0.8661\n",
      "Epoch 138/200\n",
      "17/17 [==============================] - 0s 2ms/step - loss: 0.3161 - accuracy: 0.8885 - val_loss: 0.3491 - val_accuracy: 0.8661\n",
      "Epoch 139/200\n",
      "17/17 [==============================] - 0s 2ms/step - loss: 0.3156 - accuracy: 0.8885 - val_loss: 0.3483 - val_accuracy: 0.8661\n",
      "Epoch 140/200\n",
      "17/17 [==============================] - 0s 2ms/step - loss: 0.3145 - accuracy: 0.8885 - val_loss: 0.3473 - val_accuracy: 0.8661\n",
      "Epoch 141/200\n",
      "17/17 [==============================] - 0s 2ms/step - loss: 0.3134 - accuracy: 0.8885 - val_loss: 0.3465 - val_accuracy: 0.8661\n",
      "Epoch 142/200\n",
      "17/17 [==============================] - 0s 2ms/step - loss: 0.3131 - accuracy: 0.8885 - val_loss: 0.3462 - val_accuracy: 0.8661\n",
      "Epoch 143/200\n",
      "17/17 [==============================] - 0s 3ms/step - loss: 0.3122 - accuracy: 0.8885 - val_loss: 0.3451 - val_accuracy: 0.8661\n",
      "Epoch 144/200\n",
      "17/17 [==============================] - 0s 3ms/step - loss: 0.3118 - accuracy: 0.8885 - val_loss: 0.3440 - val_accuracy: 0.8661\n",
      "Epoch 145/200\n",
      "17/17 [==============================] - 0s 2ms/step - loss: 0.3103 - accuracy: 0.8885 - val_loss: 0.3436 - val_accuracy: 0.8616\n",
      "Epoch 146/200\n",
      "17/17 [==============================] - 0s 2ms/step - loss: 0.3104 - accuracy: 0.8865 - val_loss: 0.3429 - val_accuracy: 0.8616\n",
      "Epoch 147/200\n",
      "17/17 [==============================] - 0s 2ms/step - loss: 0.3100 - accuracy: 0.8885 - val_loss: 0.3423 - val_accuracy: 0.8661\n",
      "Epoch 148/200\n",
      "17/17 [==============================] - 0s 2ms/step - loss: 0.3081 - accuracy: 0.8885 - val_loss: 0.3416 - val_accuracy: 0.8616\n",
      "Epoch 149/200\n",
      "17/17 [==============================] - 0s 3ms/step - loss: 0.3079 - accuracy: 0.8885 - val_loss: 0.3408 - val_accuracy: 0.8661\n",
      "Epoch 150/200\n",
      "17/17 [==============================] - 0s 2ms/step - loss: 0.3069 - accuracy: 0.8885 - val_loss: 0.3404 - val_accuracy: 0.8661\n",
      "Epoch 151/200\n",
      "17/17 [==============================] - 0s 2ms/step - loss: 0.3066 - accuracy: 0.8904 - val_loss: 0.3397 - val_accuracy: 0.8661\n",
      "Epoch 152/200\n",
      "17/17 [==============================] - 0s 2ms/step - loss: 0.3055 - accuracy: 0.8885 - val_loss: 0.3387 - val_accuracy: 0.8661\n",
      "Epoch 153/200\n",
      "17/17 [==============================] - 0s 3ms/step - loss: 0.3049 - accuracy: 0.8885 - val_loss: 0.3375 - val_accuracy: 0.8661\n",
      "Epoch 154/200\n",
      "17/17 [==============================] - 0s 3ms/step - loss: 0.3043 - accuracy: 0.8904 - val_loss: 0.3368 - val_accuracy: 0.8616\n",
      "Epoch 155/200\n",
      "17/17 [==============================] - 0s 3ms/step - loss: 0.3031 - accuracy: 0.8904 - val_loss: 0.3358 - val_accuracy: 0.8750\n",
      "Epoch 156/200\n",
      "17/17 [==============================] - 0s 2ms/step - loss: 0.3030 - accuracy: 0.8885 - val_loss: 0.3350 - val_accuracy: 0.8705\n",
      "Epoch 157/200\n",
      "17/17 [==============================] - 0s 2ms/step - loss: 0.3024 - accuracy: 0.8904 - val_loss: 0.3340 - val_accuracy: 0.8795\n",
      "Epoch 158/200\n",
      "17/17 [==============================] - 0s 2ms/step - loss: 0.3011 - accuracy: 0.8942 - val_loss: 0.3337 - val_accuracy: 0.8750\n",
      "Epoch 159/200\n",
      "17/17 [==============================] - 0s 2ms/step - loss: 0.3012 - accuracy: 0.8923 - val_loss: 0.3332 - val_accuracy: 0.8795\n",
      "Epoch 160/200\n",
      "17/17 [==============================] - 0s 2ms/step - loss: 0.3000 - accuracy: 0.8923 - val_loss: 0.3324 - val_accuracy: 0.8795\n",
      "Epoch 161/200\n",
      "17/17 [==============================] - 0s 2ms/step - loss: 0.2993 - accuracy: 0.8923 - val_loss: 0.3317 - val_accuracy: 0.8795\n",
      "Epoch 162/200\n",
      "17/17 [==============================] - 0s 2ms/step - loss: 0.2987 - accuracy: 0.8923 - val_loss: 0.3316 - val_accuracy: 0.8750\n",
      "Epoch 163/200\n",
      "17/17 [==============================] - 0s 2ms/step - loss: 0.2984 - accuracy: 0.8942 - val_loss: 0.3303 - val_accuracy: 0.8795\n",
      "Epoch 164/200\n",
      "17/17 [==============================] - 0s 2ms/step - loss: 0.2973 - accuracy: 0.8942 - val_loss: 0.3305 - val_accuracy: 0.8750\n",
      "Epoch 165/200\n",
      "17/17 [==============================] - 0s 2ms/step - loss: 0.2964 - accuracy: 0.8923 - val_loss: 0.3296 - val_accuracy: 0.8795\n",
      "Epoch 166/200\n",
      "17/17 [==============================] - 0s 3ms/step - loss: 0.2957 - accuracy: 0.8923 - val_loss: 0.3287 - val_accuracy: 0.8795\n",
      "Epoch 167/200\n",
      "17/17 [==============================] - 0s 3ms/step - loss: 0.2950 - accuracy: 0.8942 - val_loss: 0.3288 - val_accuracy: 0.8705\n",
      "Epoch 168/200\n",
      "17/17 [==============================] - 0s 3ms/step - loss: 0.2944 - accuracy: 0.8923 - val_loss: 0.3278 - val_accuracy: 0.8795\n",
      "Epoch 169/200\n",
      "17/17 [==============================] - 0s 2ms/step - loss: 0.2939 - accuracy: 0.8942 - val_loss: 0.3271 - val_accuracy: 0.8795\n",
      "Epoch 170/200\n",
      "17/17 [==============================] - 0s 2ms/step - loss: 0.2931 - accuracy: 0.8942 - val_loss: 0.3265 - val_accuracy: 0.8839\n",
      "Epoch 171/200\n",
      "17/17 [==============================] - 0s 2ms/step - loss: 0.2926 - accuracy: 0.8923 - val_loss: 0.3261 - val_accuracy: 0.8795\n",
      "Epoch 172/200\n",
      "17/17 [==============================] - 0s 2ms/step - loss: 0.2925 - accuracy: 0.8962 - val_loss: 0.3259 - val_accuracy: 0.8750\n",
      "Epoch 173/200\n"
     ]
    },
    {
     "name": "stdout",
     "output_type": "stream",
     "text": [
      "17/17 [==============================] - 0s 2ms/step - loss: 0.2910 - accuracy: 0.8981 - val_loss: 0.3250 - val_accuracy: 0.8795\n",
      "Epoch 174/200\n",
      "17/17 [==============================] - 0s 2ms/step - loss: 0.2904 - accuracy: 0.8981 - val_loss: 0.3245 - val_accuracy: 0.8750\n",
      "Epoch 175/200\n",
      "17/17 [==============================] - 0s 2ms/step - loss: 0.2904 - accuracy: 0.8981 - val_loss: 0.3236 - val_accuracy: 0.8795\n",
      "Epoch 176/200\n",
      "17/17 [==============================] - 0s 2ms/step - loss: 0.2893 - accuracy: 0.8981 - val_loss: 0.3240 - val_accuracy: 0.8750\n",
      "Epoch 177/200\n",
      "17/17 [==============================] - 0s 3ms/step - loss: 0.2883 - accuracy: 0.9019 - val_loss: 0.3229 - val_accuracy: 0.8839\n",
      "Epoch 178/200\n",
      "17/17 [==============================] - 0s 3ms/step - loss: 0.2881 - accuracy: 0.8981 - val_loss: 0.3223 - val_accuracy: 0.8750\n",
      "Epoch 179/200\n",
      "17/17 [==============================] - 0s 4ms/step - loss: 0.2871 - accuracy: 0.8981 - val_loss: 0.3219 - val_accuracy: 0.8795\n",
      "Epoch 180/200\n",
      "17/17 [==============================] - 0s 2ms/step - loss: 0.2866 - accuracy: 0.9000 - val_loss: 0.3220 - val_accuracy: 0.8750\n",
      "Epoch 181/200\n",
      "17/17 [==============================] - 0s 2ms/step - loss: 0.2858 - accuracy: 0.9000 - val_loss: 0.3208 - val_accuracy: 0.8750\n",
      "Epoch 182/200\n",
      "17/17 [==============================] - 0s 2ms/step - loss: 0.2851 - accuracy: 0.9000 - val_loss: 0.3198 - val_accuracy: 0.8795\n",
      "Epoch 183/200\n",
      "17/17 [==============================] - 0s 2ms/step - loss: 0.2847 - accuracy: 0.9000 - val_loss: 0.3195 - val_accuracy: 0.8750\n",
      "Epoch 184/200\n",
      "17/17 [==============================] - 0s 2ms/step - loss: 0.2837 - accuracy: 0.9000 - val_loss: 0.3187 - val_accuracy: 0.8795\n",
      "Epoch 185/200\n",
      "17/17 [==============================] - 0s 2ms/step - loss: 0.2834 - accuracy: 0.9000 - val_loss: 0.3184 - val_accuracy: 0.8750\n",
      "Epoch 186/200\n",
      "17/17 [==============================] - 0s 2ms/step - loss: 0.2827 - accuracy: 0.8981 - val_loss: 0.3182 - val_accuracy: 0.8795\n",
      "Epoch 187/200\n",
      "17/17 [==============================] - 0s 2ms/step - loss: 0.2825 - accuracy: 0.9019 - val_loss: 0.3171 - val_accuracy: 0.8884\n",
      "Epoch 188/200\n",
      "17/17 [==============================] - 0s 2ms/step - loss: 0.2820 - accuracy: 0.8981 - val_loss: 0.3173 - val_accuracy: 0.8795\n",
      "Epoch 189/200\n",
      "17/17 [==============================] - 0s 3ms/step - loss: 0.2805 - accuracy: 0.8981 - val_loss: 0.3167 - val_accuracy: 0.8795\n",
      "Epoch 190/200\n",
      "17/17 [==============================] - 0s 3ms/step - loss: 0.2803 - accuracy: 0.8981 - val_loss: 0.3163 - val_accuracy: 0.8795\n",
      "Epoch 191/200\n",
      "17/17 [==============================] - 0s 3ms/step - loss: 0.2798 - accuracy: 0.8981 - val_loss: 0.3147 - val_accuracy: 0.8795\n",
      "Epoch 192/200\n",
      "17/17 [==============================] - 0s 2ms/step - loss: 0.2781 - accuracy: 0.8981 - val_loss: 0.3152 - val_accuracy: 0.8795\n",
      "Epoch 193/200\n",
      "17/17 [==============================] - 0s 2ms/step - loss: 0.2780 - accuracy: 0.8981 - val_loss: 0.3138 - val_accuracy: 0.8795\n",
      "Epoch 194/200\n",
      "17/17 [==============================] - 0s 2ms/step - loss: 0.2784 - accuracy: 0.8981 - val_loss: 0.3136 - val_accuracy: 0.8839\n",
      "Epoch 195/200\n",
      "17/17 [==============================] - 0s 2ms/step - loss: 0.2779 - accuracy: 0.9000 - val_loss: 0.3150 - val_accuracy: 0.8795\n",
      "Epoch 196/200\n",
      "17/17 [==============================] - 0s 2ms/step - loss: 0.2766 - accuracy: 0.9000 - val_loss: 0.3130 - val_accuracy: 0.8795\n",
      "Epoch 197/200\n",
      "17/17 [==============================] - 0s 2ms/step - loss: 0.2757 - accuracy: 0.9000 - val_loss: 0.3118 - val_accuracy: 0.8795\n",
      "Epoch 198/200\n",
      "17/17 [==============================] - 0s 2ms/step - loss: 0.2750 - accuracy: 0.8981 - val_loss: 0.3112 - val_accuracy: 0.8795\n",
      "Epoch 199/200\n",
      "17/17 [==============================] - 0s 2ms/step - loss: 0.2745 - accuracy: 0.8981 - val_loss: 0.3103 - val_accuracy: 0.8839\n",
      "Epoch 200/200\n",
      "17/17 [==============================] - 0s 2ms/step - loss: 0.2743 - accuracy: 0.9000 - val_loss: 0.3098 - val_accuracy: 0.8839\n"
     ]
    }
   ],
   "source": [
    "history1=model1.fit(X_train, y_train, validation_data=(X_test, y_test),epochs=200)"
   ]
  },
  {
   "cell_type": "markdown",
   "id": "appreciated-spokesman",
   "metadata": {},
   "source": [
    "# Evaluate the model"
   ]
  },
  {
   "cell_type": "code",
   "execution_count": 32,
   "id": "formal-program",
   "metadata": {},
   "outputs": [
    {
     "name": "stdout",
     "output_type": "stream",
     "text": [
      "17/17 [==============================] - 0s 2ms/step - loss: 0.2730 - accuracy: 0.8981\n",
      "7/7 [==============================] - 0s 1ms/step - loss: 0.3098 - accuracy: 0.8839\n",
      "Train: 0.898, Test: 0.884\n"
     ]
    }
   ],
   "source": [
    "# evaluate the model\n",
    "_,train_acc = model1.evaluate(X_train, y_train)\n",
    "_,test_acc = model1.evaluate(X_test, y_test)\n",
    "print('Train: %.3f, Test: %.3f' % (train_acc, test_acc))"
   ]
  },
  {
   "cell_type": "markdown",
   "id": "incorrect-semiconductor",
   "metadata": {},
   "source": [
    "# Summarize history for loss"
   ]
  },
  {
   "cell_type": "code",
   "execution_count": 33,
   "id": "matched-store",
   "metadata": {},
   "outputs": [
    {
     "data": {
      "image/png": "[encoded data removed]",
      "text/plain": [
       "<Figure size 432x288 with 1 Axes>"
      ]
     },
     "metadata": {
      "needs_background": "light"
     },
     "output_type": "display_data"
    }
   ],
   "source": [
    "plt.plot(history1.history['loss'])\n",
    "plt.plot(history1.history['val_loss'])\n",
    "plt.title('model loss')\n",
    "plt.ylabel('loss')\n",
    "plt.xlabel('epoch')\n",
    "plt.legend(['train', 'test'], loc='upper left')\n",
    "plt.show()"
   ]
  },
  {
   "cell_type": "markdown",
   "id": "laughing-bracelet",
   "metadata": {},
   "source": [
    "# Summarize history for accuracy"
   ]
  },
  {
   "cell_type": "code",
   "execution_count": 34,
   "id": "parallel-process",
   "metadata": {},
   "outputs": [
    {
     "data": {
      "text/plain": [
       "<matplotlib.legend.Legend at 0x2444cb98c08>"
      ]
     },
     "execution_count": 34,
     "metadata": {},
     "output_type": "execute_result"
    },
    {
     "data": {
      "image/png": "[encoded data removed]",
      "text/plain": [
       "<Figure size 432x288 with 1 Axes>"
      ]
     },
     "metadata": {
      "needs_background": "light"
     },
     "output_type": "display_data"
    }
   ],
   "source": [
    "plt.plot(history1.history['accuracy'])\n",
    "plt.plot(history1.history['val_accuracy'])\n",
    "plt.title('model accuracy')\n",
    "plt.ylabel('accuracy')\n",
    "plt.xlabel('epoch')\n",
    "plt.legend(['train', 'test'], loc='upper left')"
   ]
  },
  {
   "cell_type": "markdown",
   "id": "surface-cherry",
   "metadata": {},
   "source": [
    "# Prediction"
   ]
  },
  {
   "cell_type": "code",
   "execution_count": 35,
   "id": "sunset-cartoon",
   "metadata": {},
   "outputs": [],
   "source": [
    "predict_y=model1.predict(X_test)\n",
    "predict_value=[]\n",
    "for predict in predict_y:\n",
    "    if predict>0.5:\n",
    "     predict_value.append(1)\n",
    "    else:\n",
    "        predict_value.append(0)"
   ]
  },
  {
   "cell_type": "markdown",
   "id": "hispanic-steering",
   "metadata": {},
   "source": [
    "# Confusion matrix"
   ]
  },
  {
   "cell_type": "code",
   "execution_count": 36,
   "id": "relevant-grill",
   "metadata": {},
   "outputs": [
    {
     "name": "stdout",
     "output_type": "stream",
     "text": [
      "[[120   2]\n",
      " [ 24  78]]\n"
     ]
    }
   ],
   "source": [
    "from sklearn.metrics import confusion_matrix\n",
    "print(confusion_matrix(y_test, predict_value))"
   ]
  },
  {
   "cell_type": "markdown",
   "id": "respective-prague",
   "metadata": {},
   "source": [
    "# Classification report"
   ]
  },
  {
   "cell_type": "code",
   "execution_count": 37,
   "id": "crude-professor",
   "metadata": {},
   "outputs": [
    {
     "name": "stdout",
     "output_type": "stream",
     "text": [
      "              precision    recall  f1-score   support\n",
      "\n",
      "           0       0.83      0.98      0.90       122\n",
      "           1       0.97      0.76      0.86       102\n",
      "\n",
      "    accuracy                           0.88       224\n",
      "   macro avg       0.90      0.87      0.88       224\n",
      "weighted avg       0.90      0.88      0.88       224\n",
      "\n"
     ]
    }
   ],
   "source": [
    "from sklearn.metrics import classification_report\n",
    "print(classification_report(y_test,predict_value))"
   ]
  },
  {
   "cell_type": "code",
   "execution_count": 38,
   "id": "valuable-republic",
   "metadata": {},
   "outputs": [],
   "source": [
    "model1.save('model1.h5')"
   ]
  },
  {
   "cell_type": "markdown",
   "id": "completed-artwork",
   "metadata": {},
   "source": [
    "# Train two more different neural network architectues"
   ]
  },
  {
   "cell_type": "code",
   "execution_count": 39,
   "id": "involved-brazilian",
   "metadata": {},
   "outputs": [
    {
     "name": "stdout",
     "output_type": "stream",
     "text": [
      "Model: \"sequential_1\"\n",
      "_________________________________________________________________\n",
      "Layer (type)                 Output Shape              Param #   \n",
      "=================================================================\n",
      "dense_2 (Dense)              (None, 12)                120       \n",
      "_________________________________________________________________\n",
      "dropout (Dropout)            (None, 12)                0         \n",
      "_________________________________________________________________\n",
      "dense_3 (Dense)              (None, 8)                 104       \n",
      "_________________________________________________________________\n",
      "dense_4 (Dense)              (None, 1)                 9         \n",
      "=================================================================\n",
      "Total params: 233\n",
      "Trainable params: 233\n",
      "Non-trainable params: 0\n",
      "_________________________________________________________________\n"
     ]
    }
   ],
   "source": [
    "model2= Sequential ()\n",
    "model2.add(Dense(12, input_dim=9, activation= 'relu' ))\n",
    "model2.add(Dropout(.25))\n",
    "model2.add(Dense(8, activation= 'relu' ))\n",
    "model2.add(Dense(1, activation= 'sigmoid' ))\n",
    "model2.summary()"
   ]
  },
  {
   "cell_type": "code",
   "execution_count": 40,
   "id": "instructional-district",
   "metadata": {},
   "outputs": [
    {
     "data": {
      "image/png": "[encoded data removed]",
      "text/plain": [
       "<IPython.core.display.Image object>"
      ]
     },
     "execution_count": 40,
     "metadata": {},
     "output_type": "execute_result"
    }
   ],
   "source": [
    "from keras.utils import plot_model\n",
    "plot_model(model2, to_file='multilayer_perceptron_graph.png')"
   ]
  },
  {
   "cell_type": "markdown",
   "id": "respected-colony",
   "metadata": {},
   "source": [
    "# Compile the model"
   ]
  },
  {
   "cell_type": "code",
   "execution_count": 41,
   "id": "killing-deployment",
   "metadata": {},
   "outputs": [],
   "source": [
    "model2.compile(loss= 'binary_crossentropy' , optimizer= 'adam' , metrics=[ 'accuracy' ])"
   ]
  },
  {
   "cell_type": "code",
   "execution_count": 42,
   "id": "statistical-affiliation",
   "metadata": {},
   "outputs": [],
   "source": [
    "from keras.callbacks import EarlyStopping\n",
    "es= EarlyStopping(monitor='val_loss', min_delta=0, patience=10, verbose=0, mode='auto')"
   ]
  },
  {
   "cell_type": "code",
   "execution_count": 43,
   "id": "industrial-cooler",
   "metadata": {},
   "outputs": [
    {
     "name": "stdout",
     "output_type": "stream",
     "text": [
      "Epoch 1/200\n",
      "17/17 [==============================] - 0s 12ms/step - loss: 0.8032 - accuracy: 0.4827 - val_loss: 0.6964 - val_accuracy: 0.5402\n",
      "Epoch 2/200\n",
      "17/17 [==============================] - 0s 2ms/step - loss: 0.7650 - accuracy: 0.4442 - val_loss: 0.6856 - val_accuracy: 0.5759\n",
      "Epoch 3/200\n",
      "17/17 [==============================] - 0s 2ms/step - loss: 0.7228 - accuracy: 0.4942 - val_loss: 0.6845 - val_accuracy: 0.5804\n",
      "Epoch 4/200\n",
      "17/17 [==============================] - 0s 2ms/step - loss: 0.7089 - accuracy: 0.5019 - val_loss: 0.6854 - val_accuracy: 0.5491\n",
      "Epoch 5/200\n",
      "17/17 [==============================] - 0s 2ms/step - loss: 0.6983 - accuracy: 0.5404 - val_loss: 0.6859 - val_accuracy: 0.5625\n",
      "Epoch 6/200\n",
      "17/17 [==============================] - 0s 2ms/step - loss: 0.6970 - accuracy: 0.5538 - val_loss: 0.6865 - val_accuracy: 0.5536\n",
      "Epoch 7/200\n",
      "17/17 [==============================] - 0s 3ms/step - loss: 0.6896 - accuracy: 0.5750 - val_loss: 0.6871 - val_accuracy: 0.5402\n",
      "Epoch 8/200\n",
      "17/17 [==============================] - 0s 3ms/step - loss: 0.6856 - accuracy: 0.5596 - val_loss: 0.6850 - val_accuracy: 0.5536\n",
      "Epoch 9/200\n",
      "17/17 [==============================] - 0s 2ms/step - loss: 0.6772 - accuracy: 0.5788 - val_loss: 0.6837 - val_accuracy: 0.5491\n",
      "Epoch 10/200\n",
      "17/17 [==============================] - 0s 2ms/step - loss: 0.6742 - accuracy: 0.5923 - val_loss: 0.6795 - val_accuracy: 0.5670\n",
      "Epoch 11/200\n",
      "17/17 [==============================] - 0s 2ms/step - loss: 0.6746 - accuracy: 0.5577 - val_loss: 0.6782 - val_accuracy: 0.5402\n",
      "Epoch 12/200\n",
      "17/17 [==============================] - 0s 2ms/step - loss: 0.6610 - accuracy: 0.5981 - val_loss: 0.6712 - val_accuracy: 0.5580\n",
      "Epoch 13/200\n",
      "17/17 [==============================] - 0s 2ms/step - loss: 0.6602 - accuracy: 0.6173 - val_loss: 0.6603 - val_accuracy: 0.6161\n",
      "Epoch 14/200\n",
      "17/17 [==============================] - 0s 2ms/step - loss: 0.6534 - accuracy: 0.6385 - val_loss: 0.6536 - val_accuracy: 0.6027\n",
      "Epoch 15/200\n",
      "17/17 [==============================] - 0s 3ms/step - loss: 0.6459 - accuracy: 0.6481 - val_loss: 0.6450 - val_accuracy: 0.6339\n",
      "Epoch 16/200\n",
      "17/17 [==============================] - 0s 2ms/step - loss: 0.6438 - accuracy: 0.6538 - val_loss: 0.6350 - val_accuracy: 0.6786\n",
      "Epoch 17/200\n",
      "17/17 [==============================] - 0s 2ms/step - loss: 0.6217 - accuracy: 0.6788 - val_loss: 0.6273 - val_accuracy: 0.7009\n",
      "Epoch 18/200\n",
      "17/17 [==============================] - 0s 3ms/step - loss: 0.6309 - accuracy: 0.6442 - val_loss: 0.6258 - val_accuracy: 0.6473\n",
      "Epoch 19/200\n",
      "17/17 [==============================] - 0s 3ms/step - loss: 0.6259 - accuracy: 0.6327 - val_loss: 0.6167 - val_accuracy: 0.6964\n",
      "Epoch 20/200\n",
      "17/17 [==============================] - 0s 3ms/step - loss: 0.6108 - accuracy: 0.6692 - val_loss: 0.6089 - val_accuracy: 0.7277\n",
      "Epoch 21/200\n",
      "17/17 [==============================] - 0s 2ms/step - loss: 0.5983 - accuracy: 0.6923 - val_loss: 0.5972 - val_accuracy: 0.7857\n",
      "Epoch 22/200\n",
      "17/17 [==============================] - 0s 2ms/step - loss: 0.5903 - accuracy: 0.6981 - val_loss: 0.5891 - val_accuracy: 0.7857\n",
      "Epoch 23/200\n",
      "17/17 [==============================] - 0s 2ms/step - loss: 0.5686 - accuracy: 0.7462 - val_loss: 0.5804 - val_accuracy: 0.7768\n",
      "Epoch 24/200\n",
      "17/17 [==============================] - 0s 2ms/step - loss: 0.5774 - accuracy: 0.7231 - val_loss: 0.5698 - val_accuracy: 0.8080\n",
      "Epoch 25/200\n",
      "17/17 [==============================] - 0s 2ms/step - loss: 0.5626 - accuracy: 0.7115 - val_loss: 0.5638 - val_accuracy: 0.7991\n",
      "Epoch 26/200\n",
      "17/17 [==============================] - 0s 2ms/step - loss: 0.5553 - accuracy: 0.7385 - val_loss: 0.5550 - val_accuracy: 0.8170\n",
      "Epoch 27/200\n",
      "17/17 [==============================] - 0s 2ms/step - loss: 0.5507 - accuracy: 0.7346 - val_loss: 0.5463 - val_accuracy: 0.8348\n",
      "Epoch 28/200\n",
      "17/17 [==============================] - 0s 2ms/step - loss: 0.5334 - accuracy: 0.7558 - val_loss: 0.5393 - val_accuracy: 0.8304\n",
      "Epoch 29/200\n",
      "17/17 [==============================] - 0s 2ms/step - loss: 0.5189 - accuracy: 0.7692 - val_loss: 0.5270 - val_accuracy: 0.8482\n",
      "Epoch 30/200\n",
      "17/17 [==============================] - 0s 4ms/step - loss: 0.5063 - accuracy: 0.7731 - val_loss: 0.5150 - val_accuracy: 0.8482\n",
      "Epoch 31/200\n",
      "17/17 [==============================] - 0s 4ms/step - loss: 0.5265 - accuracy: 0.7635 - val_loss: 0.5130 - val_accuracy: 0.8304\n",
      "Epoch 32/200\n",
      "17/17 [==============================] - 0s 2ms/step - loss: 0.5176 - accuracy: 0.7385 - val_loss: 0.5042 - val_accuracy: 0.8393\n",
      "Epoch 33/200\n",
      "17/17 [==============================] - 0s 2ms/step - loss: 0.5117 - accuracy: 0.7635 - val_loss: 0.4960 - val_accuracy: 0.8438\n",
      "Epoch 34/200\n",
      "17/17 [==============================] - 0s 2ms/step - loss: 0.4961 - accuracy: 0.7750 - val_loss: 0.4887 - val_accuracy: 0.8393\n",
      "Epoch 35/200\n",
      "17/17 [==============================] - 0s 2ms/step - loss: 0.4912 - accuracy: 0.7923 - val_loss: 0.4809 - val_accuracy: 0.8348\n",
      "Epoch 36/200\n",
      "17/17 [==============================] - 0s 2ms/step - loss: 0.4892 - accuracy: 0.7769 - val_loss: 0.4734 - val_accuracy: 0.8393\n",
      "Epoch 37/200\n",
      "17/17 [==============================] - 0s 2ms/step - loss: 0.4746 - accuracy: 0.7981 - val_loss: 0.4652 - val_accuracy: 0.8527\n",
      "Epoch 38/200\n",
      "17/17 [==============================] - 0s 2ms/step - loss: 0.4575 - accuracy: 0.8135 - val_loss: 0.4615 - val_accuracy: 0.8438\n",
      "Epoch 39/200\n",
      "17/17 [==============================] - 0s 2ms/step - loss: 0.4651 - accuracy: 0.7962 - val_loss: 0.4545 - val_accuracy: 0.8438\n",
      "Epoch 40/200\n",
      "17/17 [==============================] - 0s 2ms/step - loss: 0.4633 - accuracy: 0.7904 - val_loss: 0.4469 - val_accuracy: 0.8438\n",
      "Epoch 41/200\n",
      "17/17 [==============================] - 0s 3ms/step - loss: 0.4468 - accuracy: 0.8154 - val_loss: 0.4422 - val_accuracy: 0.8393\n",
      "Epoch 42/200\n",
      "17/17 [==============================] - 0s 3ms/step - loss: 0.4607 - accuracy: 0.8000 - val_loss: 0.4437 - val_accuracy: 0.8348\n",
      "Epoch 43/200\n",
      "17/17 [==============================] - 0s 3ms/step - loss: 0.4396 - accuracy: 0.8212 - val_loss: 0.4402 - val_accuracy: 0.8393\n",
      "Epoch 44/200\n",
      "17/17 [==============================] - 0s 2ms/step - loss: 0.4425 - accuracy: 0.7981 - val_loss: 0.4345 - val_accuracy: 0.8259\n",
      "Epoch 45/200\n",
      "17/17 [==============================] - 0s 2ms/step - loss: 0.4302 - accuracy: 0.8212 - val_loss: 0.4266 - val_accuracy: 0.8393\n",
      "Epoch 46/200\n",
      "17/17 [==============================] - 0s 2ms/step - loss: 0.4383 - accuracy: 0.8077 - val_loss: 0.4267 - val_accuracy: 0.8393\n",
      "Epoch 47/200\n",
      "17/17 [==============================] - 0s 2ms/step - loss: 0.4327 - accuracy: 0.8135 - val_loss: 0.4186 - val_accuracy: 0.8393\n",
      "Epoch 48/200\n",
      "17/17 [==============================] - 0s 2ms/step - loss: 0.4389 - accuracy: 0.8019 - val_loss: 0.4140 - val_accuracy: 0.8482\n",
      "Epoch 49/200\n",
      "17/17 [==============================] - 0s 2ms/step - loss: 0.4214 - accuracy: 0.8173 - val_loss: 0.4106 - val_accuracy: 0.8482\n",
      "Epoch 50/200\n",
      "17/17 [==============================] - 0s 2ms/step - loss: 0.4190 - accuracy: 0.8154 - val_loss: 0.4087 - val_accuracy: 0.8482\n",
      "Epoch 51/200\n",
      "17/17 [==============================] - 0s 2ms/step - loss: 0.4286 - accuracy: 0.8058 - val_loss: 0.4068 - val_accuracy: 0.8482\n",
      "Epoch 52/200\n",
      "17/17 [==============================] - 0s 2ms/step - loss: 0.4117 - accuracy: 0.8269 - val_loss: 0.4055 - val_accuracy: 0.8482\n",
      "Epoch 53/200\n",
      "17/17 [==============================] - 0s 2ms/step - loss: 0.4092 - accuracy: 0.8173 - val_loss: 0.3980 - val_accuracy: 0.8616\n",
      "Epoch 54/200\n",
      "17/17 [==============================] - 0s 3ms/step - loss: 0.4041 - accuracy: 0.8288 - val_loss: 0.3954 - val_accuracy: 0.8571\n",
      "Epoch 55/200\n",
      "17/17 [==============================] - 0s 3ms/step - loss: 0.3947 - accuracy: 0.8404 - val_loss: 0.3952 - val_accuracy: 0.8482\n",
      "Epoch 56/200\n",
      "17/17 [==============================] - 0s 3ms/step - loss: 0.4291 - accuracy: 0.8212 - val_loss: 0.3909 - val_accuracy: 0.8571\n",
      "Epoch 57/200\n",
      "17/17 [==============================] - 0s 2ms/step - loss: 0.4148 - accuracy: 0.8250 - val_loss: 0.3910 - val_accuracy: 0.8616\n",
      "Epoch 58/200\n",
      "17/17 [==============================] - 0s 2ms/step - loss: 0.4042 - accuracy: 0.8019 - val_loss: 0.3879 - val_accuracy: 0.8571\n"
     ]
    },
    {
     "name": "stdout",
     "output_type": "stream",
     "text": [
      "Epoch 59/200\n",
      "17/17 [==============================] - 0s 2ms/step - loss: 0.3984 - accuracy: 0.8154 - val_loss: 0.3880 - val_accuracy: 0.8571\n",
      "Epoch 60/200\n",
      "17/17 [==============================] - 0s 2ms/step - loss: 0.4008 - accuracy: 0.8231 - val_loss: 0.3858 - val_accuracy: 0.8571\n",
      "Epoch 61/200\n",
      "17/17 [==============================] - 0s 2ms/step - loss: 0.3943 - accuracy: 0.8231 - val_loss: 0.3825 - val_accuracy: 0.8482\n",
      "Epoch 62/200\n",
      "17/17 [==============================] - 0s 2ms/step - loss: 0.4053 - accuracy: 0.8404 - val_loss: 0.3816 - val_accuracy: 0.8527\n",
      "Epoch 63/200\n",
      "17/17 [==============================] - 0s 2ms/step - loss: 0.4045 - accuracy: 0.8327 - val_loss: 0.3849 - val_accuracy: 0.8527\n",
      "Epoch 64/200\n",
      "17/17 [==============================] - 0s 2ms/step - loss: 0.3836 - accuracy: 0.8404 - val_loss: 0.3806 - val_accuracy: 0.8527\n",
      "Epoch 65/200\n",
      "17/17 [==============================] - 0s 2ms/step - loss: 0.3859 - accuracy: 0.8442 - val_loss: 0.3821 - val_accuracy: 0.8482\n",
      "Epoch 66/200\n",
      "17/17 [==============================] - 0s 3ms/step - loss: 0.3820 - accuracy: 0.8538 - val_loss: 0.3767 - val_accuracy: 0.8527\n",
      "Epoch 67/200\n",
      "17/17 [==============================] - 0s 3ms/step - loss: 0.3756 - accuracy: 0.8365 - val_loss: 0.3759 - val_accuracy: 0.8571\n",
      "Epoch 68/200\n",
      "17/17 [==============================] - 0s 2ms/step - loss: 0.3759 - accuracy: 0.8558 - val_loss: 0.3724 - val_accuracy: 0.8616\n",
      "Epoch 69/200\n",
      "17/17 [==============================] - 0s 2ms/step - loss: 0.3757 - accuracy: 0.8462 - val_loss: 0.3706 - val_accuracy: 0.8571\n",
      "Epoch 70/200\n",
      "17/17 [==============================] - 0s 2ms/step - loss: 0.3862 - accuracy: 0.8365 - val_loss: 0.3682 - val_accuracy: 0.8571\n",
      "Epoch 71/200\n",
      "17/17 [==============================] - 0s 2ms/step - loss: 0.3682 - accuracy: 0.8519 - val_loss: 0.3651 - val_accuracy: 0.8527\n",
      "Epoch 72/200\n",
      "17/17 [==============================] - 0s 2ms/step - loss: 0.3577 - accuracy: 0.8538 - val_loss: 0.3677 - val_accuracy: 0.8661\n",
      "Epoch 73/200\n",
      "17/17 [==============================] - 0s 2ms/step - loss: 0.3696 - accuracy: 0.8558 - val_loss: 0.3613 - val_accuracy: 0.8527\n",
      "Epoch 74/200\n",
      "17/17 [==============================] - 0s 2ms/step - loss: 0.3734 - accuracy: 0.8423 - val_loss: 0.3574 - val_accuracy: 0.8527\n",
      "Epoch 75/200\n",
      "17/17 [==============================] - ETA: 0s - loss: 0.2322 - accuracy: 0.93 - 0s 2ms/step - loss: 0.3691 - accuracy: 0.8481 - val_loss: 0.3589 - val_accuracy: 0.8616\n",
      "Epoch 76/200\n",
      "17/17 [==============================] - 0s 2ms/step - loss: 0.3578 - accuracy: 0.8577 - val_loss: 0.3590 - val_accuracy: 0.8705\n",
      "Epoch 77/200\n",
      "17/17 [==============================] - 0s 2ms/step - loss: 0.3536 - accuracy: 0.8635 - val_loss: 0.3579 - val_accuracy: 0.8571\n",
      "Epoch 78/200\n",
      "17/17 [==============================] - 0s 3ms/step - loss: 0.3659 - accuracy: 0.8519 - val_loss: 0.3573 - val_accuracy: 0.8527\n",
      "Epoch 79/200\n",
      "17/17 [==============================] - 0s 3ms/step - loss: 0.3497 - accuracy: 0.8750 - val_loss: 0.3594 - val_accuracy: 0.8616\n",
      "Epoch 80/200\n",
      "17/17 [==============================] - 0s 3ms/step - loss: 0.3524 - accuracy: 0.8596 - val_loss: 0.3534 - val_accuracy: 0.8571\n",
      "Epoch 81/200\n",
      "17/17 [==============================] - 0s 2ms/step - loss: 0.3387 - accuracy: 0.8654 - val_loss: 0.3516 - val_accuracy: 0.8571\n",
      "Epoch 82/200\n",
      "17/17 [==============================] - 0s 2ms/step - loss: 0.3582 - accuracy: 0.8519 - val_loss: 0.3493 - val_accuracy: 0.8616\n",
      "Epoch 83/200\n",
      "17/17 [==============================] - 0s 2ms/step - loss: 0.3537 - accuracy: 0.8558 - val_loss: 0.3483 - val_accuracy: 0.8705\n",
      "Epoch 84/200\n",
      "17/17 [==============================] - 0s 2ms/step - loss: 0.3434 - accuracy: 0.8654 - val_loss: 0.3449 - val_accuracy: 0.8616\n",
      "Epoch 85/200\n",
      "17/17 [==============================] - 0s 2ms/step - loss: 0.3419 - accuracy: 0.8673 - val_loss: 0.3459 - val_accuracy: 0.8705\n",
      "Epoch 86/200\n",
      "17/17 [==============================] - 0s 2ms/step - loss: 0.3489 - accuracy: 0.8635 - val_loss: 0.3442 - val_accuracy: 0.8571\n",
      "Epoch 87/200\n",
      "17/17 [==============================] - 0s 2ms/step - loss: 0.3492 - accuracy: 0.8635 - val_loss: 0.3449 - val_accuracy: 0.8750\n",
      "Epoch 88/200\n",
      "17/17 [==============================] - 0s 2ms/step - loss: 0.3411 - accuracy: 0.8731 - val_loss: 0.3438 - val_accuracy: 0.8616\n",
      "Epoch 89/200\n",
      "17/17 [==============================] - 0s 2ms/step - loss: 0.3488 - accuracy: 0.8462 - val_loss: 0.3411 - val_accuracy: 0.8616\n",
      "Epoch 90/200\n",
      "17/17 [==============================] - 0s 3ms/step - loss: 0.3416 - accuracy: 0.8577 - val_loss: 0.3420 - val_accuracy: 0.8661\n",
      "Epoch 91/200\n",
      "17/17 [==============================] - 0s 3ms/step - loss: 0.3228 - accuracy: 0.8712 - val_loss: 0.3390 - val_accuracy: 0.8616\n",
      "Epoch 92/200\n",
      "17/17 [==============================] - 0s 3ms/step - loss: 0.3381 - accuracy: 0.8654 - val_loss: 0.3404 - val_accuracy: 0.8839\n",
      "Epoch 93/200\n",
      "17/17 [==============================] - 0s 2ms/step - loss: 0.3318 - accuracy: 0.8654 - val_loss: 0.3394 - val_accuracy: 0.8705\n",
      "Epoch 94/200\n",
      "17/17 [==============================] - 0s 2ms/step - loss: 0.3317 - accuracy: 0.8712 - val_loss: 0.3387 - val_accuracy: 0.8750\n",
      "Epoch 95/200\n",
      "17/17 [==============================] - 0s 2ms/step - loss: 0.3470 - accuracy: 0.8577 - val_loss: 0.3362 - val_accuracy: 0.8661\n",
      "Epoch 96/200\n",
      "17/17 [==============================] - 0s 2ms/step - loss: 0.3324 - accuracy: 0.8519 - val_loss: 0.3345 - val_accuracy: 0.8661\n",
      "Epoch 97/200\n",
      "17/17 [==============================] - 0s 2ms/step - loss: 0.3153 - accuracy: 0.8769 - val_loss: 0.3361 - val_accuracy: 0.8705\n",
      "Epoch 98/200\n",
      "17/17 [==============================] - 0s 2ms/step - loss: 0.3299 - accuracy: 0.8692 - val_loss: 0.3331 - val_accuracy: 0.8705\n",
      "Epoch 99/200\n",
      "17/17 [==============================] - 0s 4ms/step - loss: 0.3317 - accuracy: 0.8596 - val_loss: 0.3332 - val_accuracy: 0.8795\n",
      "Epoch 100/200\n",
      "17/17 [==============================] - 0s 4ms/step - loss: 0.3155 - accuracy: 0.8808 - val_loss: 0.3322 - val_accuracy: 0.8750\n",
      "Epoch 101/200\n",
      "17/17 [==============================] - 0s 4ms/step - loss: 0.3184 - accuracy: 0.8615 - val_loss: 0.3317 - val_accuracy: 0.8661\n",
      "Epoch 102/200\n",
      "17/17 [==============================] - 0s 5ms/step - loss: 0.3373 - accuracy: 0.8615 - val_loss: 0.3302 - val_accuracy: 0.8750\n",
      "Epoch 103/200\n",
      "17/17 [==============================] - 0s 4ms/step - loss: 0.3401 - accuracy: 0.8635 - val_loss: 0.3287 - val_accuracy: 0.8750\n",
      "Epoch 104/200\n",
      "17/17 [==============================] - 0s 3ms/step - loss: 0.3351 - accuracy: 0.8692 - val_loss: 0.3276 - val_accuracy: 0.8661\n",
      "Epoch 105/200\n",
      "17/17 [==============================] - 0s 3ms/step - loss: 0.3306 - accuracy: 0.8712 - val_loss: 0.3298 - val_accuracy: 0.8616\n",
      "Epoch 106/200\n",
      "17/17 [==============================] - 0s 3ms/step - loss: 0.3194 - accuracy: 0.8808 - val_loss: 0.3363 - val_accuracy: 0.8661\n",
      "Epoch 107/200\n",
      "17/17 [==============================] - 0s 3ms/step - loss: 0.3139 - accuracy: 0.8654 - val_loss: 0.3299 - val_accuracy: 0.8616\n",
      "Epoch 108/200\n",
      "17/17 [==============================] - 0s 2ms/step - loss: 0.3270 - accuracy: 0.8635 - val_loss: 0.3268 - val_accuracy: 0.8616\n",
      "Epoch 109/200\n",
      "17/17 [==============================] - 0s 3ms/step - loss: 0.3004 - accuracy: 0.8827 - val_loss: 0.3287 - val_accuracy: 0.8705\n",
      "Epoch 110/200\n",
      "17/17 [==============================] - 0s 3ms/step - loss: 0.3105 - accuracy: 0.8673 - val_loss: 0.3291 - val_accuracy: 0.8571\n",
      "Epoch 111/200\n",
      "17/17 [==============================] - 0s 3ms/step - loss: 0.3118 - accuracy: 0.8692 - val_loss: 0.3256 - val_accuracy: 0.8616\n",
      "Epoch 112/200\n",
      "17/17 [==============================] - 0s 2ms/step - loss: 0.3146 - accuracy: 0.8654 - val_loss: 0.3261 - val_accuracy: 0.8661\n",
      "Epoch 113/200\n",
      "17/17 [==============================] - 0s 2ms/step - loss: 0.3156 - accuracy: 0.8712 - val_loss: 0.3271 - val_accuracy: 0.8839\n",
      "Epoch 114/200\n",
      "17/17 [==============================] - 0s 2ms/step - loss: 0.3124 - accuracy: 0.8750 - val_loss: 0.3257 - val_accuracy: 0.8750\n",
      "Epoch 115/200\n",
      "17/17 [==============================] - 0s 2ms/step - loss: 0.2957 - accuracy: 0.8846 - val_loss: 0.3252 - val_accuracy: 0.8795\n",
      "Epoch 116/200\n"
     ]
    },
    {
     "name": "stdout",
     "output_type": "stream",
     "text": [
      "17/17 [==============================] - 0s 3ms/step - loss: 0.3078 - accuracy: 0.8904 - val_loss: 0.3236 - val_accuracy: 0.8839\n",
      "Epoch 117/200\n",
      "17/17 [==============================] - 0s 3ms/step - loss: 0.3134 - accuracy: 0.8808 - val_loss: 0.3250 - val_accuracy: 0.8705\n",
      "Epoch 118/200\n",
      "17/17 [==============================] - 0s 3ms/step - loss: 0.3031 - accuracy: 0.8808 - val_loss: 0.3251 - val_accuracy: 0.8661\n",
      "Epoch 119/200\n",
      "17/17 [==============================] - 0s 2ms/step - loss: 0.2960 - accuracy: 0.8885 - val_loss: 0.3246 - val_accuracy: 0.8661\n",
      "Epoch 120/200\n",
      "17/17 [==============================] - ETA: 0s - loss: 0.3240 - accuracy: 0.87 - 0s 3ms/step - loss: 0.2878 - accuracy: 0.8865 - val_loss: 0.3191 - val_accuracy: 0.8750\n",
      "Epoch 121/200\n",
      "17/17 [==============================] - 0s 3ms/step - loss: 0.3059 - accuracy: 0.8769 - val_loss: 0.3150 - val_accuracy: 0.8616\n",
      "Epoch 122/200\n",
      "17/17 [==============================] - 0s 3ms/step - loss: 0.3159 - accuracy: 0.8788 - val_loss: 0.3181 - val_accuracy: 0.8661\n",
      "Epoch 123/200\n",
      "17/17 [==============================] - 0s 2ms/step - loss: 0.3038 - accuracy: 0.8788 - val_loss: 0.3193 - val_accuracy: 0.8705\n",
      "Epoch 124/200\n",
      "17/17 [==============================] - 0s 2ms/step - loss: 0.3052 - accuracy: 0.8865 - val_loss: 0.3218 - val_accuracy: 0.8839\n",
      "Epoch 125/200\n",
      "17/17 [==============================] - 0s 2ms/step - loss: 0.3020 - accuracy: 0.8788 - val_loss: 0.3151 - val_accuracy: 0.8616\n",
      "Epoch 126/200\n",
      "17/17 [==============================] - 0s 2ms/step - loss: 0.2937 - accuracy: 0.8788 - val_loss: 0.3144 - val_accuracy: 0.8616\n",
      "Epoch 127/200\n",
      "17/17 [==============================] - 0s 2ms/step - loss: 0.2733 - accuracy: 0.9000 - val_loss: 0.3169 - val_accuracy: 0.8884\n",
      "Epoch 128/200\n",
      "17/17 [==============================] - 0s 2ms/step - loss: 0.2931 - accuracy: 0.8885 - val_loss: 0.3113 - val_accuracy: 0.8884\n",
      "Epoch 129/200\n",
      "17/17 [==============================] - 0s 2ms/step - loss: 0.2845 - accuracy: 0.8808 - val_loss: 0.3097 - val_accuracy: 0.8795\n",
      "Epoch 130/200\n",
      "17/17 [==============================] - 0s 2ms/step - loss: 0.2923 - accuracy: 0.8885 - val_loss: 0.3127 - val_accuracy: 0.8839\n",
      "Epoch 131/200\n",
      "17/17 [==============================] - 0s 2ms/step - loss: 0.2947 - accuracy: 0.8923 - val_loss: 0.3122 - val_accuracy: 0.9018\n",
      "Epoch 132/200\n",
      "17/17 [==============================] - 0s 3ms/step - loss: 0.3091 - accuracy: 0.8827 - val_loss: 0.3118 - val_accuracy: 0.8795\n",
      "Epoch 133/200\n",
      "17/17 [==============================] - 0s 3ms/step - loss: 0.2921 - accuracy: 0.8769 - val_loss: 0.3111 - val_accuracy: 0.8839\n",
      "Epoch 134/200\n",
      "17/17 [==============================] - 0s 3ms/step - loss: 0.2975 - accuracy: 0.8827 - val_loss: 0.3106 - val_accuracy: 0.8705\n",
      "Epoch 135/200\n",
      "17/17 [==============================] - 0s 2ms/step - loss: 0.2733 - accuracy: 0.8885 - val_loss: 0.3098 - val_accuracy: 0.8839\n",
      "Epoch 136/200\n",
      "17/17 [==============================] - 0s 2ms/step - loss: 0.2995 - accuracy: 0.8769 - val_loss: 0.3127 - val_accuracy: 0.8884\n",
      "Epoch 137/200\n",
      "17/17 [==============================] - 0s 2ms/step - loss: 0.2894 - accuracy: 0.8942 - val_loss: 0.3085 - val_accuracy: 0.8750\n",
      "Epoch 138/200\n",
      "17/17 [==============================] - 0s 2ms/step - loss: 0.2971 - accuracy: 0.8750 - val_loss: 0.3092 - val_accuracy: 0.8839\n",
      "Epoch 139/200\n",
      "17/17 [==============================] - 0s 3ms/step - loss: 0.2768 - accuracy: 0.8904 - val_loss: 0.3061 - val_accuracy: 0.8929\n",
      "Epoch 140/200\n",
      "17/17 [==============================] - 0s 2ms/step - loss: 0.2873 - accuracy: 0.8865 - val_loss: 0.3060 - val_accuracy: 0.8884\n",
      "Epoch 141/200\n",
      "17/17 [==============================] - 0s 2ms/step - loss: 0.2876 - accuracy: 0.8904 - val_loss: 0.3089 - val_accuracy: 0.8929\n",
      "Epoch 142/200\n",
      "17/17 [==============================] - 0s 2ms/step - loss: 0.2857 - accuracy: 0.8846 - val_loss: 0.3082 - val_accuracy: 0.8973\n",
      "Epoch 143/200\n",
      "17/17 [==============================] - 0s 2ms/step - loss: 0.2866 - accuracy: 0.8769 - val_loss: 0.3055 - val_accuracy: 0.8884\n",
      "Epoch 144/200\n",
      "17/17 [==============================] - 0s 3ms/step - loss: 0.2950 - accuracy: 0.8865 - val_loss: 0.3045 - val_accuracy: 0.8929\n",
      "Epoch 145/200\n",
      "17/17 [==============================] - 0s 3ms/step - loss: 0.2838 - accuracy: 0.8962 - val_loss: 0.3025 - val_accuracy: 0.8795\n",
      "Epoch 146/200\n",
      "17/17 [==============================] - 0s 3ms/step - loss: 0.2855 - accuracy: 0.8904 - val_loss: 0.3032 - val_accuracy: 0.8884\n",
      "Epoch 147/200\n",
      "17/17 [==============================] - 0s 2ms/step - loss: 0.2789 - accuracy: 0.8923 - val_loss: 0.3010 - val_accuracy: 0.8705\n",
      "Epoch 148/200\n",
      "17/17 [==============================] - 0s 2ms/step - loss: 0.2743 - accuracy: 0.8923 - val_loss: 0.3007 - val_accuracy: 0.8973\n",
      "Epoch 149/200\n",
      "17/17 [==============================] - 0s 3ms/step - loss: 0.2875 - accuracy: 0.8865 - val_loss: 0.3015 - val_accuracy: 0.8929\n",
      "Epoch 150/200\n",
      "17/17 [==============================] - 0s 3ms/step - loss: 0.2723 - accuracy: 0.8981 - val_loss: 0.3020 - val_accuracy: 0.8929\n",
      "Epoch 151/200\n",
      "17/17 [==============================] - 0s 2ms/step - loss: 0.2831 - accuracy: 0.8865 - val_loss: 0.3023 - val_accuracy: 0.8884\n",
      "Epoch 152/200\n",
      "17/17 [==============================] - 0s 2ms/step - loss: 0.2885 - accuracy: 0.8865 - val_loss: 0.3035 - val_accuracy: 0.8973\n",
      "Epoch 153/200\n",
      "17/17 [==============================] - 0s 2ms/step - loss: 0.2757 - accuracy: 0.9019 - val_loss: 0.3028 - val_accuracy: 0.9018\n",
      "Epoch 154/200\n",
      "17/17 [==============================] - 0s 2ms/step - loss: 0.2752 - accuracy: 0.8923 - val_loss: 0.2992 - val_accuracy: 0.8839\n",
      "Epoch 155/200\n",
      "17/17 [==============================] - 0s 3ms/step - loss: 0.2807 - accuracy: 0.8885 - val_loss: 0.2990 - val_accuracy: 0.8973\n",
      "Epoch 156/200\n",
      "17/17 [==============================] - 0s 3ms/step - loss: 0.2887 - accuracy: 0.8885 - val_loss: 0.3006 - val_accuracy: 0.8929\n",
      "Epoch 157/200\n",
      "17/17 [==============================] - 0s 3ms/step - loss: 0.2784 - accuracy: 0.8942 - val_loss: 0.2992 - val_accuracy: 0.8929\n",
      "Epoch 158/200\n",
      "17/17 [==============================] - 0s 2ms/step - loss: 0.2702 - accuracy: 0.9038 - val_loss: 0.2973 - val_accuracy: 0.8884\n",
      "Epoch 159/200\n",
      "17/17 [==============================] - 0s 2ms/step - loss: 0.2685 - accuracy: 0.8981 - val_loss: 0.2941 - val_accuracy: 0.8839\n",
      "Epoch 160/200\n",
      "17/17 [==============================] - 0s 2ms/step - loss: 0.2799 - accuracy: 0.8942 - val_loss: 0.2910 - val_accuracy: 0.8839\n",
      "Epoch 161/200\n",
      "17/17 [==============================] - 0s 2ms/step - loss: 0.2885 - accuracy: 0.8865 - val_loss: 0.2920 - val_accuracy: 0.8929\n",
      "Epoch 162/200\n",
      "17/17 [==============================] - 0s 2ms/step - loss: 0.2870 - accuracy: 0.8885 - val_loss: 0.2930 - val_accuracy: 0.8839\n",
      "Epoch 163/200\n",
      "17/17 [==============================] - 0s 2ms/step - loss: 0.2685 - accuracy: 0.8904 - val_loss: 0.2916 - val_accuracy: 0.8884\n",
      "Epoch 164/200\n",
      "17/17 [==============================] - 0s 2ms/step - loss: 0.2607 - accuracy: 0.8962 - val_loss: 0.2910 - val_accuracy: 0.8929\n",
      "Epoch 165/200\n",
      "17/17 [==============================] - 0s 2ms/step - loss: 0.2667 - accuracy: 0.8885 - val_loss: 0.2903 - val_accuracy: 0.8929\n",
      "Epoch 166/200\n",
      "17/17 [==============================] - 0s 3ms/step - loss: 0.2675 - accuracy: 0.8981 - val_loss: 0.2903 - val_accuracy: 0.8973\n",
      "Epoch 167/200\n",
      "17/17 [==============================] - 0s 3ms/step - loss: 0.2642 - accuracy: 0.9019 - val_loss: 0.2888 - val_accuracy: 0.8973\n",
      "Epoch 168/200\n",
      "17/17 [==============================] - 0s 3ms/step - loss: 0.2846 - accuracy: 0.8885 - val_loss: 0.2877 - val_accuracy: 0.8973\n",
      "Epoch 169/200\n",
      "17/17 [==============================] - 0s 3ms/step - loss: 0.2632 - accuracy: 0.9019 - val_loss: 0.2886 - val_accuracy: 0.8929\n",
      "Epoch 170/200\n",
      "17/17 [==============================] - 0s 3ms/step - loss: 0.2861 - accuracy: 0.8788 - val_loss: 0.2870 - val_accuracy: 0.8884\n",
      "Epoch 171/200\n",
      "17/17 [==============================] - 0s 2ms/step - loss: 0.2598 - accuracy: 0.8942 - val_loss: 0.2864 - val_accuracy: 0.8929\n",
      "Epoch 172/200\n",
      "17/17 [==============================] - 0s 3ms/step - loss: 0.2675 - accuracy: 0.9019 - val_loss: 0.2854 - val_accuracy: 0.8929\n",
      "Epoch 173/200\n"
     ]
    },
    {
     "name": "stdout",
     "output_type": "stream",
     "text": [
      "17/17 [==============================] - 0s 2ms/step - loss: 0.2525 - accuracy: 0.9096 - val_loss: 0.2849 - val_accuracy: 0.8929\n",
      "Epoch 174/200\n",
      "17/17 [==============================] - 0s 2ms/step - loss: 0.2695 - accuracy: 0.8846 - val_loss: 0.2843 - val_accuracy: 0.8929\n",
      "Epoch 175/200\n",
      "17/17 [==============================] - 0s 2ms/step - loss: 0.2633 - accuracy: 0.8962 - val_loss: 0.2838 - val_accuracy: 0.8973\n",
      "Epoch 176/200\n",
      "17/17 [==============================] - 0s 2ms/step - loss: 0.2675 - accuracy: 0.8942 - val_loss: 0.2801 - val_accuracy: 0.8929\n",
      "Epoch 177/200\n",
      "17/17 [==============================] - 0s 2ms/step - loss: 0.2867 - accuracy: 0.8923 - val_loss: 0.2813 - val_accuracy: 0.9018\n",
      "Epoch 178/200\n",
      "17/17 [==============================] - 0s 3ms/step - loss: 0.2688 - accuracy: 0.8981 - val_loss: 0.2822 - val_accuracy: 0.9018\n",
      "Epoch 179/200\n",
      "17/17 [==============================] - 0s 4ms/step - loss: 0.2562 - accuracy: 0.8981 - val_loss: 0.2798 - val_accuracy: 0.9018\n",
      "Epoch 180/200\n",
      "17/17 [==============================] - 0s 2ms/step - loss: 0.2702 - accuracy: 0.8981 - val_loss: 0.2801 - val_accuracy: 0.8973\n",
      "Epoch 181/200\n",
      "17/17 [==============================] - 0s 2ms/step - loss: 0.2669 - accuracy: 0.8923 - val_loss: 0.2810 - val_accuracy: 0.8973\n",
      "Epoch 182/200\n",
      "17/17 [==============================] - 0s 2ms/step - loss: 0.2571 - accuracy: 0.9058 - val_loss: 0.2788 - val_accuracy: 0.8973\n",
      "Epoch 183/200\n",
      "17/17 [==============================] - 0s 2ms/step - loss: 0.2611 - accuracy: 0.8923 - val_loss: 0.2783 - val_accuracy: 0.8973\n",
      "Epoch 184/200\n",
      "17/17 [==============================] - 0s 2ms/step - loss: 0.2657 - accuracy: 0.8981 - val_loss: 0.2777 - val_accuracy: 0.8973\n",
      "Epoch 185/200\n",
      "17/17 [==============================] - 0s 2ms/step - loss: 0.2676 - accuracy: 0.8942 - val_loss: 0.2780 - val_accuracy: 0.9018\n",
      "Epoch 186/200\n",
      "17/17 [==============================] - 0s 2ms/step - loss: 0.2715 - accuracy: 0.9038 - val_loss: 0.2814 - val_accuracy: 0.9018\n",
      "Epoch 187/200\n",
      "17/17 [==============================] - 0s 3ms/step - loss: 0.2601 - accuracy: 0.8962 - val_loss: 0.2758 - val_accuracy: 0.9018\n",
      "Epoch 188/200\n",
      "17/17 [==============================] - 0s 2ms/step - loss: 0.2577 - accuracy: 0.8923 - val_loss: 0.2775 - val_accuracy: 0.9018\n",
      "Epoch 189/200\n",
      "17/17 [==============================] - 0s 2ms/step - loss: 0.2558 - accuracy: 0.9038 - val_loss: 0.2770 - val_accuracy: 0.9018\n",
      "Epoch 190/200\n",
      "17/17 [==============================] - 0s 3ms/step - loss: 0.2589 - accuracy: 0.9000 - val_loss: 0.2776 - val_accuracy: 0.9018\n",
      "Epoch 191/200\n",
      "17/17 [==============================] - 0s 3ms/step - loss: 0.2470 - accuracy: 0.8962 - val_loss: 0.2737 - val_accuracy: 0.9018\n",
      "Epoch 192/200\n",
      "17/17 [==============================] - 0s 2ms/step - loss: 0.2620 - accuracy: 0.9019 - val_loss: 0.2752 - val_accuracy: 0.9018\n",
      "Epoch 193/200\n",
      "17/17 [==============================] - 0s 2ms/step - loss: 0.2502 - accuracy: 0.8962 - val_loss: 0.2716 - val_accuracy: 0.9018\n",
      "Epoch 194/200\n",
      "17/17 [==============================] - 0s 2ms/step - loss: 0.2612 - accuracy: 0.8904 - val_loss: 0.2717 - val_accuracy: 0.9018\n",
      "Epoch 195/200\n",
      "17/17 [==============================] - 0s 2ms/step - loss: 0.2427 - accuracy: 0.9096 - val_loss: 0.2691 - val_accuracy: 0.9062\n",
      "Epoch 196/200\n",
      "17/17 [==============================] - 0s 2ms/step - loss: 0.2459 - accuracy: 0.9000 - val_loss: 0.2689 - val_accuracy: 0.9107\n",
      "Epoch 197/200\n",
      "17/17 [==============================] - 0s 2ms/step - loss: 0.2629 - accuracy: 0.8923 - val_loss: 0.2684 - val_accuracy: 0.9062\n",
      "Epoch 198/200\n",
      "17/17 [==============================] - 0s 3ms/step - loss: 0.2453 - accuracy: 0.9077 - val_loss: 0.2684 - val_accuracy: 0.9018\n",
      "Epoch 199/200\n",
      "17/17 [==============================] - 0s 2ms/step - loss: 0.2610 - accuracy: 0.8923 - val_loss: 0.2695 - val_accuracy: 0.9018\n",
      "Epoch 200/200\n",
      "17/17 [==============================] - 0s 2ms/step - loss: 0.2463 - accuracy: 0.9038 - val_loss: 0.2654 - val_accuracy: 0.9062\n"
     ]
    }
   ],
   "source": [
    "history2=model2.fit(X_train, y_train, validation_data=(X_test, y_test),epochs=200)"
   ]
  },
  {
   "cell_type": "code",
   "execution_count": 44,
   "id": "ordinary-majority",
   "metadata": {},
   "outputs": [
    {
     "name": "stdout",
     "output_type": "stream",
     "text": [
      "17/17 [==============================] - 0s 2ms/step - loss: 0.2263 - accuracy: 0.9212\n",
      "7/7 [==============================] - 0s 1ms/step - loss: 0.2654 - accuracy: 0.9062\n",
      "Train: 0.921, Test: 0.906\n"
     ]
    }
   ],
   "source": [
    "_,train_acc = model2.evaluate(X_train, y_train)\n",
    "_,test_acc = model2.evaluate(X_test, y_test)\n",
    "print('Train: %.3f, Test: %.3f' % (train_acc, test_acc))"
   ]
  },
  {
   "cell_type": "code",
   "execution_count": 45,
   "id": "intensive-weapon",
   "metadata": {},
   "outputs": [
    {
     "data": {
      "image/png": "[encoded data removed]",
      "text/plain": [
       "<Figure size 432x288 with 1 Axes>"
      ]
     },
     "metadata": {
      "needs_background": "light"
     },
     "output_type": "display_data"
    }
   ],
   "source": [
    "plt.plot(history2.history['loss'])\n",
    "plt.plot(history2.history['val_loss'])\n",
    "plt.title('model loss')\n",
    "plt.ylabel('loss')\n",
    "plt.xlabel('epoch')\n",
    "plt.legend(['train', 'test'], loc='upper left')\n",
    "plt.show()"
   ]
  },
  {
   "cell_type": "code",
   "execution_count": 46,
   "id": "overall-contest",
   "metadata": {},
   "outputs": [
    {
     "data": {
      "text/plain": [
       "<matplotlib.legend.Legend at 0x2444dd36e08>"
      ]
     },
     "execution_count": 46,
     "metadata": {},
     "output_type": "execute_result"
    },
    {
     "data": {
      "image/png": "[encoded data removed]",
      "text/plain": [
       "<Figure size 432x288 with 1 Axes>"
      ]
     },
     "metadata": {
      "needs_background": "light"
     },
     "output_type": "display_data"
    }
   ],
   "source": [
    "plt.plot(history2.history['accuracy'])\n",
    "plt.plot(history2.history['val_accuracy'])\n",
    "plt.title('model accuracy')\n",
    "plt.ylabel('accuracy')\n",
    "plt.xlabel('epoch')\n",
    "plt.legend(['train', 'test'], loc='upper left')"
   ]
  },
  {
   "cell_type": "code",
   "execution_count": 47,
   "id": "republican-huntington",
   "metadata": {},
   "outputs": [
    {
     "name": "stdout",
     "output_type": "stream",
     "text": [
      "[0, 1, 1, 0, 1, 0, 0, 0, 0, 1, 1, 0, 0, 0, 0, 1, 0, 0, 1, 1, 1, 0, 0, 0, 0, 0, 0, 0, 1, 0, 0, 0, 0, 0, 0, 0, 1, 0, 1, 0, 0, 1, 1, 0, 1, 1, 1, 0, 1, 0, 0, 1, 0, 1, 1, 0, 0, 0, 1, 0, 1, 0, 1, 0, 0, 0, 1, 1, 0, 1, 0, 0, 1, 1, 1, 0, 1, 1, 0, 0, 1, 1, 0, 1, 0, 0, 1, 1, 0, 0, 0, 0, 0, 1, 0, 0, 0, 0, 1, 0, 0, 1, 0, 0, 0, 0, 0, 1, 0, 0, 1, 0, 0, 1, 0, 1, 0, 1, 0, 0, 0, 1, 1, 1, 0, 1, 0, 0, 0, 0, 0, 0, 0, 0, 0, 0, 1, 0, 1, 1, 0, 0, 1, 0, 1, 0, 1, 0, 1, 0, 0, 1, 0, 0, 1, 0, 1, 0, 0, 1, 0, 1, 0, 0, 0, 1, 0, 1, 0, 0, 1, 0, 0, 0, 0, 1, 0, 1, 0, 0, 0, 1, 1, 1, 1, 0, 0, 0, 1, 1, 0, 0, 1, 1, 1, 1, 0, 0, 1, 0, 1, 1, 0, 0, 0, 0, 1, 0, 1, 0, 0, 0, 0, 1, 1, 1, 0, 0, 0, 1, 1, 0, 0, 1]\n"
     ]
    }
   ],
   "source": [
    "predict_y=model2.predict(X_test)\n",
    "predict_value=[]\n",
    "for predict in predict_y:\n",
    "    if predict>0.5:\n",
    "     predict_value.append(1)\n",
    "    else:\n",
    "        predict_value.append(0)\n",
    "print(predict_value)        "
   ]
  },
  {
   "cell_type": "code",
   "execution_count": 48,
   "id": "formal-jaguar",
   "metadata": {},
   "outputs": [
    {
     "name": "stdout",
     "output_type": "stream",
     "text": [
      "[[119   3]\n",
      " [ 18  84]]\n"
     ]
    }
   ],
   "source": [
    "from sklearn.metrics import confusion_matrix\n",
    "print(confusion_matrix(y_test, predict_value))"
   ]
  },
  {
   "cell_type": "code",
   "execution_count": 49,
   "id": "motivated-alarm",
   "metadata": {},
   "outputs": [
    {
     "name": "stdout",
     "output_type": "stream",
     "text": [
      "              precision    recall  f1-score   support\n",
      "\n",
      "           0       0.87      0.98      0.92       122\n",
      "           1       0.97      0.82      0.89       102\n",
      "\n",
      "    accuracy                           0.91       224\n",
      "   macro avg       0.92      0.90      0.90       224\n",
      "weighted avg       0.91      0.91      0.91       224\n",
      "\n"
     ]
    }
   ],
   "source": [
    "from sklearn.metrics import classification_report\n",
    "print(classification_report(y_test,predict_value))"
   ]
  },
  {
   "cell_type": "code",
   "execution_count": 50,
   "id": "visible-course",
   "metadata": {},
   "outputs": [],
   "source": [
    "model2.save('model2.h5')"
   ]
  },
  {
   "cell_type": "code",
   "execution_count": 51,
   "id": "outer-hostel",
   "metadata": {},
   "outputs": [
    {
     "name": "stdout",
     "output_type": "stream",
     "text": [
      "Model: \"sequential_2\"\n",
      "_________________________________________________________________\n",
      "Layer (type)                 Output Shape              Param #   \n",
      "=================================================================\n",
      "dense_5 (Dense)              (None, 10)                100       \n",
      "_________________________________________________________________\n",
      "dense_6 (Dense)              (None, 6)                 66        \n",
      "_________________________________________________________________\n",
      "dense_7 (Dense)              (None, 8)                 56        \n",
      "_________________________________________________________________\n",
      "dropout_1 (Dropout)          (None, 8)                 0         \n",
      "_________________________________________________________________\n",
      "dense_8 (Dense)              (None, 1)                 9         \n",
      "=================================================================\n",
      "Total params: 231\n",
      "Trainable params: 231\n",
      "Non-trainable params: 0\n",
      "_________________________________________________________________\n"
     ]
    }
   ],
   "source": [
    "model3= Sequential ()\n",
    "model3.add(Dense(10, input_dim=9, activation= 'relu' ))\n",
    "model3.add(Dense(6, activation= 'relu' ))\n",
    "model3.add(Dense(8, activation= 'relu' ))\n",
    "model3.add(Dropout(0.25))\n",
    "model3.add(Dense(1, activation= 'sigmoid' ))\n",
    "model3.summary()"
   ]
  },
  {
   "cell_type": "code",
   "execution_count": 52,
   "id": "certified-marina",
   "metadata": {},
   "outputs": [
    {
     "data": {
      "image/png": "[encoded data removed]",
      "text/plain": [
       "<IPython.core.display.Image object>"
      ]
     },
     "execution_count": 52,
     "metadata": {},
     "output_type": "execute_result"
    }
   ],
   "source": [
    "from keras.utils import plot_model\n",
    "plot_model(model3, to_file='multilayer_perceptron_graph.png')"
   ]
  },
  {
   "cell_type": "code",
   "execution_count": 53,
   "id": "polished-consultation",
   "metadata": {},
   "outputs": [],
   "source": [
    "model3.compile(loss= 'binary_crossentropy' , optimizer= 'adam' , metrics=[ 'accuracy' ])"
   ]
  },
  {
   "cell_type": "code",
   "execution_count": 54,
   "id": "republican-thought",
   "metadata": {},
   "outputs": [],
   "source": [
    "es= EarlyStopping(monitor='val_loss', min_delta=0, patience=10, verbose=0, mode='auto')"
   ]
  },
  {
   "cell_type": "code",
   "execution_count": 55,
   "id": "northern-entrepreneur",
   "metadata": {},
   "outputs": [
    {
     "name": "stdout",
     "output_type": "stream",
     "text": [
      "Epoch 1/200\n",
      "17/17 [==============================] - 0s 23ms/step - loss: 0.7063 - accuracy: 0.4712 - val_loss: 0.6938 - val_accuracy: 0.4955\n",
      "Epoch 2/200\n",
      "17/17 [==============================] - 0s 2ms/step - loss: 0.6943 - accuracy: 0.5519 - val_loss: 0.6927 - val_accuracy: 0.5223\n",
      "Epoch 3/200\n",
      "17/17 [==============================] - 0s 3ms/step - loss: 0.6946 - accuracy: 0.5308 - val_loss: 0.6915 - val_accuracy: 0.5625\n",
      "Epoch 4/200\n",
      "17/17 [==============================] - 0s 3ms/step - loss: 0.6970 - accuracy: 0.5192 - val_loss: 0.6910 - val_accuracy: 0.5938\n",
      "Epoch 5/200\n",
      "17/17 [==============================] - 0s 3ms/step - loss: 0.6906 - accuracy: 0.5596 - val_loss: 0.6906 - val_accuracy: 0.5893\n",
      "Epoch 6/200\n",
      "17/17 [==============================] - 0s 3ms/step - loss: 0.6909 - accuracy: 0.5327 - val_loss: 0.6897 - val_accuracy: 0.5536\n",
      "Epoch 7/200\n",
      "17/17 [==============================] - 0s 3ms/step - loss: 0.6843 - accuracy: 0.5808 - val_loss: 0.6879 - val_accuracy: 0.5179\n",
      "Epoch 8/200\n",
      "17/17 [==============================] - 0s 2ms/step - loss: 0.6822 - accuracy: 0.6019 - val_loss: 0.6844 - val_accuracy: 0.6116\n",
      "Epoch 9/200\n",
      "17/17 [==============================] - 0s 2ms/step - loss: 0.6827 - accuracy: 0.5942 - val_loss: 0.6811 - val_accuracy: 0.6384\n",
      "Epoch 10/200\n",
      "17/17 [==============================] - 0s 2ms/step - loss: 0.6774 - accuracy: 0.6288 - val_loss: 0.6765 - val_accuracy: 0.6473\n",
      "Epoch 11/200\n",
      "17/17 [==============================] - 0s 2ms/step - loss: 0.6713 - accuracy: 0.6654 - val_loss: 0.6700 - val_accuracy: 0.6696\n",
      "Epoch 12/200\n",
      "17/17 [==============================] - 0s 2ms/step - loss: 0.6676 - accuracy: 0.6558 - val_loss: 0.6632 - val_accuracy: 0.6786\n",
      "Epoch 13/200\n",
      "17/17 [==============================] - 0s 2ms/step - loss: 0.6571 - accuracy: 0.6500 - val_loss: 0.6557 - val_accuracy: 0.7054\n",
      "Epoch 14/200\n",
      "17/17 [==============================] - 0s 2ms/step - loss: 0.6499 - accuracy: 0.6846 - val_loss: 0.6469 - val_accuracy: 0.7545\n",
      "Epoch 15/200\n",
      "17/17 [==============================] - 0s 3ms/step - loss: 0.6382 - accuracy: 0.6962 - val_loss: 0.6379 - val_accuracy: 0.7634\n",
      "Epoch 16/200\n",
      "17/17 [==============================] - 0s 4ms/step - loss: 0.6303 - accuracy: 0.7019 - val_loss: 0.6267 - val_accuracy: 0.7545\n",
      "Epoch 17/200\n",
      "17/17 [==============================] - 0s 4ms/step - loss: 0.6240 - accuracy: 0.7192 - val_loss: 0.6217 - val_accuracy: 0.7500\n",
      "Epoch 18/200\n",
      "17/17 [==============================] - 0s 3ms/step - loss: 0.6078 - accuracy: 0.7423 - val_loss: 0.6010 - val_accuracy: 0.8036\n",
      "Epoch 19/200\n",
      "17/17 [==============================] - 0s 2ms/step - loss: 0.5988 - accuracy: 0.7231 - val_loss: 0.5862 - val_accuracy: 0.7679\n",
      "Epoch 20/200\n",
      "17/17 [==============================] - 0s 2ms/step - loss: 0.5739 - accuracy: 0.7654 - val_loss: 0.5597 - val_accuracy: 0.8036\n",
      "Epoch 21/200\n",
      "17/17 [==============================] - 0s 2ms/step - loss: 0.5590 - accuracy: 0.7596 - val_loss: 0.5377 - val_accuracy: 0.8348\n",
      "Epoch 22/200\n",
      "17/17 [==============================] - 0s 2ms/step - loss: 0.5282 - accuracy: 0.8077 - val_loss: 0.5149 - val_accuracy: 0.8527\n",
      "Epoch 23/200\n",
      "17/17 [==============================] - 0s 2ms/step - loss: 0.5007 - accuracy: 0.8192 - val_loss: 0.4886 - val_accuracy: 0.8393\n",
      "Epoch 24/200\n",
      "17/17 [==============================] - 0s 2ms/step - loss: 0.4755 - accuracy: 0.8327 - val_loss: 0.4659 - val_accuracy: 0.8661\n",
      "Epoch 25/200\n",
      "17/17 [==============================] - 0s 2ms/step - loss: 0.4763 - accuracy: 0.8096 - val_loss: 0.4486 - val_accuracy: 0.8661\n",
      "Epoch 26/200\n",
      "17/17 [==============================] - 0s 2ms/step - loss: 0.4603 - accuracy: 0.8327 - val_loss: 0.4334 - val_accuracy: 0.8705\n",
      "Epoch 27/200\n",
      "17/17 [==============================] - 0s 2ms/step - loss: 0.4439 - accuracy: 0.8519 - val_loss: 0.4216 - val_accuracy: 0.8750\n",
      "Epoch 28/200\n",
      "17/17 [==============================] - 0s 2ms/step - loss: 0.4327 - accuracy: 0.8481 - val_loss: 0.4103 - val_accuracy: 0.8750\n",
      "Epoch 29/200\n",
      "17/17 [==============================] - 0s 4ms/step - loss: 0.4198 - accuracy: 0.8577 - val_loss: 0.3967 - val_accuracy: 0.8795\n",
      "Epoch 30/200\n",
      "17/17 [==============================] - ETA: 0s - loss: 0.5327 - accuracy: 0.75 - 0s 4ms/step - loss: 0.4098 - accuracy: 0.8500 - val_loss: 0.3882 - val_accuracy: 0.8795\n",
      "Epoch 31/200\n",
      "17/17 [==============================] - 0s 4ms/step - loss: 0.3985 - accuracy: 0.8615 - val_loss: 0.3822 - val_accuracy: 0.8750\n",
      "Epoch 32/200\n",
      "17/17 [==============================] - 0s 2ms/step - loss: 0.3863 - accuracy: 0.8769 - val_loss: 0.3712 - val_accuracy: 0.8795\n",
      "Epoch 33/200\n",
      "17/17 [==============================] - 0s 2ms/step - loss: 0.3895 - accuracy: 0.8673 - val_loss: 0.3673 - val_accuracy: 0.8839\n",
      "Epoch 34/200\n",
      "17/17 [==============================] - 0s 2ms/step - loss: 0.3695 - accuracy: 0.8712 - val_loss: 0.3641 - val_accuracy: 0.8795\n",
      "Epoch 35/200\n",
      "17/17 [==============================] - 0s 2ms/step - loss: 0.3743 - accuracy: 0.8692 - val_loss: 0.3575 - val_accuracy: 0.8795\n",
      "Epoch 36/200\n",
      "17/17 [==============================] - 0s 2ms/step - loss: 0.3557 - accuracy: 0.8808 - val_loss: 0.3516 - val_accuracy: 0.8839\n",
      "Epoch 37/200\n",
      "17/17 [==============================] - 0s 2ms/step - loss: 0.3603 - accuracy: 0.8750 - val_loss: 0.3522 - val_accuracy: 0.8795\n",
      "Epoch 38/200\n",
      "17/17 [==============================] - 0s 2ms/step - loss: 0.3694 - accuracy: 0.8731 - val_loss: 0.3473 - val_accuracy: 0.8795\n",
      "Epoch 39/200\n",
      "17/17 [==============================] - 0s 2ms/step - loss: 0.3591 - accuracy: 0.8673 - val_loss: 0.3445 - val_accuracy: 0.8884\n",
      "Epoch 40/200\n",
      "17/17 [==============================] - 0s 3ms/step - loss: 0.3512 - accuracy: 0.8750 - val_loss: 0.3408 - val_accuracy: 0.8839\n",
      "Epoch 41/200\n",
      "17/17 [==============================] - 0s 3ms/step - loss: 0.3550 - accuracy: 0.8731 - val_loss: 0.3393 - val_accuracy: 0.8884\n",
      "Epoch 42/200\n",
      "17/17 [==============================] - 0s 4ms/step - loss: 0.3435 - accuracy: 0.8788 - val_loss: 0.3372 - val_accuracy: 0.8839\n",
      "Epoch 43/200\n",
      "17/17 [==============================] - 0s 2ms/step - loss: 0.3335 - accuracy: 0.8808 - val_loss: 0.3342 - val_accuracy: 0.8929\n",
      "Epoch 44/200\n",
      "17/17 [==============================] - 0s 2ms/step - loss: 0.3426 - accuracy: 0.8808 - val_loss: 0.3338 - val_accuracy: 0.8884\n",
      "Epoch 45/200\n",
      "17/17 [==============================] - 0s 2ms/step - loss: 0.3493 - accuracy: 0.8750 - val_loss: 0.3307 - val_accuracy: 0.8884\n",
      "Epoch 46/200\n",
      "17/17 [==============================] - 0s 2ms/step - loss: 0.3574 - accuracy: 0.8865 - val_loss: 0.3334 - val_accuracy: 0.8839\n",
      "Epoch 47/200\n",
      "17/17 [==============================] - 0s 2ms/step - loss: 0.3353 - accuracy: 0.8808 - val_loss: 0.3263 - val_accuracy: 0.8929\n",
      "Epoch 48/200\n",
      "17/17 [==============================] - 0s 2ms/step - loss: 0.3392 - accuracy: 0.8865 - val_loss: 0.3236 - val_accuracy: 0.8884\n",
      "Epoch 49/200\n",
      "17/17 [==============================] - 0s 2ms/step - loss: 0.3331 - accuracy: 0.8865 - val_loss: 0.3247 - val_accuracy: 0.8884\n",
      "Epoch 50/200\n",
      "17/17 [==============================] - 0s 2ms/step - loss: 0.3314 - accuracy: 0.8808 - val_loss: 0.3231 - val_accuracy: 0.8884\n",
      "Epoch 51/200\n",
      "17/17 [==============================] - 0s 3ms/step - loss: 0.3401 - accuracy: 0.8846 - val_loss: 0.3200 - val_accuracy: 0.8929\n",
      "Epoch 52/200\n",
      "17/17 [==============================] - 0s 3ms/step - loss: 0.3322 - accuracy: 0.8827 - val_loss: 0.3206 - val_accuracy: 0.8973\n",
      "Epoch 53/200\n",
      "17/17 [==============================] - 0s 3ms/step - loss: 0.3231 - accuracy: 0.8808 - val_loss: 0.3159 - val_accuracy: 0.8973\n",
      "Epoch 54/200\n",
      "17/17 [==============================] - 0s 3ms/step - loss: 0.3316 - accuracy: 0.8827 - val_loss: 0.3157 - val_accuracy: 0.8884\n",
      "Epoch 55/200\n",
      "17/17 [==============================] - 0s 3ms/step - loss: 0.3356 - accuracy: 0.8865 - val_loss: 0.3113 - val_accuracy: 0.8973\n",
      "Epoch 56/200\n",
      "17/17 [==============================] - 0s 3ms/step - loss: 0.3342 - accuracy: 0.8692 - val_loss: 0.3108 - val_accuracy: 0.8973\n",
      "Epoch 57/200\n",
      "17/17 [==============================] - 0s 3ms/step - loss: 0.3312 - accuracy: 0.8788 - val_loss: 0.3159 - val_accuracy: 0.8929\n",
      "Epoch 58/200\n"
     ]
    },
    {
     "name": "stdout",
     "output_type": "stream",
     "text": [
      "17/17 [==============================] - 0s 3ms/step - loss: 0.3261 - accuracy: 0.8885 - val_loss: 0.3113 - val_accuracy: 0.8973\n",
      "Epoch 59/200\n",
      "17/17 [==============================] - 0s 3ms/step - loss: 0.3161 - accuracy: 0.8846 - val_loss: 0.3094 - val_accuracy: 0.8929\n",
      "Epoch 60/200\n",
      "17/17 [==============================] - 0s 3ms/step - loss: 0.3177 - accuracy: 0.8904 - val_loss: 0.3075 - val_accuracy: 0.8973\n",
      "Epoch 61/200\n",
      "17/17 [==============================] - 0s 3ms/step - loss: 0.3284 - accuracy: 0.8846 - val_loss: 0.3056 - val_accuracy: 0.8929\n",
      "Epoch 62/200\n",
      "17/17 [==============================] - 0s 4ms/step - loss: 0.3266 - accuracy: 0.8808 - val_loss: 0.3062 - val_accuracy: 0.9018\n",
      "Epoch 63/200\n",
      "17/17 [==============================] - 0s 4ms/step - loss: 0.3144 - accuracy: 0.8904 - val_loss: 0.3055 - val_accuracy: 0.8929\n",
      "Epoch 64/200\n",
      "17/17 [==============================] - 0s 3ms/step - loss: 0.3074 - accuracy: 0.8808 - val_loss: 0.2998 - val_accuracy: 0.8973\n",
      "Epoch 65/200\n",
      "17/17 [==============================] - 0s 3ms/step - loss: 0.3099 - accuracy: 0.8846 - val_loss: 0.2997 - val_accuracy: 0.8973\n",
      "Epoch 66/200\n",
      "17/17 [==============================] - 0s 3ms/step - loss: 0.3128 - accuracy: 0.8846 - val_loss: 0.2976 - val_accuracy: 0.9018\n",
      "Epoch 67/200\n",
      "17/17 [==============================] - 0s 3ms/step - loss: 0.3131 - accuracy: 0.8769 - val_loss: 0.2994 - val_accuracy: 0.8973\n",
      "Epoch 68/200\n",
      "17/17 [==============================] - 0s 3ms/step - loss: 0.3085 - accuracy: 0.8827 - val_loss: 0.2976 - val_accuracy: 0.8973\n",
      "Epoch 69/200\n",
      "17/17 [==============================] - 0s 3ms/step - loss: 0.3111 - accuracy: 0.8827 - val_loss: 0.2966 - val_accuracy: 0.8973\n",
      "Epoch 70/200\n",
      "17/17 [==============================] - 0s 3ms/step - loss: 0.2983 - accuracy: 0.8846 - val_loss: 0.2944 - val_accuracy: 0.8929\n",
      "Epoch 71/200\n",
      "17/17 [==============================] - 0s 3ms/step - loss: 0.3107 - accuracy: 0.8865 - val_loss: 0.2915 - val_accuracy: 0.9018\n",
      "Epoch 72/200\n",
      "17/17 [==============================] - 0s 4ms/step - loss: 0.3131 - accuracy: 0.8865 - val_loss: 0.2927 - val_accuracy: 0.9018\n",
      "Epoch 73/200\n",
      "17/17 [==============================] - 0s 3ms/step - loss: 0.3018 - accuracy: 0.8827 - val_loss: 0.2906 - val_accuracy: 0.9018\n",
      "Epoch 74/200\n",
      "17/17 [==============================] - 0s 2ms/step - loss: 0.3044 - accuracy: 0.8923 - val_loss: 0.2893 - val_accuracy: 0.8973\n",
      "Epoch 75/200\n",
      "17/17 [==============================] - 0s 3ms/step - loss: 0.3071 - accuracy: 0.8865 - val_loss: 0.2890 - val_accuracy: 0.8973\n",
      "Epoch 76/200\n",
      "17/17 [==============================] - 0s 3ms/step - loss: 0.3054 - accuracy: 0.8808 - val_loss: 0.2938 - val_accuracy: 0.8884\n",
      "Epoch 77/200\n",
      "17/17 [==============================] - 0s 3ms/step - loss: 0.3094 - accuracy: 0.8827 - val_loss: 0.2893 - val_accuracy: 0.8929\n",
      "Epoch 78/200\n",
      "17/17 [==============================] - 0s 3ms/step - loss: 0.3000 - accuracy: 0.8923 - val_loss: 0.2931 - val_accuracy: 0.8884\n",
      "Epoch 79/200\n",
      "17/17 [==============================] - 0s 2ms/step - loss: 0.2978 - accuracy: 0.8827 - val_loss: 0.2870 - val_accuracy: 0.8929\n",
      "Epoch 80/200\n",
      "17/17 [==============================] - 0s 3ms/step - loss: 0.2998 - accuracy: 0.8981 - val_loss: 0.2868 - val_accuracy: 0.8973\n",
      "Epoch 81/200\n",
      "17/17 [==============================] - 0s 3ms/step - loss: 0.3011 - accuracy: 0.8827 - val_loss: 0.2847 - val_accuracy: 0.9018\n",
      "Epoch 82/200\n",
      "17/17 [==============================] - 0s 4ms/step - loss: 0.2992 - accuracy: 0.8846 - val_loss: 0.2841 - val_accuracy: 0.9062\n",
      "Epoch 83/200\n",
      "17/17 [==============================] - 0s 3ms/step - loss: 0.2910 - accuracy: 0.8923 - val_loss: 0.2864 - val_accuracy: 0.8884\n",
      "Epoch 84/200\n",
      "17/17 [==============================] - 0s 3ms/step - loss: 0.2912 - accuracy: 0.8904 - val_loss: 0.2799 - val_accuracy: 0.9062\n",
      "Epoch 85/200\n",
      "17/17 [==============================] - 0s 3ms/step - loss: 0.2978 - accuracy: 0.8846 - val_loss: 0.2790 - val_accuracy: 0.8973\n",
      "Epoch 86/200\n",
      "17/17 [==============================] - 0s 3ms/step - loss: 0.3013 - accuracy: 0.8865 - val_loss: 0.2803 - val_accuracy: 0.9062\n",
      "Epoch 87/200\n",
      "17/17 [==============================] - 0s 3ms/step - loss: 0.2920 - accuracy: 0.8923 - val_loss: 0.2773 - val_accuracy: 0.9062\n",
      "Epoch 88/200\n",
      "17/17 [==============================] - 0s 3ms/step - loss: 0.2954 - accuracy: 0.8846 - val_loss: 0.2771 - val_accuracy: 0.9062\n",
      "Epoch 89/200\n",
      "17/17 [==============================] - 0s 3ms/step - loss: 0.2920 - accuracy: 0.8885 - val_loss: 0.2801 - val_accuracy: 0.9018\n",
      "Epoch 90/200\n",
      "17/17 [==============================] - 0s 2ms/step - loss: 0.2897 - accuracy: 0.8904 - val_loss: 0.2769 - val_accuracy: 0.8973\n",
      "Epoch 91/200\n",
      "17/17 [==============================] - 0s 3ms/step - loss: 0.2826 - accuracy: 0.8923 - val_loss: 0.2744 - val_accuracy: 0.8973\n",
      "Epoch 92/200\n",
      "17/17 [==============================] - 0s 2ms/step - loss: 0.2854 - accuracy: 0.8846 - val_loss: 0.2727 - val_accuracy: 0.9018\n",
      "Epoch 93/200\n",
      "17/17 [==============================] - 0s 2ms/step - loss: 0.2869 - accuracy: 0.8942 - val_loss: 0.2763 - val_accuracy: 0.8973\n",
      "Epoch 94/200\n",
      "17/17 [==============================] - 0s 2ms/step - loss: 0.2861 - accuracy: 0.8865 - val_loss: 0.2720 - val_accuracy: 0.9062\n",
      "Epoch 95/200\n",
      "17/17 [==============================] - 0s 2ms/step - loss: 0.2886 - accuracy: 0.8923 - val_loss: 0.2694 - val_accuracy: 0.9062\n",
      "Epoch 96/200\n",
      "17/17 [==============================] - 0s 2ms/step - loss: 0.2826 - accuracy: 0.8808 - val_loss: 0.2660 - val_accuracy: 0.9062\n",
      "Epoch 97/200\n",
      "17/17 [==============================] - 0s 3ms/step - loss: 0.2873 - accuracy: 0.8865 - val_loss: 0.2840 - val_accuracy: 0.8795\n",
      "Epoch 98/200\n",
      "17/17 [==============================] - 0s 3ms/step - loss: 0.2742 - accuracy: 0.8885 - val_loss: 0.2682 - val_accuracy: 0.8973\n",
      "Epoch 99/200\n",
      "17/17 [==============================] - 0s 3ms/step - loss: 0.2755 - accuracy: 0.8904 - val_loss: 0.2693 - val_accuracy: 0.9018\n",
      "Epoch 100/200\n",
      "17/17 [==============================] - 0s 3ms/step - loss: 0.2701 - accuracy: 0.8904 - val_loss: 0.2646 - val_accuracy: 0.9107\n",
      "Epoch 101/200\n",
      "17/17 [==============================] - 0s 2ms/step - loss: 0.2712 - accuracy: 0.8923 - val_loss: 0.2640 - val_accuracy: 0.9062\n",
      "Epoch 102/200\n",
      "17/17 [==============================] - 0s 2ms/step - loss: 0.2822 - accuracy: 0.8904 - val_loss: 0.2619 - val_accuracy: 0.9107\n",
      "Epoch 103/200\n",
      "17/17 [==============================] - 0s 2ms/step - loss: 0.2804 - accuracy: 0.8827 - val_loss: 0.2607 - val_accuracy: 0.9107\n",
      "Epoch 104/200\n",
      "17/17 [==============================] - 0s 3ms/step - loss: 0.2764 - accuracy: 0.8942 - val_loss: 0.2596 - val_accuracy: 0.9062\n",
      "Epoch 105/200\n",
      "17/17 [==============================] - 0s 2ms/step - loss: 0.2697 - accuracy: 0.8885 - val_loss: 0.2561 - val_accuracy: 0.9107\n",
      "Epoch 106/200\n",
      "17/17 [==============================] - 0s 2ms/step - loss: 0.2682 - accuracy: 0.8942 - val_loss: 0.2578 - val_accuracy: 0.9062\n",
      "Epoch 107/200\n",
      "17/17 [==============================] - 0s 2ms/step - loss: 0.2878 - accuracy: 0.8962 - val_loss: 0.2573 - val_accuracy: 0.9107\n",
      "Epoch 108/200\n",
      "17/17 [==============================] - 0s 2ms/step - loss: 0.2726 - accuracy: 0.8981 - val_loss: 0.2581 - val_accuracy: 0.9107\n",
      "Epoch 109/200\n",
      "17/17 [==============================] - 0s 3ms/step - loss: 0.2753 - accuracy: 0.8962 - val_loss: 0.2563 - val_accuracy: 0.9107\n",
      "Epoch 110/200\n",
      "17/17 [==============================] - 0s 3ms/step - loss: 0.2753 - accuracy: 0.8923 - val_loss: 0.2620 - val_accuracy: 0.9018\n",
      "Epoch 111/200\n",
      "17/17 [==============================] - 0s 3ms/step - loss: 0.2781 - accuracy: 0.8885 - val_loss: 0.2569 - val_accuracy: 0.9107\n",
      "Epoch 112/200\n",
      "17/17 [==============================] - 0s 3ms/step - loss: 0.2705 - accuracy: 0.8923 - val_loss: 0.2586 - val_accuracy: 0.9107\n",
      "Epoch 113/200\n",
      "17/17 [==============================] - 0s 2ms/step - loss: 0.2712 - accuracy: 0.8904 - val_loss: 0.2553 - val_accuracy: 0.9107\n",
      "Epoch 114/200\n",
      "17/17 [==============================] - 0s 2ms/step - loss: 0.2783 - accuracy: 0.8865 - val_loss: 0.2545 - val_accuracy: 0.9107\n",
      "Epoch 115/200\n",
      "17/17 [==============================] - 0s 2ms/step - loss: 0.2727 - accuracy: 0.8923 - val_loss: 0.2515 - val_accuracy: 0.9107\n"
     ]
    },
    {
     "name": "stdout",
     "output_type": "stream",
     "text": [
      "Epoch 116/200\n",
      "17/17 [==============================] - 0s 3ms/step - loss: 0.2554 - accuracy: 0.8942 - val_loss: 0.2508 - val_accuracy: 0.9018\n",
      "Epoch 117/200\n",
      "17/17 [==============================] - 0s 3ms/step - loss: 0.2705 - accuracy: 0.8923 - val_loss: 0.2549 - val_accuracy: 0.9107\n",
      "Epoch 118/200\n",
      "17/17 [==============================] - 0s 3ms/step - loss: 0.2675 - accuracy: 0.8942 - val_loss: 0.2553 - val_accuracy: 0.9107\n",
      "Epoch 119/200\n",
      "17/17 [==============================] - 0s 3ms/step - loss: 0.2660 - accuracy: 0.8942 - val_loss: 0.2529 - val_accuracy: 0.9107\n",
      "Epoch 120/200\n",
      "17/17 [==============================] - 0s 2ms/step - loss: 0.2664 - accuracy: 0.8942 - val_loss: 0.2537 - val_accuracy: 0.9107\n",
      "Epoch 121/200\n",
      "17/17 [==============================] - 0s 2ms/step - loss: 0.2639 - accuracy: 0.8942 - val_loss: 0.2490 - val_accuracy: 0.9107\n",
      "Epoch 122/200\n",
      "17/17 [==============================] - 0s 2ms/step - loss: 0.2690 - accuracy: 0.8923 - val_loss: 0.2499 - val_accuracy: 0.9107\n",
      "Epoch 123/200\n",
      "17/17 [==============================] - 0s 2ms/step - loss: 0.2658 - accuracy: 0.8962 - val_loss: 0.2481 - val_accuracy: 0.9107\n",
      "Epoch 124/200\n",
      "17/17 [==============================] - 0s 2ms/step - loss: 0.2598 - accuracy: 0.8942 - val_loss: 0.2464 - val_accuracy: 0.9107\n",
      "Epoch 125/200\n",
      "17/17 [==============================] - 0s 2ms/step - loss: 0.2590 - accuracy: 0.8885 - val_loss: 0.2495 - val_accuracy: 0.9018\n",
      "Epoch 126/200\n",
      "17/17 [==============================] - 0s 2ms/step - loss: 0.2589 - accuracy: 0.8942 - val_loss: 0.2442 - val_accuracy: 0.9107\n",
      "Epoch 127/200\n",
      "17/17 [==============================] - 0s 2ms/step - loss: 0.2571 - accuracy: 0.8962 - val_loss: 0.2426 - val_accuracy: 0.9107\n",
      "Epoch 128/200\n",
      "17/17 [==============================] - 0s 3ms/step - loss: 0.2606 - accuracy: 0.8885 - val_loss: 0.2450 - val_accuracy: 0.9062\n",
      "Epoch 129/200\n",
      "17/17 [==============================] - 0s 3ms/step - loss: 0.2534 - accuracy: 0.8942 - val_loss: 0.2442 - val_accuracy: 0.9107\n",
      "Epoch 130/200\n",
      "17/17 [==============================] - 0s 3ms/step - loss: 0.2581 - accuracy: 0.8923 - val_loss: 0.2440 - val_accuracy: 0.9107\n",
      "Epoch 131/200\n",
      "17/17 [==============================] - 0s 3ms/step - loss: 0.2500 - accuracy: 0.8923 - val_loss: 0.2392 - val_accuracy: 0.9107\n",
      "Epoch 132/200\n",
      "17/17 [==============================] - 0s 2ms/step - loss: 0.2555 - accuracy: 0.8885 - val_loss: 0.2391 - val_accuracy: 0.9107\n",
      "Epoch 133/200\n",
      "17/17 [==============================] - 0s 2ms/step - loss: 0.2552 - accuracy: 0.8981 - val_loss: 0.2367 - val_accuracy: 0.9062\n",
      "Epoch 134/200\n",
      "17/17 [==============================] - 0s 2ms/step - loss: 0.2586 - accuracy: 0.9038 - val_loss: 0.2360 - val_accuracy: 0.9018\n",
      "Epoch 135/200\n",
      "17/17 [==============================] - 0s 2ms/step - loss: 0.2614 - accuracy: 0.8942 - val_loss: 0.2393 - val_accuracy: 0.9018\n",
      "Epoch 136/200\n",
      "17/17 [==============================] - 0s 2ms/step - loss: 0.2489 - accuracy: 0.8962 - val_loss: 0.2369 - val_accuracy: 0.9018\n",
      "Epoch 137/200\n",
      "17/17 [==============================] - 0s 2ms/step - loss: 0.2431 - accuracy: 0.8981 - val_loss: 0.2334 - val_accuracy: 0.9107\n",
      "Epoch 138/200\n",
      "17/17 [==============================] - 0s 3ms/step - loss: 0.2654 - accuracy: 0.9000 - val_loss: 0.2381 - val_accuracy: 0.9018\n",
      "Epoch 139/200\n",
      "17/17 [==============================] - 0s 3ms/step - loss: 0.2459 - accuracy: 0.8962 - val_loss: 0.2354 - val_accuracy: 0.9107\n",
      "Epoch 140/200\n",
      "17/17 [==============================] - 0s 3ms/step - loss: 0.2478 - accuracy: 0.8981 - val_loss: 0.2385 - val_accuracy: 0.9018\n",
      "Epoch 141/200\n",
      "17/17 [==============================] - 0s 3ms/step - loss: 0.2403 - accuracy: 0.8981 - val_loss: 0.2306 - val_accuracy: 0.9062\n",
      "Epoch 142/200\n",
      "17/17 [==============================] - 0s 2ms/step - loss: 0.2420 - accuracy: 0.8962 - val_loss: 0.2302 - val_accuracy: 0.9062\n",
      "Epoch 143/200\n",
      "17/17 [==============================] - 0s 2ms/step - loss: 0.2447 - accuracy: 0.8981 - val_loss: 0.2293 - val_accuracy: 0.9062\n",
      "Epoch 144/200\n",
      "17/17 [==============================] - 0s 2ms/step - loss: 0.2293 - accuracy: 0.8981 - val_loss: 0.2276 - val_accuracy: 0.9107\n",
      "Epoch 145/200\n",
      "17/17 [==============================] - 0s 3ms/step - loss: 0.2444 - accuracy: 0.8981 - val_loss: 0.2269 - val_accuracy: 0.9018\n",
      "Epoch 146/200\n",
      "17/17 [==============================] - 0s 2ms/step - loss: 0.2489 - accuracy: 0.9019 - val_loss: 0.2254 - val_accuracy: 0.9018\n",
      "Epoch 147/200\n",
      "17/17 [==============================] - 0s 2ms/step - loss: 0.2420 - accuracy: 0.9019 - val_loss: 0.2271 - val_accuracy: 0.9018\n",
      "Epoch 148/200\n",
      "17/17 [==============================] - 0s 2ms/step - loss: 0.2239 - accuracy: 0.9058 - val_loss: 0.2240 - val_accuracy: 0.9018\n",
      "Epoch 149/200\n",
      "17/17 [==============================] - 0s 2ms/step - loss: 0.2356 - accuracy: 0.8962 - val_loss: 0.2235 - val_accuracy: 0.9018\n",
      "Epoch 150/200\n",
      "17/17 [==============================] - 0s 3ms/step - loss: 0.2438 - accuracy: 0.8942 - val_loss: 0.2240 - val_accuracy: 0.9018\n",
      "Epoch 151/200\n",
      "17/17 [==============================] - 0s 3ms/step - loss: 0.2454 - accuracy: 0.8904 - val_loss: 0.2191 - val_accuracy: 0.9018\n",
      "Epoch 152/200\n",
      "17/17 [==============================] - 0s 3ms/step - loss: 0.2294 - accuracy: 0.9019 - val_loss: 0.2222 - val_accuracy: 0.9018\n",
      "Epoch 153/200\n",
      "17/17 [==============================] - 0s 2ms/step - loss: 0.2376 - accuracy: 0.9019 - val_loss: 0.2180 - val_accuracy: 0.9018\n",
      "Epoch 154/200\n",
      "17/17 [==============================] - 0s 2ms/step - loss: 0.2407 - accuracy: 0.9000 - val_loss: 0.2214 - val_accuracy: 0.9018\n",
      "Epoch 155/200\n",
      "17/17 [==============================] - 0s 2ms/step - loss: 0.2204 - accuracy: 0.8981 - val_loss: 0.2161 - val_accuracy: 0.9018\n",
      "Epoch 156/200\n",
      "17/17 [==============================] - 0s 2ms/step - loss: 0.2374 - accuracy: 0.9000 - val_loss: 0.2202 - val_accuracy: 0.9018\n",
      "Epoch 157/200\n",
      "17/17 [==============================] - 0s 2ms/step - loss: 0.2399 - accuracy: 0.9019 - val_loss: 0.2156 - val_accuracy: 0.9018\n",
      "Epoch 158/200\n",
      "17/17 [==============================] - 0s 2ms/step - loss: 0.2311 - accuracy: 0.9077 - val_loss: 0.2209 - val_accuracy: 0.9018\n",
      "Epoch 159/200\n",
      "17/17 [==============================] - 0s 2ms/step - loss: 0.2229 - accuracy: 0.9077 - val_loss: 0.2205 - val_accuracy: 0.9018\n",
      "Epoch 160/200\n",
      "17/17 [==============================] - 0s 2ms/step - loss: 0.2186 - accuracy: 0.9077 - val_loss: 0.2158 - val_accuracy: 0.9018\n",
      "Epoch 161/200\n",
      "17/17 [==============================] - 0s 2ms/step - loss: 0.2216 - accuracy: 0.9154 - val_loss: 0.2137 - val_accuracy: 0.9018\n",
      "Epoch 162/200\n",
      "17/17 [==============================] - ETA: 0s - loss: 0.2289 - accuracy: 0.90 - 0s 4ms/step - loss: 0.2244 - accuracy: 0.9019 - val_loss: 0.2154 - val_accuracy: 0.9062\n",
      "Epoch 163/200\n",
      "17/17 [==============================] - 0s 3ms/step - loss: 0.2091 - accuracy: 0.9115 - val_loss: 0.2147 - val_accuracy: 0.9152\n",
      "Epoch 164/200\n",
      "17/17 [==============================] - 0s 3ms/step - loss: 0.2238 - accuracy: 0.9250 - val_loss: 0.2199 - val_accuracy: 0.9018\n",
      "Epoch 165/200\n",
      "17/17 [==============================] - 0s 3ms/step - loss: 0.2114 - accuracy: 0.9154 - val_loss: 0.2127 - val_accuracy: 0.9062\n",
      "Epoch 166/200\n",
      "17/17 [==============================] - 0s 3ms/step - loss: 0.2096 - accuracy: 0.9269 - val_loss: 0.2172 - val_accuracy: 0.8973\n",
      "Epoch 167/200\n",
      "17/17 [==============================] - 0s 2ms/step - loss: 0.2239 - accuracy: 0.9173 - val_loss: 0.2083 - val_accuracy: 0.9062\n",
      "Epoch 168/200\n",
      "17/17 [==============================] - 0s 2ms/step - loss: 0.2201 - accuracy: 0.9077 - val_loss: 0.2110 - val_accuracy: 0.9107\n",
      "Epoch 169/200\n",
      "17/17 [==============================] - 0s 2ms/step - loss: 0.2126 - accuracy: 0.9250 - val_loss: 0.2097 - val_accuracy: 0.9107\n",
      "Epoch 170/200\n",
      "17/17 [==============================] - 0s 2ms/step - loss: 0.2028 - accuracy: 0.9212 - val_loss: 0.2116 - val_accuracy: 0.9196\n",
      "Epoch 171/200\n",
      "17/17 [==============================] - 0s 2ms/step - loss: 0.2041 - accuracy: 0.9250 - val_loss: 0.2073 - val_accuracy: 0.9107\n",
      "Epoch 172/200\n",
      "17/17 [==============================] - 0s 2ms/step - loss: 0.2053 - accuracy: 0.9231 - val_loss: 0.2054 - val_accuracy: 0.9062\n"
     ]
    },
    {
     "name": "stdout",
     "output_type": "stream",
     "text": [
      "Epoch 173/200\n",
      "17/17 [==============================] - 0s 3ms/step - loss: 0.2118 - accuracy: 0.9250 - val_loss: 0.2027 - val_accuracy: 0.9107\n",
      "Epoch 174/200\n",
      "17/17 [==============================] - 0s 3ms/step - loss: 0.2082 - accuracy: 0.9308 - val_loss: 0.2063 - val_accuracy: 0.9107\n",
      "Epoch 175/200\n",
      "17/17 [==============================] - 0s 3ms/step - loss: 0.2038 - accuracy: 0.9212 - val_loss: 0.2041 - val_accuracy: 0.9107\n",
      "Epoch 176/200\n",
      "17/17 [==============================] - 0s 3ms/step - loss: 0.2129 - accuracy: 0.9212 - val_loss: 0.2075 - val_accuracy: 0.9062\n",
      "Epoch 177/200\n",
      "17/17 [==============================] - 0s 2ms/step - loss: 0.2054 - accuracy: 0.9308 - val_loss: 0.2062 - val_accuracy: 0.9196\n",
      "Epoch 178/200\n",
      "17/17 [==============================] - 0s 2ms/step - loss: 0.1943 - accuracy: 0.9327 - val_loss: 0.2051 - val_accuracy: 0.9107\n",
      "Epoch 179/200\n",
      "17/17 [==============================] - 0s 2ms/step - loss: 0.2028 - accuracy: 0.9288 - val_loss: 0.2006 - val_accuracy: 0.9196\n",
      "Epoch 180/200\n",
      "17/17 [==============================] - 0s 2ms/step - loss: 0.2029 - accuracy: 0.9308 - val_loss: 0.2015 - val_accuracy: 0.9107\n",
      "Epoch 181/200\n",
      "17/17 [==============================] - 0s 2ms/step - loss: 0.2058 - accuracy: 0.9192 - val_loss: 0.2012 - val_accuracy: 0.9107\n",
      "Epoch 182/200\n",
      "17/17 [==============================] - 0s 2ms/step - loss: 0.1946 - accuracy: 0.9308 - val_loss: 0.2005 - val_accuracy: 0.9241\n",
      "Epoch 183/200\n",
      "17/17 [==============================] - 0s 2ms/step - loss: 0.2084 - accuracy: 0.9404 - val_loss: 0.2013 - val_accuracy: 0.9152\n",
      "Epoch 184/200\n",
      "17/17 [==============================] - 0s 2ms/step - loss: 0.1988 - accuracy: 0.9327 - val_loss: 0.2005 - val_accuracy: 0.9286\n",
      "Epoch 185/200\n",
      "17/17 [==============================] - 0s 3ms/step - loss: 0.1990 - accuracy: 0.9288 - val_loss: 0.1980 - val_accuracy: 0.9107\n",
      "Epoch 186/200\n",
      "17/17 [==============================] - 0s 3ms/step - loss: 0.1885 - accuracy: 0.9288 - val_loss: 0.1959 - val_accuracy: 0.9286\n",
      "Epoch 187/200\n",
      "17/17 [==============================] - 0s 3ms/step - loss: 0.1959 - accuracy: 0.9269 - val_loss: 0.1974 - val_accuracy: 0.9107\n",
      "Epoch 188/200\n",
      "17/17 [==============================] - 0s 2ms/step - loss: 0.1930 - accuracy: 0.9308 - val_loss: 0.1955 - val_accuracy: 0.9152\n",
      "Epoch 189/200\n",
      "17/17 [==============================] - 0s 2ms/step - loss: 0.1858 - accuracy: 0.9327 - val_loss: 0.1948 - val_accuracy: 0.9286\n",
      "Epoch 190/200\n",
      "17/17 [==============================] - 0s 2ms/step - loss: 0.1961 - accuracy: 0.9385 - val_loss: 0.1918 - val_accuracy: 0.9152\n",
      "Epoch 191/200\n",
      "17/17 [==============================] - 0s 2ms/step - loss: 0.1819 - accuracy: 0.9365 - val_loss: 0.1910 - val_accuracy: 0.9241\n",
      "Epoch 192/200\n",
      "17/17 [==============================] - 0s 2ms/step - loss: 0.1904 - accuracy: 0.9365 - val_loss: 0.1889 - val_accuracy: 0.9152\n",
      "Epoch 193/200\n",
      "17/17 [==============================] - 0s 3ms/step - loss: 0.1875 - accuracy: 0.9346 - val_loss: 0.1860 - val_accuracy: 0.9196\n",
      "Epoch 194/200\n",
      "17/17 [==============================] - 0s 3ms/step - loss: 0.1920 - accuracy: 0.9308 - val_loss: 0.1876 - val_accuracy: 0.9196\n",
      "Epoch 195/200\n",
      "17/17 [==============================] - 0s 2ms/step - loss: 0.1831 - accuracy: 0.9346 - val_loss: 0.1873 - val_accuracy: 0.9330\n",
      "Epoch 196/200\n",
      "17/17 [==============================] - 0s 2ms/step - loss: 0.1859 - accuracy: 0.9327 - val_loss: 0.1859 - val_accuracy: 0.9286\n",
      "Epoch 197/200\n",
      "17/17 [==============================] - 0s 3ms/step - loss: 0.1884 - accuracy: 0.9346 - val_loss: 0.1832 - val_accuracy: 0.9196\n",
      "Epoch 198/200\n",
      "17/17 [==============================] - 0s 3ms/step - loss: 0.1830 - accuracy: 0.9385 - val_loss: 0.1872 - val_accuracy: 0.9330\n",
      "Epoch 199/200\n",
      "17/17 [==============================] - 0s 3ms/step - loss: 0.1808 - accuracy: 0.9385 - val_loss: 0.1837 - val_accuracy: 0.9241\n",
      "Epoch 200/200\n",
      "17/17 [==============================] - 0s 3ms/step - loss: 0.1856 - accuracy: 0.9269 - val_loss: 0.1814 - val_accuracy: 0.9241\n"
     ]
    }
   ],
   "source": [
    "history3=model3.fit(X_train, y_train, validation_data=(X_test, y_test),epochs=200)"
   ]
  },
  {
   "cell_type": "code",
   "execution_count": 56,
   "id": "exposed-jordan",
   "metadata": {},
   "outputs": [
    {
     "name": "stdout",
     "output_type": "stream",
     "text": [
      "17/17 [==============================] - 0s 1ms/step - loss: 0.1590 - accuracy: 0.9500\n",
      "7/7 [==============================] - 0s 997us/step - loss: 0.1814 - accuracy: 0.9241\n",
      "Train: 0.950, Test: 0.924\n"
     ]
    }
   ],
   "source": [
    "_,train_acc = model3.evaluate(X_train, y_train)\n",
    "_,test_acc = model3.evaluate(X_test, y_test)\n",
    "print('Train: %.3f, Test: %.3f' % (train_acc, test_acc))"
   ]
  },
  {
   "cell_type": "code",
   "execution_count": 57,
   "id": "distant-lafayette",
   "metadata": {},
   "outputs": [
    {
     "data": {
      "image/png": "[encoded data removed]",
      "text/plain": [
       "<Figure size 432x288 with 1 Axes>"
      ]
     },
     "metadata": {
      "needs_background": "light"
     },
     "output_type": "display_data"
    }
   ],
   "source": [
    "plt.plot(history3.history['loss'])\n",
    "plt.plot(history3.history['val_loss'])\n",
    "plt.title('model loss')\n",
    "plt.ylabel('loss')\n",
    "plt.xlabel('epoch')\n",
    "plt.legend(['train', 'test'], loc='upper left')\n",
    "plt.show()"
   ]
  },
  {
   "cell_type": "code",
   "execution_count": 58,
   "id": "monthly-mexican",
   "metadata": {},
   "outputs": [
    {
     "data": {
      "text/plain": [
       "<matplotlib.legend.Legend at 0x2444ac916c8>"
      ]
     },
     "execution_count": 58,
     "metadata": {},
     "output_type": "execute_result"
    },
    {
     "data": {
      "image/png": "[encoded data removed]",
      "text/plain": [
       "<Figure size 432x288 with 1 Axes>"
      ]
     },
     "metadata": {
      "needs_background": "light"
     },
     "output_type": "display_data"
    }
   ],
   "source": [
    "plt.plot(history3.history['accuracy'])\n",
    "plt.plot(history3.history['val_accuracy'])\n",
    "plt.title('model accuracy')\n",
    "plt.ylabel('accuracy')\n",
    "plt.xlabel('epoch')\n",
    "plt.legend(['train', 'test'], loc='upper left')"
   ]
  },
  {
   "cell_type": "code",
   "execution_count": 59,
   "id": "supported-delaware",
   "metadata": {},
   "outputs": [
    {
     "name": "stdout",
     "output_type": "stream",
     "text": [
      "[0, 1, 0, 0, 1, 0, 0, 0, 0, 1, 1, 0, 0, 0, 0, 1, 0, 0, 1, 0, 1, 1, 0, 0, 0, 0, 0, 0, 1, 0, 0, 0, 0, 0, 0, 0, 1, 0, 1, 0, 0, 1, 1, 0, 1, 1, 1, 0, 1, 0, 0, 1, 0, 1, 1, 0, 0, 0, 1, 0, 0, 0, 1, 0, 0, 0, 1, 1, 1, 1, 0, 0, 1, 1, 1, 0, 1, 1, 0, 0, 0, 1, 0, 1, 0, 0, 1, 1, 0, 0, 0, 0, 0, 1, 0, 0, 0, 1, 1, 0, 0, 0, 1, 0, 0, 0, 0, 1, 0, 0, 1, 0, 0, 0, 0, 1, 0, 1, 0, 0, 0, 1, 1, 1, 1, 1, 0, 0, 0, 0, 0, 0, 0, 0, 0, 0, 1, 0, 1, 1, 0, 0, 1, 0, 1, 0, 1, 0, 1, 0, 0, 1, 0, 0, 1, 0, 1, 0, 0, 1, 1, 1, 1, 0, 0, 1, 0, 1, 0, 0, 1, 0, 0, 0, 0, 1, 0, 1, 0, 0, 0, 1, 1, 1, 1, 0, 0, 0, 1, 1, 0, 0, 1, 1, 1, 1, 0, 0, 1, 0, 1, 1, 0, 0, 0, 0, 1, 0, 1, 0, 0, 0, 0, 1, 1, 1, 0, 0, 0, 1, 1, 1, 1, 0]\n"
     ]
    }
   ],
   "source": [
    "predict_y=model3.predict(X_test)\n",
    "predict_value=[]\n",
    "for predict in predict_y:\n",
    "    if predict>0.5:\n",
    "     predict_value.append(1)\n",
    "    else:\n",
    "        predict_value.append(0)\n",
    "print(predict_value)        "
   ]
  },
  {
   "cell_type": "code",
   "execution_count": 60,
   "id": "completed-dover",
   "metadata": {},
   "outputs": [
    {
     "name": "stdout",
     "output_type": "stream",
     "text": [
      "[[120   2]\n",
      " [ 15  87]]\n"
     ]
    }
   ],
   "source": [
    "from sklearn.metrics import confusion_matrix\n",
    "print(confusion_matrix(y_test, predict_value))"
   ]
  },
  {
   "cell_type": "code",
   "execution_count": 61,
   "id": "excess-airport",
   "metadata": {},
   "outputs": [
    {
     "name": "stdout",
     "output_type": "stream",
     "text": [
      "              precision    recall  f1-score   support\n",
      "\n",
      "           0       0.89      0.98      0.93       122\n",
      "           1       0.98      0.85      0.91       102\n",
      "\n",
      "    accuracy                           0.92       224\n",
      "   macro avg       0.93      0.92      0.92       224\n",
      "weighted avg       0.93      0.92      0.92       224\n",
      "\n"
     ]
    }
   ],
   "source": [
    "from sklearn.metrics import classification_report\n",
    "print(classification_report(y_test,predict_value))"
   ]
  },
  {
   "cell_type": "code",
   "execution_count": 62,
   "id": "dress-blues",
   "metadata": {},
   "outputs": [],
   "source": [
    "model3.save('model3.h5')"
   ]
  },
  {
   "cell_type": "markdown",
   "id": "settled-bathroom",
   "metadata": {},
   "source": [
    "# Create a Python list of loaded models"
   ]
  },
  {
   "cell_type": "code",
   "execution_count": 63,
   "id": "coordinate-rachel",
   "metadata": {},
   "outputs": [],
   "source": [
    "def load_all_models(n_models):\n",
    "    all_models = list()\n",
    "    for i in range(n_models):\n",
    "        # define filename for this ensemble\n",
    "        filename = 'model' + str(i + 1) + '.h5'\n",
    "# load model from file\n",
    "        model = load_model(filename)\n",
    "# add to list of members\n",
    "        all_models.append(model)\n",
    "        print('>loaded %s' % filename)\n",
    "    return all_models"
   ]
  },
  {
   "cell_type": "markdown",
   "id": "legendary-pennsylvania",
   "metadata": {},
   "source": [
    "# Call this function to load three saved models"
   ]
  },
  {
   "cell_type": "code",
   "execution_count": 64,
   "id": "proprietary-satin",
   "metadata": {},
   "outputs": [
    {
     "name": "stdout",
     "output_type": "stream",
     "text": [
      ">loaded model1.h5\n",
      ">loaded model2.h5\n",
      ">loaded model3.h5\n",
      "Loaded 3 model\n"
     ]
    }
   ],
   "source": [
    "# load all models\n",
    "from keras.models import load_model\n",
    "n_members = 3\n",
    "members = load_all_models(n_members)\n",
    "print('Loaded %d model' % len(members))"
   ]
  },
  {
   "cell_type": "markdown",
   "id": "fatal-valley",
   "metadata": {},
   "source": [
    "# Prepare a training dataset for the meta-learner"
   ]
  },
  {
   "cell_type": "code",
   "execution_count": 65,
   "id": "eastern-politics",
   "metadata": {},
   "outputs": [],
   "source": [
    "# create stacked model input dataset as outputs from the ensemble\n",
    "from numpy import dstack\n",
    "def stacked_dataset(members, inputX):\n",
    "    stackX = None\n",
    "    for model in members:\n",
    "# make prediction\n",
    "        yhat = model.predict(inputX, verbose=0)\n",
    "# stack predictions into [rows, members, probabilities]\n",
    "        if stackX is None:\n",
    "            stackX = yhat\n",
    "        else:\n",
    "            stackX = dstack((stackX, yhat))\n",
    "# flatten predictions to [rows, members x probabilities]\n",
    "    stackX = stackX.reshape((stackX.shape[0], stackX.shape[1]*stackX.shape[2]))\n",
    "    return stackX"
   ]
  },
  {
   "cell_type": "markdown",
   "id": "returning-cattle",
   "metadata": {},
   "source": [
    "# Use the prepared training dataset to fit a meta-learner model"
   ]
  },
  {
   "cell_type": "code",
   "execution_count": 66,
   "id": "banner-business",
   "metadata": {},
   "outputs": [],
   "source": [
    "# fit a model based on the outputs from the ensemble members\n",
    "from sklearn.linear_model import LogisticRegression\n",
    "def fit_stacked_model(members, inputX, inputy):\n",
    "# create dataset using ensemble\n",
    "    stackedX = stacked_dataset(members, inputX)\n",
    "# fit standalone model\n",
    "    model = LogisticRegression()\n",
    "    model.fit(stackedX, inputy)\n",
    "    return model"
   ]
  },
  {
   "cell_type": "markdown",
   "id": "ideal-frank",
   "metadata": {},
   "source": [
    "# Make a prediction with the stacked model"
   ]
  },
  {
   "cell_type": "code",
   "execution_count": 67,
   "id": "senior-intelligence",
   "metadata": {},
   "outputs": [],
   "source": [
    "def stacked_prediction(members, model, inputX):\n",
    "# create dataset using ensemble\n",
    "    stackedX = stacked_dataset(members, inputX)\n",
    "#make a prediction\n",
    "    yhat = model.predict(stackedX)\n",
    "    return yhat"
   ]
  },
  {
   "cell_type": "markdown",
   "id": "ahead-cable",
   "metadata": {},
   "source": [
    "# Evaluate each single model on the training dataset and establish a baseline of performance"
   ]
  },
  {
   "cell_type": "code",
   "execution_count": 68,
   "id": "seventh-ferry",
   "metadata": {},
   "outputs": [
    {
     "name": "stdout",
     "output_type": "stream",
     "text": [
      "Model Accuracy: 0.884\n",
      "Model Accuracy: 0.906\n",
      "Model Accuracy: 0.924\n"
     ]
    }
   ],
   "source": [
    "# evaluate standalone models on test dataset\n",
    "for model in members:\n",
    "    y_test_enc = y_test\n",
    "    _, acc = model.evaluate(X_test, y_test_enc, verbose=0)\n",
    "    print('Model Accuracy: %.3f' % acc)"
   ]
  },
  {
   "cell_type": "markdown",
   "id": "speaking-legend",
   "metadata": {},
   "source": [
    "# Fit stacked model using the ensemble"
   ]
  },
  {
   "cell_type": "code",
   "execution_count": 69,
   "id": "following-classroom",
   "metadata": {},
   "outputs": [],
   "source": [
    "from sklearn.metrics import accuracy_score\n",
    "model = fit_stacked_model(members, X_test, y_test_enc)"
   ]
  },
  {
   "cell_type": "markdown",
   "id": "above-burke",
   "metadata": {},
   "source": [
    "# Evaluate model on test set"
   ]
  },
  {
   "cell_type": "code",
   "execution_count": 70,
   "id": "macro-trader",
   "metadata": {},
   "outputs": [
    {
     "name": "stdout",
     "output_type": "stream",
     "text": [
      "Stacked Test Accuracy: 0.929\n"
     ]
    }
   ],
   "source": [
    "yhat = stacked_prediction(members, model, X_test)\n",
    "acc = accuracy_score(y_test_enc, yhat)\n",
    "print('Stacked Test Accuracy: %.3f' % acc)"
   ]
  },
  {
   "cell_type": "code",
   "execution_count": 71,
   "id": "referenced-alaska",
   "metadata": {},
   "outputs": [
    {
     "name": "stdout",
     "output_type": "stream",
     "text": [
      "[[119   3]\n",
      " [ 13  89]]\n"
     ]
    }
   ],
   "source": [
    "from sklearn.metrics import confusion_matrix\n",
    "print(confusion_matrix(y_test_enc, yhat))"
   ]
  },
  {
   "cell_type": "code",
   "execution_count": 72,
   "id": "african-failing",
   "metadata": {},
   "outputs": [
    {
     "name": "stdout",
     "output_type": "stream",
     "text": [
      "              precision    recall  f1-score   support\n",
      "\n",
      "           0       0.90      0.98      0.94       122\n",
      "           1       0.97      0.87      0.92       102\n",
      "\n",
      "    accuracy                           0.93       224\n",
      "   macro avg       0.93      0.92      0.93       224\n",
      "weighted avg       0.93      0.93      0.93       224\n",
      "\n"
     ]
    }
   ],
   "source": [
    "from sklearn.metrics import classification_report\n",
    "print(classification_report(y_test_enc, yhat))"
   ]
  },
  {
   "cell_type": "code",
   "execution_count": null,
   "id": "outer-flour",
   "metadata": {},
   "outputs": [],
   "source": []
  }
 ],
 "metadata": {
  "kernelspec": {
   "display_name": "Python 3",
   "language": "python",
   "name": "python3"
  },
  "language_info": {
   "codemirror_mode": {
    "name": "ipython",
    "version": 3
   },
   "file_extension": ".py",
   "mimetype": "text/x-python",
   "name": "python",
   "nbconvert_exporter": "python",
   "pygments_lexer": "ipython3",
   "version": "3.7.9"
  }
 },
 "nbformat": 4,
 "nbformat_minor": 5
}
