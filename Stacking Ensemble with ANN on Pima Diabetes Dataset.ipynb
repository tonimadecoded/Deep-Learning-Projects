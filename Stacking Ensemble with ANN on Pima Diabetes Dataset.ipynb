{
 "cells": [
  {
   "cell_type": "code",
   "execution_count": 1,
   "id": "virgin-democracy",
   "metadata": {},
   "outputs": [],
   "source": [
    "# Import the Neccessary Libraries\n",
    "import numpy as np\n",
    "import pandas as pd\n",
    "import matplotlib.pyplot as plt\n",
    "import seaborn as sns\n",
    "import warnings\n",
    "warnings.filterwarnings('ignore')\n",
    "%matplotlib inline"
   ]
  },
  {
   "cell_type": "markdown",
   "id": "nonprofit-romance",
   "metadata": {},
   "source": [
    "# Load dataset"
   ]
  },
  {
   "cell_type": "code",
   "execution_count": 2,
   "id": "billion-wrapping",
   "metadata": {},
   "outputs": [
    {
     "data": {
      "text/html": [
       "<div>\n",
       "<style scoped>\n",
       "    .dataframe tbody tr th:only-of-type {\n",
       "        vertical-align: middle;\n",
       "    }\n",
       "\n",
       "    .dataframe tbody tr th {\n",
       "        vertical-align: top;\n",
       "    }\n",
       "\n",
       "    .dataframe thead th {\n",
       "        text-align: right;\n",
       "    }\n",
       "</style>\n",
       "<table border=\"1\" class=\"dataframe\">\n",
       "  <thead>\n",
       "    <tr style=\"text-align: right;\">\n",
       "      <th></th>\n",
       "      <th>0</th>\n",
       "      <th>1</th>\n",
       "      <th>2</th>\n",
       "      <th>3</th>\n",
       "      <th>4</th>\n",
       "      <th>5</th>\n",
       "      <th>6</th>\n",
       "      <th>7</th>\n",
       "      <th>8</th>\n",
       "    </tr>\n",
       "  </thead>\n",
       "  <tbody>\n",
       "    <tr>\n",
       "      <th>0</th>\n",
       "      <td>6</td>\n",
       "      <td>148</td>\n",
       "      <td>72</td>\n",
       "      <td>35</td>\n",
       "      <td>0</td>\n",
       "      <td>33.6</td>\n",
       "      <td>0.627</td>\n",
       "      <td>50</td>\n",
       "      <td>1</td>\n",
       "    </tr>\n",
       "    <tr>\n",
       "      <th>1</th>\n",
       "      <td>1</td>\n",
       "      <td>85</td>\n",
       "      <td>66</td>\n",
       "      <td>29</td>\n",
       "      <td>0</td>\n",
       "      <td>26.6</td>\n",
       "      <td>0.351</td>\n",
       "      <td>31</td>\n",
       "      <td>0</td>\n",
       "    </tr>\n",
       "    <tr>\n",
       "      <th>2</th>\n",
       "      <td>8</td>\n",
       "      <td>183</td>\n",
       "      <td>64</td>\n",
       "      <td>0</td>\n",
       "      <td>0</td>\n",
       "      <td>23.3</td>\n",
       "      <td>0.672</td>\n",
       "      <td>32</td>\n",
       "      <td>1</td>\n",
       "    </tr>\n",
       "    <tr>\n",
       "      <th>3</th>\n",
       "      <td>1</td>\n",
       "      <td>89</td>\n",
       "      <td>66</td>\n",
       "      <td>23</td>\n",
       "      <td>94</td>\n",
       "      <td>28.1</td>\n",
       "      <td>0.167</td>\n",
       "      <td>21</td>\n",
       "      <td>0</td>\n",
       "    </tr>\n",
       "    <tr>\n",
       "      <th>4</th>\n",
       "      <td>0</td>\n",
       "      <td>137</td>\n",
       "      <td>40</td>\n",
       "      <td>35</td>\n",
       "      <td>168</td>\n",
       "      <td>43.1</td>\n",
       "      <td>2.288</td>\n",
       "      <td>33</td>\n",
       "      <td>1</td>\n",
       "    </tr>\n",
       "  </tbody>\n",
       "</table>\n",
       "</div>"
      ],
      "text/plain": [
       "   0    1   2   3    4     5      6   7  8\n",
       "0  6  148  72  35    0  33.6  0.627  50  1\n",
       "1  1   85  66  29    0  26.6  0.351  31  0\n",
       "2  8  183  64   0    0  23.3  0.672  32  1\n",
       "3  1   89  66  23   94  28.1  0.167  21  0\n",
       "4  0  137  40  35  168  43.1  2.288  33  1"
      ]
     },
     "execution_count": 2,
     "metadata": {},
     "output_type": "execute_result"
    }
   ],
   "source": [
    "# Import The Dataset\n",
    "pima = pd.read_csv(\"pima-indians-diabetes.csv\",header=None)\n",
    "pima.head()"
   ]
  },
  {
   "cell_type": "code",
   "execution_count": 3,
   "id": "resistant-rover",
   "metadata": {},
   "outputs": [
    {
     "data": {
      "text/plain": [
       "(768, 9)"
      ]
     },
     "execution_count": 3,
     "metadata": {},
     "output_type": "execute_result"
    }
   ],
   "source": [
    "# Dimesions of data set\n",
    "pima.shape"
   ]
  },
  {
   "cell_type": "markdown",
   "id": "subjective-elevation",
   "metadata": {},
   "source": [
    "# Rename columns"
   ]
  },
  {
   "cell_type": "code",
   "execution_count": 4,
   "id": "overall-travel",
   "metadata": {},
   "outputs": [],
   "source": [
    "#rename columns\n",
    "import pandas as pd\n",
    "pima.rename(columns={0: 'Pregnancies', 1: 'Glucose', 2: 'BloodPressure', 3: 'SkinThickness', 4: 'Insulin', 5: 'BMI', 6: 'DiabetesPedigreeFunction', 7: 'Age', 8: 'Outcome'}, inplace=True)\n"
   ]
  },
  {
   "cell_type": "code",
   "execution_count": 5,
   "id": "determined-witness",
   "metadata": {},
   "outputs": [
    {
     "data": {
      "text/html": [
       "<div>\n",
       "<style scoped>\n",
       "    .dataframe tbody tr th:only-of-type {\n",
       "        vertical-align: middle;\n",
       "    }\n",
       "\n",
       "    .dataframe tbody tr th {\n",
       "        vertical-align: top;\n",
       "    }\n",
       "\n",
       "    .dataframe thead th {\n",
       "        text-align: right;\n",
       "    }\n",
       "</style>\n",
       "<table border=\"1\" class=\"dataframe\">\n",
       "  <thead>\n",
       "    <tr style=\"text-align: right;\">\n",
       "      <th></th>\n",
       "      <th>Pregnancies</th>\n",
       "      <th>Glucose</th>\n",
       "      <th>BloodPressure</th>\n",
       "      <th>SkinThickness</th>\n",
       "      <th>Insulin</th>\n",
       "      <th>BMI</th>\n",
       "      <th>DiabetesPedigreeFunction</th>\n",
       "      <th>Age</th>\n",
       "      <th>Outcome</th>\n",
       "    </tr>\n",
       "  </thead>\n",
       "  <tbody>\n",
       "    <tr>\n",
       "      <th>count</th>\n",
       "      <td>768.000000</td>\n",
       "      <td>768.000000</td>\n",
       "      <td>768.000000</td>\n",
       "      <td>768.000000</td>\n",
       "      <td>768.000000</td>\n",
       "      <td>768.000000</td>\n",
       "      <td>768.000000</td>\n",
       "      <td>768.000000</td>\n",
       "      <td>768.000000</td>\n",
       "    </tr>\n",
       "    <tr>\n",
       "      <th>mean</th>\n",
       "      <td>3.845052</td>\n",
       "      <td>120.894531</td>\n",
       "      <td>69.105469</td>\n",
       "      <td>20.536458</td>\n",
       "      <td>79.799479</td>\n",
       "      <td>31.992578</td>\n",
       "      <td>0.471876</td>\n",
       "      <td>33.240885</td>\n",
       "      <td>0.348958</td>\n",
       "    </tr>\n",
       "    <tr>\n",
       "      <th>std</th>\n",
       "      <td>3.369578</td>\n",
       "      <td>31.972618</td>\n",
       "      <td>19.355807</td>\n",
       "      <td>15.952218</td>\n",
       "      <td>115.244002</td>\n",
       "      <td>7.884160</td>\n",
       "      <td>0.331329</td>\n",
       "      <td>11.760232</td>\n",
       "      <td>0.476951</td>\n",
       "    </tr>\n",
       "    <tr>\n",
       "      <th>min</th>\n",
       "      <td>0.000000</td>\n",
       "      <td>0.000000</td>\n",
       "      <td>0.000000</td>\n",
       "      <td>0.000000</td>\n",
       "      <td>0.000000</td>\n",
       "      <td>0.000000</td>\n",
       "      <td>0.078000</td>\n",
       "      <td>21.000000</td>\n",
       "      <td>0.000000</td>\n",
       "    </tr>\n",
       "    <tr>\n",
       "      <th>25%</th>\n",
       "      <td>1.000000</td>\n",
       "      <td>99.000000</td>\n",
       "      <td>62.000000</td>\n",
       "      <td>0.000000</td>\n",
       "      <td>0.000000</td>\n",
       "      <td>27.300000</td>\n",
       "      <td>0.243750</td>\n",
       "      <td>24.000000</td>\n",
       "      <td>0.000000</td>\n",
       "    </tr>\n",
       "    <tr>\n",
       "      <th>50%</th>\n",
       "      <td>3.000000</td>\n",
       "      <td>117.000000</td>\n",
       "      <td>72.000000</td>\n",
       "      <td>23.000000</td>\n",
       "      <td>30.500000</td>\n",
       "      <td>32.000000</td>\n",
       "      <td>0.372500</td>\n",
       "      <td>29.000000</td>\n",
       "      <td>0.000000</td>\n",
       "    </tr>\n",
       "    <tr>\n",
       "      <th>75%</th>\n",
       "      <td>6.000000</td>\n",
       "      <td>140.250000</td>\n",
       "      <td>80.000000</td>\n",
       "      <td>32.000000</td>\n",
       "      <td>127.250000</td>\n",
       "      <td>36.600000</td>\n",
       "      <td>0.626250</td>\n",
       "      <td>41.000000</td>\n",
       "      <td>1.000000</td>\n",
       "    </tr>\n",
       "    <tr>\n",
       "      <th>max</th>\n",
       "      <td>17.000000</td>\n",
       "      <td>199.000000</td>\n",
       "      <td>122.000000</td>\n",
       "      <td>99.000000</td>\n",
       "      <td>846.000000</td>\n",
       "      <td>67.100000</td>\n",
       "      <td>2.420000</td>\n",
       "      <td>81.000000</td>\n",
       "      <td>1.000000</td>\n",
       "    </tr>\n",
       "  </tbody>\n",
       "</table>\n",
       "</div>"
      ],
      "text/plain": [
       "       Pregnancies     Glucose  BloodPressure  SkinThickness     Insulin  \\\n",
       "count   768.000000  768.000000     768.000000     768.000000  768.000000   \n",
       "mean      3.845052  120.894531      69.105469      20.536458   79.799479   \n",
       "std       3.369578   31.972618      19.355807      15.952218  115.244002   \n",
       "min       0.000000    0.000000       0.000000       0.000000    0.000000   \n",
       "25%       1.000000   99.000000      62.000000       0.000000    0.000000   \n",
       "50%       3.000000  117.000000      72.000000      23.000000   30.500000   \n",
       "75%       6.000000  140.250000      80.000000      32.000000  127.250000   \n",
       "max      17.000000  199.000000     122.000000      99.000000  846.000000   \n",
       "\n",
       "              BMI  DiabetesPedigreeFunction         Age     Outcome  \n",
       "count  768.000000                768.000000  768.000000  768.000000  \n",
       "mean    31.992578                  0.471876   33.240885    0.348958  \n",
       "std      7.884160                  0.331329   11.760232    0.476951  \n",
       "min      0.000000                  0.078000   21.000000    0.000000  \n",
       "25%     27.300000                  0.243750   24.000000    0.000000  \n",
       "50%     32.000000                  0.372500   29.000000    0.000000  \n",
       "75%     36.600000                  0.626250   41.000000    1.000000  \n",
       "max     67.100000                  2.420000   81.000000    1.000000  "
      ]
     },
     "execution_count": 5,
     "metadata": {},
     "output_type": "execute_result"
    }
   ],
   "source": [
    "# Statistical info\n",
    "pima.describe()"
   ]
  },
  {
   "cell_type": "code",
   "execution_count": 6,
   "id": "thirty-cement",
   "metadata": {},
   "outputs": [
    {
     "name": "stdout",
     "output_type": "stream",
     "text": [
      "<class 'pandas.core.frame.DataFrame'>\n",
      "RangeIndex: 768 entries, 0 to 767\n",
      "Data columns (total 9 columns):\n",
      " #   Column                    Non-Null Count  Dtype  \n",
      "---  ------                    --------------  -----  \n",
      " 0   Pregnancies               768 non-null    int64  \n",
      " 1   Glucose                   768 non-null    int64  \n",
      " 2   BloodPressure             768 non-null    int64  \n",
      " 3   SkinThickness             768 non-null    int64  \n",
      " 4   Insulin                   768 non-null    int64  \n",
      " 5   BMI                       768 non-null    float64\n",
      " 6   DiabetesPedigreeFunction  768 non-null    float64\n",
      " 7   Age                       768 non-null    int64  \n",
      " 8   Outcome                   768 non-null    int64  \n",
      "dtypes: float64(2), int64(7)\n",
      "memory usage: 54.1 KB\n"
     ]
    }
   ],
   "source": [
    "# Checking the data type \n",
    "pima.info()"
   ]
  },
  {
   "cell_type": "markdown",
   "id": "peripheral-difficulty",
   "metadata": {},
   "source": [
    "-  from information of the dataframe, we can get that, null values are not in dataset but from head and tail we can say that some of features has 0 value \n",
    "-  `0` is considered as null value here lets replace it with Nan"
   ]
  },
  {
   "cell_type": "markdown",
   "id": "afraid-search",
   "metadata": {},
   "source": [
    "### Missing Value Treatment"
   ]
  },
  {
   "cell_type": "code",
   "execution_count": 7,
   "id": "critical-literature",
   "metadata": {},
   "outputs": [
    {
     "data": {
      "text/plain": [
       "Pregnancies                 111\n",
       "Glucose                       5\n",
       "BloodPressure                35\n",
       "SkinThickness               227\n",
       "Insulin                     374\n",
       "BMI                          11\n",
       "DiabetesPedigreeFunction      0\n",
       "Age                           0\n",
       "Outcome                       0\n",
       "dtype: int64"
      ]
     },
     "execution_count": 7,
     "metadata": {},
     "output_type": "execute_result"
    }
   ],
   "source": [
    "from numpy import nan\n",
    "pima[['Pregnancies', 'Glucose', 'BloodPressure', 'SkinThickness', 'Insulin',\n",
    "       'BMI', 'DiabetesPedigreeFunction', 'Age' ]]=pima[['Pregnancies', 'Glucose', 'BloodPressure', 'SkinThickness', 'Insulin',\n",
    "       'BMI', 'DiabetesPedigreeFunction', 'Age']].replace(0,nan)\n",
    "pima.isnull().sum()\n"
   ]
  },
  {
   "cell_type": "markdown",
   "id": "exempt-scholar",
   "metadata": {},
   "source": [
    "# Replace missing values with median"
   ]
  },
  {
   "cell_type": "code",
   "execution_count": 8,
   "id": "working-novel",
   "metadata": {},
   "outputs": [],
   "source": [
    "pima[['Pregnancies', 'Glucose', 'BloodPressure', 'SkinThickness', 'Insulin',\n",
    "       'BMI']] = pima[['Pregnancies', 'Glucose', 'BloodPressure', 'SkinThickness', 'Insulin',\n",
    "       'BMI']].replace(0, nan)\n",
    "pima.fillna(pima.median(),inplace=True)"
   ]
  },
  {
   "cell_type": "code",
   "execution_count": 9,
   "id": "signed-slovenia",
   "metadata": {},
   "outputs": [
    {
     "data": {
      "text/plain": [
       "Pregnancies                 0\n",
       "Glucose                     0\n",
       "BloodPressure               0\n",
       "SkinThickness               0\n",
       "Insulin                     0\n",
       "BMI                         0\n",
       "DiabetesPedigreeFunction    0\n",
       "Age                         0\n",
       "Outcome                     0\n",
       "dtype: int64"
      ]
     },
     "execution_count": 9,
     "metadata": {},
     "output_type": "execute_result"
    }
   ],
   "source": [
    "pima.isnull().sum()"
   ]
  },
  {
   "cell_type": "markdown",
   "id": "pleased-badge",
   "metadata": {},
   "source": [
    "### outlier detection"
   ]
  },
  {
   "cell_type": "code",
   "execution_count": 10,
   "id": "sufficient-least",
   "metadata": {},
   "outputs": [
    {
     "data": {
      "image/png": "[encoded data removed]",
      "text/plain": [
       "<Figure size 1080x360 with 1 Axes>"
      ]
     },
     "metadata": {
      "needs_background": "light"
     },
     "output_type": "display_data"
    }
   ],
   "source": [
    "#detecting outlier\n",
    "# Plot boxplot\n",
    "plt.figure(figsize =[15,5])\n",
    "pima.boxplot()\n",
    "plt.show()"
   ]
  },
  {
   "cell_type": "markdown",
   "id": "liquid-patrick",
   "metadata": {},
   "source": [
    "-  As we can see here in Insulin outlier is present, we will replace the null values with median\n",
    "-  except Insulin, all feature's null value will replace with mean"
   ]
  },
  {
   "cell_type": "code",
   "execution_count": 11,
   "id": "cardiac-dover",
   "metadata": {},
   "outputs": [
    {
     "data": {
      "text/plain": [
       "((768, 8), (768,))"
      ]
     },
     "execution_count": 11,
     "metadata": {},
     "output_type": "execute_result"
    }
   ],
   "source": [
    "a = pima.iloc[: , 0:8]\n",
    "b = pima.iloc[: , 8]\n",
    "a.shape, b.shape"
   ]
  },
  {
   "cell_type": "code",
   "execution_count": 12,
   "id": "handmade-immune",
   "metadata": {},
   "outputs": [
    {
     "name": "stdout",
     "output_type": "stream",
     "text": [
      "     Pregnancies   Glucose  BloodPressure  SkinThickness   Insulin       BMI  \\\n",
      "0       0.529395  0.866045       0.031990       0.670643  0.181541  0.166619   \n",
      "1       1.149280  1.205066       0.528319       0.012301  0.181541  0.852200   \n",
      "2       1.200864  2.016662       0.693761       0.012301  0.181541  1.332500   \n",
      "3       1.149280  1.073567       0.528319       0.695245  0.540642  0.633881   \n",
      "4       0.142075  0.504422       2.679076       0.670643  0.316566  1.549303   \n",
      "..           ...       ...            ...            ...       ...       ...   \n",
      "763     1.872334  0.679069       0.298896       2.150354  0.455573  0.064737   \n",
      "764     0.813545  0.011301       0.197433       0.239949  0.181541  0.632365   \n",
      "765     0.193660  0.021574       0.031990       0.695245  0.332132  0.910418   \n",
      "766     1.149280  0.142800       1.024647       0.012301  0.181541  0.342790   \n",
      "767     1.149280  0.942068       0.197433       0.215347  0.181541  0.299127   \n",
      "\n",
      "     DiabetesPedigreeFunction       Age  \n",
      "0                    0.468492  1.425995  \n",
      "1                    0.365061  0.190672  \n",
      "2                    0.604397  0.105584  \n",
      "3                    0.920763  1.041549  \n",
      "4                    5.484909  0.020496  \n",
      "..                        ...       ...  \n",
      "763                  0.908682  2.532136  \n",
      "764                  0.398282  0.531023  \n",
      "765                  0.685193  0.275760  \n",
      "766                  0.371101  1.170732  \n",
      "767                  0.473785  0.871374  \n",
      "\n",
      "[768 rows x 8 columns]\n"
     ]
    }
   ],
   "source": [
    "from scipy.stats import zscore\n",
    "\n",
    "numeric_cols=a.select_dtypes(include=[np.number]).columns\n",
    "z=a[numeric_cols].apply(zscore).abs()\n",
    "print(z)"
   ]
  },
  {
   "cell_type": "code",
   "execution_count": 13,
   "id": "virtual-george",
   "metadata": {},
   "outputs": [],
   "source": [
    "my_cols=['Pregnancies','Glucose','BloodPressure','SkinThickness','Insulin',\n",
    "       'BMI', 'DiabetesPedigreeFunction', 'Age']\n",
    "for col in my_cols:\n",
    "    z.loc[z[col]>3,col]=np.nan"
   ]
  },
  {
   "cell_type": "code",
   "execution_count": 14,
   "id": "average-arrangement",
   "metadata": {},
   "outputs": [
    {
     "data": {
      "text/plain": [
       "Pregnancies                  4\n",
       "Glucose                      0\n",
       "BloodPressure                8\n",
       "SkinThickness                4\n",
       "Insulin                     20\n",
       "BMI                          5\n",
       "DiabetesPedigreeFunction    11\n",
       "Age                          5\n",
       "dtype: int64"
      ]
     },
     "execution_count": 14,
     "metadata": {},
     "output_type": "execute_result"
    }
   ],
   "source": [
    "z.isnull().sum()"
   ]
  },
  {
   "cell_type": "code",
   "execution_count": 15,
   "id": "annual-deficit",
   "metadata": {},
   "outputs": [],
   "source": [
    "d=z.fillna(z.median())"
   ]
  },
  {
   "cell_type": "code",
   "execution_count": 16,
   "id": "experienced-topic",
   "metadata": {},
   "outputs": [
    {
     "data": {
      "text/html": [
       "<div>\n",
       "<style scoped>\n",
       "    .dataframe tbody tr th:only-of-type {\n",
       "        vertical-align: middle;\n",
       "    }\n",
       "\n",
       "    .dataframe tbody tr th {\n",
       "        vertical-align: top;\n",
       "    }\n",
       "\n",
       "    .dataframe thead th {\n",
       "        text-align: right;\n",
       "    }\n",
       "</style>\n",
       "<table border=\"1\" class=\"dataframe\">\n",
       "  <thead>\n",
       "    <tr style=\"text-align: right;\">\n",
       "      <th></th>\n",
       "      <th>Pregnancies</th>\n",
       "      <th>Glucose</th>\n",
       "      <th>BloodPressure</th>\n",
       "      <th>SkinThickness</th>\n",
       "      <th>Insulin</th>\n",
       "      <th>BMI</th>\n",
       "      <th>DiabetesPedigreeFunction</th>\n",
       "      <th>Age</th>\n",
       "      <th>Outcome</th>\n",
       "    </tr>\n",
       "  </thead>\n",
       "  <tbody>\n",
       "    <tr>\n",
       "      <th>0</th>\n",
       "      <td>0.529395</td>\n",
       "      <td>0.866045</td>\n",
       "      <td>0.031990</td>\n",
       "      <td>0.670643</td>\n",
       "      <td>0.181541</td>\n",
       "      <td>0.166619</td>\n",
       "      <td>0.468492</td>\n",
       "      <td>1.425995</td>\n",
       "      <td>1</td>\n",
       "    </tr>\n",
       "    <tr>\n",
       "      <th>1</th>\n",
       "      <td>1.149280</td>\n",
       "      <td>1.205066</td>\n",
       "      <td>0.528319</td>\n",
       "      <td>0.012301</td>\n",
       "      <td>0.181541</td>\n",
       "      <td>0.852200</td>\n",
       "      <td>0.365061</td>\n",
       "      <td>0.190672</td>\n",
       "      <td>0</td>\n",
       "    </tr>\n",
       "    <tr>\n",
       "      <th>2</th>\n",
       "      <td>1.200864</td>\n",
       "      <td>2.016662</td>\n",
       "      <td>0.693761</td>\n",
       "      <td>0.012301</td>\n",
       "      <td>0.181541</td>\n",
       "      <td>1.332500</td>\n",
       "      <td>0.604397</td>\n",
       "      <td>0.105584</td>\n",
       "      <td>1</td>\n",
       "    </tr>\n",
       "    <tr>\n",
       "      <th>3</th>\n",
       "      <td>1.149280</td>\n",
       "      <td>1.073567</td>\n",
       "      <td>0.528319</td>\n",
       "      <td>0.695245</td>\n",
       "      <td>0.540642</td>\n",
       "      <td>0.633881</td>\n",
       "      <td>0.920763</td>\n",
       "      <td>1.041549</td>\n",
       "      <td>0</td>\n",
       "    </tr>\n",
       "    <tr>\n",
       "      <th>4</th>\n",
       "      <td>0.142075</td>\n",
       "      <td>0.504422</td>\n",
       "      <td>2.679076</td>\n",
       "      <td>0.670643</td>\n",
       "      <td>0.316566</td>\n",
       "      <td>1.549303</td>\n",
       "      <td>0.642912</td>\n",
       "      <td>0.020496</td>\n",
       "      <td>1</td>\n",
       "    </tr>\n",
       "  </tbody>\n",
       "</table>\n",
       "</div>"
      ],
      "text/plain": [
       "   Pregnancies   Glucose  BloodPressure  SkinThickness   Insulin       BMI  \\\n",
       "0     0.529395  0.866045       0.031990       0.670643  0.181541  0.166619   \n",
       "1     1.149280  1.205066       0.528319       0.012301  0.181541  0.852200   \n",
       "2     1.200864  2.016662       0.693761       0.012301  0.181541  1.332500   \n",
       "3     1.149280  1.073567       0.528319       0.695245  0.540642  0.633881   \n",
       "4     0.142075  0.504422       2.679076       0.670643  0.316566  1.549303   \n",
       "\n",
       "   DiabetesPedigreeFunction       Age  Outcome  \n",
       "0                  0.468492  1.425995        1  \n",
       "1                  0.365061  0.190672        0  \n",
       "2                  0.604397  0.105584        1  \n",
       "3                  0.920763  1.041549        0  \n",
       "4                  0.642912  0.020496        1  "
      ]
     },
     "execution_count": 16,
     "metadata": {},
     "output_type": "execute_result"
    }
   ],
   "source": [
    "new=pd.concat([d,b],axis=1)\n",
    "new.head(5)"
   ]
  },
  {
   "cell_type": "code",
   "execution_count": 17,
   "id": "prescribed-creature",
   "metadata": {},
   "outputs": [],
   "source": [
    "X= new.iloc[:,new.columns !=\"Outcome\"]\n",
    "y= new.iloc[:,new.columns == \"Outcome\"]"
   ]
  },
  {
   "cell_type": "code",
   "execution_count": 18,
   "id": "identical-bible",
   "metadata": {},
   "outputs": [
    {
     "data": {
      "text/plain": [
       "0    1\n",
       "1    0\n",
       "2    1\n",
       "3    0\n",
       "4    1\n",
       "Name: Outcome, dtype: int64"
      ]
     },
     "execution_count": 18,
     "metadata": {},
     "output_type": "execute_result"
    }
   ],
   "source": [
    "y=new[\"Outcome\"]\n",
    "y.head()"
   ]
  },
  {
   "cell_type": "markdown",
   "id": "instructional-madagascar",
   "metadata": {},
   "source": [
    "# Balancing outcome by SMOTE"
   ]
  },
  {
   "cell_type": "code",
   "execution_count": 19,
   "id": "quiet-george",
   "metadata": {},
   "outputs": [
    {
     "data": {
      "text/plain": [
       "0    0.65\n",
       "1    0.35\n",
       "Name: Outcome, dtype: float64"
      ]
     },
     "execution_count": 19,
     "metadata": {},
     "output_type": "execute_result"
    }
   ],
   "source": [
    "#Lets check if the data is Balanced or not\n",
    "round(pima.Outcome.value_counts(normalize = True),2)"
   ]
  },
  {
   "cell_type": "code",
   "execution_count": 20,
   "id": "amber-edwards",
   "metadata": {},
   "outputs": [
    {
     "data": {
      "image/png": "[encoded data removed]",
      "text/plain": [
       "<Figure size 432x288 with 1 Axes>"
      ]
     },
     "metadata": {
      "needs_background": "light"
     },
     "output_type": "display_data"
    }
   ],
   "source": [
    "# Bar plot with respec to Outcoome 1 and 0 \n",
    "round(pima.Outcome.value_counts(normalize = True),2).plot.bar()\n",
    "plt.show()"
   ]
  },
  {
   "cell_type": "markdown",
   "id": "dedicated-transaction",
   "metadata": {},
   "source": [
    "Data is `Not Balanced`"
   ]
  },
  {
   "cell_type": "code",
   "execution_count": 21,
   "id": "satisfactory-prototype",
   "metadata": {},
   "outputs": [
    {
     "name": "stdout",
     "output_type": "stream",
     "text": [
      "(1000, 8)\n",
      "(1000,)\n"
     ]
    }
   ],
   "source": [
    "from imblearn.over_sampling  import SMOTE\n",
    "smt= SMOTE()\n",
    "data_X,data_y =smt.fit_resample(X, y)\n",
    "print(data_X.shape)\n",
    "print(data_y.shape)"
   ]
  },
  {
   "cell_type": "code",
   "execution_count": 22,
   "id": "overall-michigan",
   "metadata": {},
   "outputs": [
    {
     "data": {
      "text/plain": [
       "<AxesSubplot:>"
      ]
     },
     "execution_count": 22,
     "metadata": {},
     "output_type": "execute_result"
    },
    {
     "data": {
      "image/png": "[encoded data removed]",
      "text/plain": [
       "<Figure size 432x288 with 1 Axes>"
      ]
     },
     "metadata": {
      "needs_background": "light"
     },
     "output_type": "display_data"
    }
   ],
   "source": [
    "data_y.value_counts(normalize = True).plot.bar()"
   ]
  },
  {
   "cell_type": "markdown",
   "id": "deluxe-object",
   "metadata": {},
   "source": [
    "Data is `Balanced`"
   ]
  },
  {
   "cell_type": "markdown",
   "id": "finnish-leeds",
   "metadata": {},
   "source": [
    "# Data scaling"
   ]
  },
  {
   "cell_type": "code",
   "execution_count": 23,
   "id": "cheap-tourism",
   "metadata": {},
   "outputs": [],
   "source": [
    "from sklearn.preprocessing import StandardScaler\n",
    "trans= StandardScaler()\n",
    "trans.fit(X)\n",
    "X=trans.fit_transform(X)"
   ]
  },
  {
   "cell_type": "code",
   "execution_count": 24,
   "id": "earned-reach",
   "metadata": {},
   "outputs": [],
   "source": [
    "## split"
   ]
  },
  {
   "cell_type": "code",
   "execution_count": 25,
   "id": "racial-marriage",
   "metadata": {},
   "outputs": [],
   "source": [
    "#fix random seed for reproducibility\n",
    "import numpy\n",
    "seed = 7\n",
    "numpy.random.seed(seed)"
   ]
  },
  {
   "cell_type": "code",
   "execution_count": 26,
   "id": "assumed-locator",
   "metadata": {},
   "outputs": [
    {
     "data": {
      "text/plain": [
       "((700, 8), (300, 8), (700,), (300,))"
      ]
     },
     "execution_count": 26,
     "metadata": {},
     "output_type": "execute_result"
    }
   ],
   "source": [
    "#split into 70% for train and 30% for test\n",
    "from sklearn.model_selection import train_test_split\n",
    "X_train, X_test, y_train, y_test = train_test_split(data_X,data_y, test_size=0.30, random_state=seed)\n",
    "X_train.shape, X_test.shape, y_train.shape, y_test.shape"
   ]
  },
  {
   "cell_type": "markdown",
   "id": "configured-tunnel",
   "metadata": {},
   "source": [
    "# Artificial Neural Network"
   ]
  },
  {
   "cell_type": "markdown",
   "id": "soviet-wright",
   "metadata": {},
   "source": [
    "### import necessary libraries"
   ]
  },
  {
   "cell_type": "code",
   "execution_count": 27,
   "id": "premium-thanksgiving",
   "metadata": {},
   "outputs": [],
   "source": [
    "from keras.models import Sequential\n",
    "from keras.layers import Dense, Dropout\n",
    "from matplotlib import pyplot\n",
    "from keras.models import load_model\n",
    "from keras.utils import plot_model\n",
    "from keras.models import Model\n"
   ]
  },
  {
   "cell_type": "markdown",
   "id": "german-break",
   "metadata": {},
   "source": [
    "# Define keras model"
   ]
  },
  {
   "cell_type": "code",
   "execution_count": 28,
   "id": "gross-warren",
   "metadata": {},
   "outputs": [
    {
     "name": "stdout",
     "output_type": "stream",
     "text": [
      "Model: \"sequential\"\n",
      "_________________________________________________________________\n",
      "Layer (type)                 Output Shape              Param #   \n",
      "=================================================================\n",
      "dense (Dense)                (None, 12)                108       \n",
      "_________________________________________________________________\n",
      "dense_1 (Dense)              (None, 1)                 13        \n",
      "=================================================================\n",
      "Total params: 121\n",
      "Trainable params: 121\n",
      "Non-trainable params: 0\n",
      "_________________________________________________________________\n"
     ]
    }
   ],
   "source": [
    "model1= Sequential ()\n",
    "model1.add(Dense(12, input_dim=8, activation= 'relu' ))\n",
    "model1.add(Dense(1, activation= 'sigmoid' ))\n",
    "model1.summary()"
   ]
  },
  {
   "cell_type": "code",
   "execution_count": 29,
   "id": "intellectual-belfast",
   "metadata": {},
   "outputs": [
    {
     "data": {
      "image/png": "[encoded data removed]",
      "text/plain": [
       "<IPython.core.display.Image object>"
      ]
     },
     "execution_count": 29,
     "metadata": {},
     "output_type": "execute_result"
    }
   ],
   "source": [
    "from keras.utils import plot_model\n",
    "plot_model(model1, to_file='multilayer_perceptron_graph.png')"
   ]
  },
  {
   "cell_type": "markdown",
   "id": "planned-surrey",
   "metadata": {},
   "source": [
    "# Compile model"
   ]
  },
  {
   "cell_type": "code",
   "execution_count": 30,
   "id": "southwest-harvest",
   "metadata": {},
   "outputs": [],
   "source": [
    "model1.compile(loss= 'binary_crossentropy' , optimizer= 'adam' , metrics=[ 'accuracy' ])"
   ]
  },
  {
   "cell_type": "code",
   "execution_count": 31,
   "id": "tender-laptop",
   "metadata": {},
   "outputs": [],
   "source": [
    "from keras.callbacks import EarlyStopping\n",
    "es= EarlyStopping(monitor='val_loss', min_delta=0, patience=10, verbose=0, mode='auto')"
   ]
  },
  {
   "cell_type": "markdown",
   "id": "reported-transfer",
   "metadata": {},
   "source": [
    "# Fit the model"
   ]
  },
  {
   "cell_type": "code",
   "execution_count": 32,
   "id": "vulnerable-values",
   "metadata": {},
   "outputs": [
    {
     "name": "stdout",
     "output_type": "stream",
     "text": [
      "Epoch 1/200\n",
      "22/22 [==============================] - 0s 14ms/step - loss: 0.7108 - accuracy: 0.5057 - val_loss: 0.7166 - val_accuracy: 0.4900\n",
      "Epoch 2/200\n",
      "22/22 [==============================] - 0s 2ms/step - loss: 0.7066 - accuracy: 0.5086 - val_loss: 0.7121 - val_accuracy: 0.4867\n",
      "Epoch 3/200\n",
      "22/22 [==============================] - 0s 3ms/step - loss: 0.7031 - accuracy: 0.5114 - val_loss: 0.7067 - val_accuracy: 0.4833\n",
      "Epoch 4/200\n",
      "22/22 [==============================] - 0s 3ms/step - loss: 0.6997 - accuracy: 0.5143 - val_loss: 0.7031 - val_accuracy: 0.4833\n",
      "Epoch 5/200\n",
      "22/22 [==============================] - 0s 3ms/step - loss: 0.6970 - accuracy: 0.5200 - val_loss: 0.6988 - val_accuracy: 0.4933\n",
      "Epoch 6/200\n",
      "22/22 [==============================] - 0s 3ms/step - loss: 0.6942 - accuracy: 0.5229 - val_loss: 0.6962 - val_accuracy: 0.5100\n",
      "Epoch 7/200\n",
      "22/22 [==============================] - 0s 3ms/step - loss: 0.6920 - accuracy: 0.5271 - val_loss: 0.6928 - val_accuracy: 0.5167\n",
      "Epoch 8/200\n",
      "22/22 [==============================] - 0s 2ms/step - loss: 0.6902 - accuracy: 0.5300 - val_loss: 0.6910 - val_accuracy: 0.5200\n",
      "Epoch 9/200\n",
      "22/22 [==============================] - 0s 3ms/step - loss: 0.6876 - accuracy: 0.5386 - val_loss: 0.6865 - val_accuracy: 0.5367\n",
      "Epoch 10/200\n",
      "22/22 [==============================] - 0s 2ms/step - loss: 0.6860 - accuracy: 0.5429 - val_loss: 0.6844 - val_accuracy: 0.5433\n",
      "Epoch 11/200\n",
      "22/22 [==============================] - 0s 2ms/step - loss: 0.6847 - accuracy: 0.5471 - val_loss: 0.6805 - val_accuracy: 0.5633\n",
      "Epoch 12/200\n",
      "22/22 [==============================] - 0s 2ms/step - loss: 0.6829 - accuracy: 0.5571 - val_loss: 0.6811 - val_accuracy: 0.5433\n",
      "Epoch 13/200\n",
      "22/22 [==============================] - 0s 2ms/step - loss: 0.6819 - accuracy: 0.5514 - val_loss: 0.6769 - val_accuracy: 0.5767\n",
      "Epoch 14/200\n",
      "22/22 [==============================] - 0s 2ms/step - loss: 0.6800 - accuracy: 0.5600 - val_loss: 0.6761 - val_accuracy: 0.5667\n",
      "Epoch 15/200\n",
      "22/22 [==============================] - 0s 2ms/step - loss: 0.6788 - accuracy: 0.5614 - val_loss: 0.6746 - val_accuracy: 0.5700\n",
      "Epoch 16/200\n",
      "22/22 [==============================] - 0s 2ms/step - loss: 0.6775 - accuracy: 0.5700 - val_loss: 0.6718 - val_accuracy: 0.5933\n",
      "Epoch 17/200\n",
      "22/22 [==============================] - 0s 2ms/step - loss: 0.6763 - accuracy: 0.5743 - val_loss: 0.6694 - val_accuracy: 0.5933\n",
      "Epoch 18/200\n",
      "22/22 [==============================] - 0s 2ms/step - loss: 0.6749 - accuracy: 0.5757 - val_loss: 0.6691 - val_accuracy: 0.5900\n",
      "Epoch 19/200\n",
      "22/22 [==============================] - 0s 2ms/step - loss: 0.6743 - accuracy: 0.5771 - val_loss: 0.6679 - val_accuracy: 0.5867\n",
      "Epoch 20/200\n",
      "22/22 [==============================] - 0s 2ms/step - loss: 0.6730 - accuracy: 0.5829 - val_loss: 0.6655 - val_accuracy: 0.5967\n",
      "Epoch 21/200\n",
      "22/22 [==============================] - 0s 2ms/step - loss: 0.6720 - accuracy: 0.5786 - val_loss: 0.6649 - val_accuracy: 0.5967\n",
      "Epoch 22/200\n",
      "22/22 [==============================] - 0s 2ms/step - loss: 0.6712 - accuracy: 0.5857 - val_loss: 0.6636 - val_accuracy: 0.6000\n",
      "Epoch 23/200\n",
      "22/22 [==============================] - 0s 2ms/step - loss: 0.6701 - accuracy: 0.5914 - val_loss: 0.6613 - val_accuracy: 0.6100\n",
      "Epoch 24/200\n",
      "22/22 [==============================] - 0s 2ms/step - loss: 0.6694 - accuracy: 0.6043 - val_loss: 0.6607 - val_accuracy: 0.6167\n",
      "Epoch 25/200\n",
      "22/22 [==============================] - 0s 2ms/step - loss: 0.6686 - accuracy: 0.6014 - val_loss: 0.6581 - val_accuracy: 0.6267\n",
      "Epoch 26/200\n",
      "22/22 [==============================] - 0s 2ms/step - loss: 0.6681 - accuracy: 0.6029 - val_loss: 0.6595 - val_accuracy: 0.6200\n",
      "Epoch 27/200\n",
      "22/22 [==============================] - 0s 2ms/step - loss: 0.6671 - accuracy: 0.6057 - val_loss: 0.6577 - val_accuracy: 0.6233\n",
      "Epoch 28/200\n",
      "22/22 [==============================] - 0s 2ms/step - loss: 0.6671 - accuracy: 0.6057 - val_loss: 0.6550 - val_accuracy: 0.6367\n",
      "Epoch 29/200\n",
      "22/22 [==============================] - 0s 2ms/step - loss: 0.6657 - accuracy: 0.6100 - val_loss: 0.6558 - val_accuracy: 0.6267\n",
      "Epoch 30/200\n",
      "22/22 [==============================] - 0s 2ms/step - loss: 0.6653 - accuracy: 0.6071 - val_loss: 0.6561 - val_accuracy: 0.6333\n",
      "Epoch 31/200\n",
      "22/22 [==============================] - 0s 2ms/step - loss: 0.6649 - accuracy: 0.6157 - val_loss: 0.6538 - val_accuracy: 0.6500\n",
      "Epoch 32/200\n",
      "22/22 [==============================] - 0s 2ms/step - loss: 0.6642 - accuracy: 0.6143 - val_loss: 0.6525 - val_accuracy: 0.6533\n",
      "Epoch 33/200\n",
      "22/22 [==============================] - 0s 2ms/step - loss: 0.6632 - accuracy: 0.6129 - val_loss: 0.6521 - val_accuracy: 0.6500\n",
      "Epoch 34/200\n",
      "22/22 [==============================] - 0s 2ms/step - loss: 0.6628 - accuracy: 0.6143 - val_loss: 0.6516 - val_accuracy: 0.6467\n",
      "Epoch 35/200\n",
      "22/22 [==============================] - 0s 2ms/step - loss: 0.6625 - accuracy: 0.6129 - val_loss: 0.6502 - val_accuracy: 0.6533\n",
      "Epoch 36/200\n",
      "22/22 [==============================] - 0s 2ms/step - loss: 0.6621 - accuracy: 0.6157 - val_loss: 0.6518 - val_accuracy: 0.6400\n",
      "Epoch 37/200\n",
      "22/22 [==============================] - 0s 2ms/step - loss: 0.6614 - accuracy: 0.6171 - val_loss: 0.6498 - val_accuracy: 0.6433\n",
      "Epoch 38/200\n",
      "22/22 [==============================] - 0s 2ms/step - loss: 0.6612 - accuracy: 0.6129 - val_loss: 0.6482 - val_accuracy: 0.6467\n",
      "Epoch 39/200\n",
      "22/22 [==============================] - 0s 2ms/step - loss: 0.6604 - accuracy: 0.6186 - val_loss: 0.6483 - val_accuracy: 0.6533\n",
      "Epoch 40/200\n",
      "22/22 [==============================] - 0s 2ms/step - loss: 0.6602 - accuracy: 0.6186 - val_loss: 0.6477 - val_accuracy: 0.6567\n",
      "Epoch 41/200\n",
      "22/22 [==============================] - 0s 2ms/step - loss: 0.6599 - accuracy: 0.6257 - val_loss: 0.6477 - val_accuracy: 0.6400\n",
      "Epoch 42/200\n",
      "22/22 [==============================] - 0s 2ms/step - loss: 0.6596 - accuracy: 0.6114 - val_loss: 0.6456 - val_accuracy: 0.6600\n",
      "Epoch 43/200\n",
      "22/22 [==============================] - 0s 2ms/step - loss: 0.6591 - accuracy: 0.6214 - val_loss: 0.6475 - val_accuracy: 0.6300\n",
      "Epoch 44/200\n",
      "22/22 [==============================] - 0s 2ms/step - loss: 0.6586 - accuracy: 0.6329 - val_loss: 0.6458 - val_accuracy: 0.6433\n",
      "Epoch 45/200\n",
      "22/22 [==============================] - 0s 3ms/step - loss: 0.6584 - accuracy: 0.6271 - val_loss: 0.6456 - val_accuracy: 0.6367\n",
      "Epoch 46/200\n",
      "22/22 [==============================] - 0s 2ms/step - loss: 0.6581 - accuracy: 0.6314 - val_loss: 0.6466 - val_accuracy: 0.6333\n",
      "Epoch 47/200\n",
      "22/22 [==============================] - 0s 2ms/step - loss: 0.6579 - accuracy: 0.6300 - val_loss: 0.6443 - val_accuracy: 0.6467\n",
      "Epoch 48/200\n",
      "22/22 [==============================] - 0s 2ms/step - loss: 0.6575 - accuracy: 0.6314 - val_loss: 0.6447 - val_accuracy: 0.6400\n",
      "Epoch 49/200\n",
      "22/22 [==============================] - 0s 2ms/step - loss: 0.6570 - accuracy: 0.6329 - val_loss: 0.6452 - val_accuracy: 0.6333\n",
      "Epoch 50/200\n",
      "22/22 [==============================] - 0s 2ms/step - loss: 0.6568 - accuracy: 0.6343 - val_loss: 0.6434 - val_accuracy: 0.6533\n",
      "Epoch 51/200\n",
      "22/22 [==============================] - 0s 2ms/step - loss: 0.6566 - accuracy: 0.6314 - val_loss: 0.6442 - val_accuracy: 0.6367\n",
      "Epoch 52/200\n",
      "22/22 [==============================] - 0s 2ms/step - loss: 0.6562 - accuracy: 0.6343 - val_loss: 0.6435 - val_accuracy: 0.6433\n",
      "Epoch 53/200\n",
      "22/22 [==============================] - 0s 2ms/step - loss: 0.6563 - accuracy: 0.6300 - val_loss: 0.6443 - val_accuracy: 0.6333\n",
      "Epoch 54/200\n",
      "22/22 [==============================] - 0s 2ms/step - loss: 0.6559 - accuracy: 0.6314 - val_loss: 0.6416 - val_accuracy: 0.6500\n",
      "Epoch 55/200\n",
      "22/22 [==============================] - 0s 2ms/step - loss: 0.6552 - accuracy: 0.6400 - val_loss: 0.6423 - val_accuracy: 0.6467\n",
      "Epoch 56/200\n",
      "22/22 [==============================] - 0s 2ms/step - loss: 0.6552 - accuracy: 0.6386 - val_loss: 0.6425 - val_accuracy: 0.6533\n",
      "Epoch 57/200\n",
      "22/22 [==============================] - 0s 2ms/step - loss: 0.6547 - accuracy: 0.6343 - val_loss: 0.6434 - val_accuracy: 0.6367\n",
      "Epoch 58/200\n",
      "22/22 [==============================] - 0s 2ms/step - loss: 0.6549 - accuracy: 0.6414 - val_loss: 0.6418 - val_accuracy: 0.6467\n"
     ]
    },
    {
     "name": "stdout",
     "output_type": "stream",
     "text": [
      "Epoch 59/200\n",
      "22/22 [==============================] - 0s 2ms/step - loss: 0.6542 - accuracy: 0.6329 - val_loss: 0.6438 - val_accuracy: 0.6300\n",
      "Epoch 60/200\n",
      "22/22 [==============================] - 0s 2ms/step - loss: 0.6540 - accuracy: 0.6300 - val_loss: 0.6426 - val_accuracy: 0.6333\n",
      "Epoch 61/200\n",
      "22/22 [==============================] - 0s 2ms/step - loss: 0.6538 - accuracy: 0.6343 - val_loss: 0.6408 - val_accuracy: 0.6433\n",
      "Epoch 62/200\n",
      "22/22 [==============================] - 0s 2ms/step - loss: 0.6536 - accuracy: 0.6329 - val_loss: 0.6410 - val_accuracy: 0.6333\n",
      "Epoch 63/200\n",
      "22/22 [==============================] - 0s 2ms/step - loss: 0.6530 - accuracy: 0.6343 - val_loss: 0.6422 - val_accuracy: 0.6367\n",
      "Epoch 64/200\n",
      "22/22 [==============================] - 0s 2ms/step - loss: 0.6526 - accuracy: 0.6386 - val_loss: 0.6404 - val_accuracy: 0.6433\n",
      "Epoch 65/200\n",
      "22/22 [==============================] - 0s 2ms/step - loss: 0.6525 - accuracy: 0.6343 - val_loss: 0.6412 - val_accuracy: 0.6333\n",
      "Epoch 66/200\n",
      "22/22 [==============================] - 0s 2ms/step - loss: 0.6522 - accuracy: 0.6371 - val_loss: 0.6401 - val_accuracy: 0.6433\n",
      "Epoch 67/200\n",
      "22/22 [==============================] - 0s 2ms/step - loss: 0.6519 - accuracy: 0.6386 - val_loss: 0.6401 - val_accuracy: 0.6467\n",
      "Epoch 68/200\n",
      "22/22 [==============================] - 0s 2ms/step - loss: 0.6522 - accuracy: 0.6300 - val_loss: 0.6399 - val_accuracy: 0.6433\n",
      "Epoch 69/200\n",
      "22/22 [==============================] - 0s 2ms/step - loss: 0.6516 - accuracy: 0.6386 - val_loss: 0.6386 - val_accuracy: 0.6467\n",
      "Epoch 70/200\n",
      "22/22 [==============================] - 0s 2ms/step - loss: 0.6515 - accuracy: 0.6414 - val_loss: 0.6386 - val_accuracy: 0.6467\n",
      "Epoch 71/200\n",
      "22/22 [==============================] - 0s 2ms/step - loss: 0.6511 - accuracy: 0.6371 - val_loss: 0.6398 - val_accuracy: 0.6400\n",
      "Epoch 72/200\n",
      "22/22 [==============================] - 0s 2ms/step - loss: 0.6506 - accuracy: 0.6400 - val_loss: 0.6381 - val_accuracy: 0.6500\n",
      "Epoch 73/200\n",
      "22/22 [==============================] - 0s 2ms/step - loss: 0.6506 - accuracy: 0.6300 - val_loss: 0.6395 - val_accuracy: 0.6467\n",
      "Epoch 74/200\n",
      "22/22 [==============================] - 0s 2ms/step - loss: 0.6506 - accuracy: 0.6343 - val_loss: 0.6372 - val_accuracy: 0.6433\n",
      "Epoch 75/200\n",
      "22/22 [==============================] - 0s 2ms/step - loss: 0.6500 - accuracy: 0.6429 - val_loss: 0.6388 - val_accuracy: 0.6500\n",
      "Epoch 76/200\n",
      "22/22 [==============================] - 0s 2ms/step - loss: 0.6502 - accuracy: 0.6271 - val_loss: 0.6400 - val_accuracy: 0.6400\n",
      "Epoch 77/200\n",
      "22/22 [==============================] - 0s 2ms/step - loss: 0.6498 - accuracy: 0.6414 - val_loss: 0.6383 - val_accuracy: 0.6500\n",
      "Epoch 78/200\n",
      "22/22 [==============================] - 0s 2ms/step - loss: 0.6506 - accuracy: 0.6286 - val_loss: 0.6404 - val_accuracy: 0.6300\n",
      "Epoch 79/200\n",
      "22/22 [==============================] - 0s 2ms/step - loss: 0.6497 - accuracy: 0.6357 - val_loss: 0.6366 - val_accuracy: 0.6433\n",
      "Epoch 80/200\n",
      "22/22 [==============================] - 0s 2ms/step - loss: 0.6490 - accuracy: 0.6386 - val_loss: 0.6387 - val_accuracy: 0.6467\n",
      "Epoch 81/200\n",
      "22/22 [==============================] - 0s 2ms/step - loss: 0.6487 - accuracy: 0.6371 - val_loss: 0.6376 - val_accuracy: 0.6500\n",
      "Epoch 82/200\n",
      "22/22 [==============================] - 0s 2ms/step - loss: 0.6484 - accuracy: 0.6329 - val_loss: 0.6386 - val_accuracy: 0.6433\n",
      "Epoch 83/200\n",
      "22/22 [==============================] - 0s 2ms/step - loss: 0.6482 - accuracy: 0.6371 - val_loss: 0.6379 - val_accuracy: 0.6467\n",
      "Epoch 84/200\n",
      "22/22 [==============================] - 0s 2ms/step - loss: 0.6480 - accuracy: 0.6414 - val_loss: 0.6372 - val_accuracy: 0.6467\n",
      "Epoch 85/200\n",
      "22/22 [==============================] - 0s 2ms/step - loss: 0.6477 - accuracy: 0.6386 - val_loss: 0.6379 - val_accuracy: 0.6433\n",
      "Epoch 86/200\n",
      "22/22 [==============================] - 0s 3ms/step - loss: 0.6474 - accuracy: 0.6371 - val_loss: 0.6378 - val_accuracy: 0.6433\n",
      "Epoch 87/200\n",
      "22/22 [==============================] - 0s 2ms/step - loss: 0.6471 - accuracy: 0.6371 - val_loss: 0.6384 - val_accuracy: 0.6467\n",
      "Epoch 88/200\n",
      "22/22 [==============================] - 0s 2ms/step - loss: 0.6469 - accuracy: 0.6400 - val_loss: 0.6376 - val_accuracy: 0.6433\n",
      "Epoch 89/200\n",
      "22/22 [==============================] - 0s 2ms/step - loss: 0.6467 - accuracy: 0.6357 - val_loss: 0.6373 - val_accuracy: 0.6467\n",
      "Epoch 90/200\n",
      "22/22 [==============================] - 0s 2ms/step - loss: 0.6465 - accuracy: 0.6343 - val_loss: 0.6368 - val_accuracy: 0.6500\n",
      "Epoch 91/200\n",
      "22/22 [==============================] - 0s 2ms/step - loss: 0.6463 - accuracy: 0.6371 - val_loss: 0.6389 - val_accuracy: 0.6467\n",
      "Epoch 92/200\n",
      "22/22 [==============================] - 0s 2ms/step - loss: 0.6464 - accuracy: 0.6343 - val_loss: 0.6392 - val_accuracy: 0.6367\n",
      "Epoch 93/200\n",
      "22/22 [==============================] - 0s 2ms/step - loss: 0.6463 - accuracy: 0.6357 - val_loss: 0.6351 - val_accuracy: 0.6533\n",
      "Epoch 94/200\n",
      "22/22 [==============================] - 0s 2ms/step - loss: 0.6463 - accuracy: 0.6314 - val_loss: 0.6392 - val_accuracy: 0.6400\n",
      "Epoch 95/200\n",
      "22/22 [==============================] - 0s 3ms/step - loss: 0.6455 - accuracy: 0.6371 - val_loss: 0.6363 - val_accuracy: 0.6500\n",
      "Epoch 96/200\n",
      "22/22 [==============================] - 0s 2ms/step - loss: 0.6455 - accuracy: 0.6343 - val_loss: 0.6372 - val_accuracy: 0.6400\n",
      "Epoch 97/200\n",
      "22/22 [==============================] - 0s 3ms/step - loss: 0.6452 - accuracy: 0.6386 - val_loss: 0.6356 - val_accuracy: 0.6500\n",
      "Epoch 98/200\n",
      "22/22 [==============================] - 0s 3ms/step - loss: 0.6445 - accuracy: 0.6343 - val_loss: 0.6374 - val_accuracy: 0.6400\n",
      "Epoch 99/200\n",
      "22/22 [==============================] - 0s 3ms/step - loss: 0.6444 - accuracy: 0.6357 - val_loss: 0.6379 - val_accuracy: 0.6467\n",
      "Epoch 100/200\n",
      "22/22 [==============================] - 0s 2ms/step - loss: 0.6445 - accuracy: 0.6343 - val_loss: 0.6369 - val_accuracy: 0.6433\n",
      "Epoch 101/200\n",
      "22/22 [==============================] - 0s 2ms/step - loss: 0.6446 - accuracy: 0.6414 - val_loss: 0.6359 - val_accuracy: 0.6467\n",
      "Epoch 102/200\n",
      "22/22 [==============================] - 0s 2ms/step - loss: 0.6437 - accuracy: 0.6371 - val_loss: 0.6374 - val_accuracy: 0.6433\n",
      "Epoch 103/200\n",
      "22/22 [==============================] - 0s 2ms/step - loss: 0.6438 - accuracy: 0.6329 - val_loss: 0.6364 - val_accuracy: 0.6433\n",
      "Epoch 104/200\n",
      "22/22 [==============================] - 0s 2ms/step - loss: 0.6433 - accuracy: 0.6357 - val_loss: 0.6372 - val_accuracy: 0.6433\n",
      "Epoch 105/200\n",
      "22/22 [==============================] - 0s 2ms/step - loss: 0.6438 - accuracy: 0.6329 - val_loss: 0.6351 - val_accuracy: 0.6500\n",
      "Epoch 106/200\n",
      "22/22 [==============================] - 0s 2ms/step - loss: 0.6431 - accuracy: 0.6357 - val_loss: 0.6364 - val_accuracy: 0.6433\n",
      "Epoch 107/200\n",
      "22/22 [==============================] - 0s 2ms/step - loss: 0.6429 - accuracy: 0.6329 - val_loss: 0.6372 - val_accuracy: 0.6433\n",
      "Epoch 108/200\n",
      "22/22 [==============================] - 0s 2ms/step - loss: 0.6425 - accuracy: 0.6357 - val_loss: 0.6353 - val_accuracy: 0.6433\n",
      "Epoch 109/200\n",
      "22/22 [==============================] - 0s 2ms/step - loss: 0.6431 - accuracy: 0.6343 - val_loss: 0.6365 - val_accuracy: 0.6500\n",
      "Epoch 110/200\n",
      "22/22 [==============================] - 0s 2ms/step - loss: 0.6421 - accuracy: 0.6371 - val_loss: 0.6367 - val_accuracy: 0.6500\n",
      "Epoch 111/200\n",
      "22/22 [==============================] - 0s 2ms/step - loss: 0.6419 - accuracy: 0.6314 - val_loss: 0.6346 - val_accuracy: 0.6467\n",
      "Epoch 112/200\n",
      "22/22 [==============================] - 0s 2ms/step - loss: 0.6417 - accuracy: 0.6329 - val_loss: 0.6357 - val_accuracy: 0.6467\n",
      "Epoch 113/200\n",
      "22/22 [==============================] - 0s 2ms/step - loss: 0.6417 - accuracy: 0.6343 - val_loss: 0.6354 - val_accuracy: 0.6533\n",
      "Epoch 114/200\n",
      "22/22 [==============================] - 0s 2ms/step - loss: 0.6415 - accuracy: 0.6357 - val_loss: 0.6362 - val_accuracy: 0.6467\n",
      "Epoch 115/200\n",
      "22/22 [==============================] - 0s 2ms/step - loss: 0.6413 - accuracy: 0.6371 - val_loss: 0.6352 - val_accuracy: 0.6467\n",
      "Epoch 116/200\n"
     ]
    },
    {
     "name": "stdout",
     "output_type": "stream",
     "text": [
      "22/22 [==============================] - 0s 2ms/step - loss: 0.6409 - accuracy: 0.6357 - val_loss: 0.6359 - val_accuracy: 0.6467\n",
      "Epoch 117/200\n",
      "22/22 [==============================] - 0s 2ms/step - loss: 0.6408 - accuracy: 0.6314 - val_loss: 0.6356 - val_accuracy: 0.6467\n",
      "Epoch 118/200\n",
      "22/22 [==============================] - 0s 2ms/step - loss: 0.6404 - accuracy: 0.6400 - val_loss: 0.6358 - val_accuracy: 0.6533\n",
      "Epoch 119/200\n",
      "22/22 [==============================] - 0s 2ms/step - loss: 0.6401 - accuracy: 0.6443 - val_loss: 0.6350 - val_accuracy: 0.6500\n",
      "Epoch 120/200\n",
      "22/22 [==============================] - 0s 2ms/step - loss: 0.6402 - accuracy: 0.6386 - val_loss: 0.6349 - val_accuracy: 0.6500\n",
      "Epoch 121/200\n",
      "22/22 [==============================] - 0s 2ms/step - loss: 0.6399 - accuracy: 0.6386 - val_loss: 0.6341 - val_accuracy: 0.6500\n",
      "Epoch 122/200\n",
      "22/22 [==============================] - 0s 2ms/step - loss: 0.6395 - accuracy: 0.6371 - val_loss: 0.6354 - val_accuracy: 0.6533\n",
      "Epoch 123/200\n",
      "22/22 [==============================] - 0s 2ms/step - loss: 0.6400 - accuracy: 0.6371 - val_loss: 0.6369 - val_accuracy: 0.6500\n",
      "Epoch 124/200\n",
      "22/22 [==============================] - 0s 2ms/step - loss: 0.6397 - accuracy: 0.6386 - val_loss: 0.6320 - val_accuracy: 0.6533\n",
      "Epoch 125/200\n",
      "22/22 [==============================] - 0s 2ms/step - loss: 0.6396 - accuracy: 0.6414 - val_loss: 0.6349 - val_accuracy: 0.6533\n",
      "Epoch 126/200\n",
      "22/22 [==============================] - 0s 2ms/step - loss: 0.6389 - accuracy: 0.6414 - val_loss: 0.6351 - val_accuracy: 0.6533\n",
      "Epoch 127/200\n",
      "22/22 [==============================] - 0s 2ms/step - loss: 0.6389 - accuracy: 0.6429 - val_loss: 0.6341 - val_accuracy: 0.6500\n",
      "Epoch 128/200\n",
      "22/22 [==============================] - 0s 2ms/step - loss: 0.6391 - accuracy: 0.6414 - val_loss: 0.6346 - val_accuracy: 0.6467\n",
      "Epoch 129/200\n",
      "22/22 [==============================] - 0s 2ms/step - loss: 0.6384 - accuracy: 0.6429 - val_loss: 0.6337 - val_accuracy: 0.6533\n",
      "Epoch 130/200\n",
      "22/22 [==============================] - 0s 2ms/step - loss: 0.6380 - accuracy: 0.6457 - val_loss: 0.6347 - val_accuracy: 0.6567\n",
      "Epoch 131/200\n",
      "22/22 [==============================] - 0s 2ms/step - loss: 0.6383 - accuracy: 0.6443 - val_loss: 0.6351 - val_accuracy: 0.6600\n",
      "Epoch 132/200\n",
      "22/22 [==============================] - 0s 2ms/step - loss: 0.6377 - accuracy: 0.6429 - val_loss: 0.6336 - val_accuracy: 0.6500\n",
      "Epoch 133/200\n",
      "22/22 [==============================] - 0s 2ms/step - loss: 0.6380 - accuracy: 0.6357 - val_loss: 0.6309 - val_accuracy: 0.6467\n",
      "Epoch 134/200\n",
      "22/22 [==============================] - 0s 2ms/step - loss: 0.6373 - accuracy: 0.6414 - val_loss: 0.6348 - val_accuracy: 0.6600\n",
      "Epoch 135/200\n",
      "22/22 [==============================] - 0s 2ms/step - loss: 0.6375 - accuracy: 0.6400 - val_loss: 0.6333 - val_accuracy: 0.6567\n",
      "Epoch 136/200\n",
      "22/22 [==============================] - 0s 2ms/step - loss: 0.6369 - accuracy: 0.6414 - val_loss: 0.6350 - val_accuracy: 0.6600\n",
      "Epoch 137/200\n",
      "22/22 [==============================] - 0s 2ms/step - loss: 0.6368 - accuracy: 0.6386 - val_loss: 0.6350 - val_accuracy: 0.6600\n",
      "Epoch 138/200\n",
      "22/22 [==============================] - 0s 2ms/step - loss: 0.6367 - accuracy: 0.6414 - val_loss: 0.6331 - val_accuracy: 0.6533\n",
      "Epoch 139/200\n",
      "22/22 [==============================] - 0s 2ms/step - loss: 0.6363 - accuracy: 0.6414 - val_loss: 0.6333 - val_accuracy: 0.6600\n",
      "Epoch 140/200\n",
      "22/22 [==============================] - 0s 2ms/step - loss: 0.6372 - accuracy: 0.6357 - val_loss: 0.6354 - val_accuracy: 0.6567\n",
      "Epoch 141/200\n",
      "22/22 [==============================] - 0s 2ms/step - loss: 0.6361 - accuracy: 0.6443 - val_loss: 0.6321 - val_accuracy: 0.6567\n",
      "Epoch 142/200\n",
      "22/22 [==============================] - 0s 2ms/step - loss: 0.6363 - accuracy: 0.6386 - val_loss: 0.6329 - val_accuracy: 0.6567\n",
      "Epoch 143/200\n",
      "22/22 [==============================] - 0s 2ms/step - loss: 0.6359 - accuracy: 0.6386 - val_loss: 0.6318 - val_accuracy: 0.6600\n",
      "Epoch 144/200\n",
      "22/22 [==============================] - 0s 2ms/step - loss: 0.6363 - accuracy: 0.6443 - val_loss: 0.6345 - val_accuracy: 0.6633\n",
      "Epoch 145/200\n",
      "22/22 [==============================] - 0s 2ms/step - loss: 0.6362 - accuracy: 0.6357 - val_loss: 0.6313 - val_accuracy: 0.6533\n",
      "Epoch 146/200\n",
      "22/22 [==============================] - 0s 2ms/step - loss: 0.6357 - accuracy: 0.6414 - val_loss: 0.6346 - val_accuracy: 0.6600\n",
      "Epoch 147/200\n",
      "22/22 [==============================] - 0s 2ms/step - loss: 0.6352 - accuracy: 0.6414 - val_loss: 0.6333 - val_accuracy: 0.6667\n",
      "Epoch 148/200\n",
      "22/22 [==============================] - 0s 2ms/step - loss: 0.6346 - accuracy: 0.6400 - val_loss: 0.6328 - val_accuracy: 0.6667\n",
      "Epoch 149/200\n",
      "22/22 [==============================] - 0s 2ms/step - loss: 0.6351 - accuracy: 0.6357 - val_loss: 0.6326 - val_accuracy: 0.6633\n",
      "Epoch 150/200\n",
      "22/22 [==============================] - 0s 2ms/step - loss: 0.6345 - accuracy: 0.6414 - val_loss: 0.6348 - val_accuracy: 0.6633\n",
      "Epoch 151/200\n",
      "22/22 [==============================] - 0s 2ms/step - loss: 0.6343 - accuracy: 0.6386 - val_loss: 0.6317 - val_accuracy: 0.6633\n",
      "Epoch 152/200\n",
      "22/22 [==============================] - 0s 2ms/step - loss: 0.6342 - accuracy: 0.6357 - val_loss: 0.6321 - val_accuracy: 0.6667\n",
      "Epoch 153/200\n",
      "22/22 [==============================] - 0s 2ms/step - loss: 0.6338 - accuracy: 0.6414 - val_loss: 0.6328 - val_accuracy: 0.6633\n",
      "Epoch 154/200\n",
      "22/22 [==============================] - 0s 2ms/step - loss: 0.6340 - accuracy: 0.6414 - val_loss: 0.6322 - val_accuracy: 0.6667\n",
      "Epoch 155/200\n",
      "22/22 [==============================] - 0s 2ms/step - loss: 0.6336 - accuracy: 0.6414 - val_loss: 0.6342 - val_accuracy: 0.6600\n",
      "Epoch 156/200\n",
      "22/22 [==============================] - 0s 2ms/step - loss: 0.6333 - accuracy: 0.6329 - val_loss: 0.6321 - val_accuracy: 0.6667\n",
      "Epoch 157/200\n",
      "22/22 [==============================] - 0s 2ms/step - loss: 0.6333 - accuracy: 0.6400 - val_loss: 0.6336 - val_accuracy: 0.6633\n",
      "Epoch 158/200\n",
      "22/22 [==============================] - 0s 2ms/step - loss: 0.6328 - accuracy: 0.6429 - val_loss: 0.6325 - val_accuracy: 0.6633\n",
      "Epoch 159/200\n",
      "22/22 [==============================] - 0s 2ms/step - loss: 0.6333 - accuracy: 0.6343 - val_loss: 0.6307 - val_accuracy: 0.6633\n",
      "Epoch 160/200\n",
      "22/22 [==============================] - 0s 2ms/step - loss: 0.6323 - accuracy: 0.6343 - val_loss: 0.6337 - val_accuracy: 0.6600\n",
      "Epoch 161/200\n",
      "22/22 [==============================] - 0s 2ms/step - loss: 0.6335 - accuracy: 0.6429 - val_loss: 0.6323 - val_accuracy: 0.6667\n",
      "Epoch 162/200\n",
      "22/22 [==============================] - 0s 2ms/step - loss: 0.6325 - accuracy: 0.6371 - val_loss: 0.6322 - val_accuracy: 0.6633\n",
      "Epoch 163/200\n",
      "22/22 [==============================] - 0s 2ms/step - loss: 0.6327 - accuracy: 0.6343 - val_loss: 0.6305 - val_accuracy: 0.6567\n",
      "Epoch 164/200\n",
      "22/22 [==============================] - 0s 2ms/step - loss: 0.6317 - accuracy: 0.6371 - val_loss: 0.6324 - val_accuracy: 0.6667\n",
      "Epoch 165/200\n",
      "22/22 [==============================] - 0s 2ms/step - loss: 0.6318 - accuracy: 0.6386 - val_loss: 0.6332 - val_accuracy: 0.6633\n",
      "Epoch 166/200\n",
      "22/22 [==============================] - 0s 2ms/step - loss: 0.6314 - accuracy: 0.6386 - val_loss: 0.6323 - val_accuracy: 0.6667\n",
      "Epoch 167/200\n",
      "22/22 [==============================] - 0s 2ms/step - loss: 0.6319 - accuracy: 0.6386 - val_loss: 0.6304 - val_accuracy: 0.6633\n",
      "Epoch 168/200\n",
      "22/22 [==============================] - 0s 2ms/step - loss: 0.6310 - accuracy: 0.6371 - val_loss: 0.6337 - val_accuracy: 0.6633\n",
      "Epoch 169/200\n",
      "22/22 [==============================] - 0s 2ms/step - loss: 0.6314 - accuracy: 0.6414 - val_loss: 0.6311 - val_accuracy: 0.6633\n",
      "Epoch 170/200\n",
      "22/22 [==============================] - 0s 2ms/step - loss: 0.6313 - accuracy: 0.6371 - val_loss: 0.6347 - val_accuracy: 0.6667\n",
      "Epoch 171/200\n",
      "22/22 [==============================] - 0s 2ms/step - loss: 0.6307 - accuracy: 0.6386 - val_loss: 0.6308 - val_accuracy: 0.6633\n",
      "Epoch 172/200\n",
      "22/22 [==============================] - 0s 2ms/step - loss: 0.6302 - accuracy: 0.6414 - val_loss: 0.6310 - val_accuracy: 0.6600\n",
      "Epoch 173/200\n"
     ]
    },
    {
     "name": "stdout",
     "output_type": "stream",
     "text": [
      "22/22 [==============================] - 0s 2ms/step - loss: 0.6306 - accuracy: 0.6371 - val_loss: 0.6321 - val_accuracy: 0.6600\n",
      "Epoch 174/200\n",
      "22/22 [==============================] - 0s 2ms/step - loss: 0.6302 - accuracy: 0.6400 - val_loss: 0.6318 - val_accuracy: 0.6600\n",
      "Epoch 175/200\n",
      "22/22 [==============================] - 0s 2ms/step - loss: 0.6302 - accuracy: 0.6400 - val_loss: 0.6312 - val_accuracy: 0.6600\n",
      "Epoch 176/200\n",
      "22/22 [==============================] - 0s 2ms/step - loss: 0.6297 - accuracy: 0.6371 - val_loss: 0.6311 - val_accuracy: 0.6633\n",
      "Epoch 177/200\n",
      "22/22 [==============================] - 0s 2ms/step - loss: 0.6296 - accuracy: 0.6357 - val_loss: 0.6315 - val_accuracy: 0.6600\n",
      "Epoch 178/200\n",
      "22/22 [==============================] - 0s 2ms/step - loss: 0.6297 - accuracy: 0.6386 - val_loss: 0.6310 - val_accuracy: 0.6600\n",
      "Epoch 179/200\n",
      "22/22 [==============================] - 0s 2ms/step - loss: 0.6294 - accuracy: 0.6414 - val_loss: 0.6325 - val_accuracy: 0.6633\n",
      "Epoch 180/200\n",
      "22/22 [==============================] - 0s 2ms/step - loss: 0.6294 - accuracy: 0.6429 - val_loss: 0.6296 - val_accuracy: 0.6600\n",
      "Epoch 181/200\n",
      "22/22 [==============================] - 0s 2ms/step - loss: 0.6289 - accuracy: 0.6457 - val_loss: 0.6334 - val_accuracy: 0.6600\n",
      "Epoch 182/200\n",
      "22/22 [==============================] - 0s 2ms/step - loss: 0.6291 - accuracy: 0.6371 - val_loss: 0.6306 - val_accuracy: 0.6633\n",
      "Epoch 183/200\n",
      "22/22 [==============================] - 0s 2ms/step - loss: 0.6291 - accuracy: 0.6457 - val_loss: 0.6301 - val_accuracy: 0.6600\n",
      "Epoch 184/200\n",
      "22/22 [==============================] - 0s 2ms/step - loss: 0.6287 - accuracy: 0.6429 - val_loss: 0.6343 - val_accuracy: 0.6633\n",
      "Epoch 185/200\n",
      "22/22 [==============================] - 0s 2ms/step - loss: 0.6284 - accuracy: 0.6471 - val_loss: 0.6306 - val_accuracy: 0.6633\n",
      "Epoch 186/200\n",
      "22/22 [==============================] - 0s 2ms/step - loss: 0.6283 - accuracy: 0.6414 - val_loss: 0.6297 - val_accuracy: 0.6633\n",
      "Epoch 187/200\n",
      "22/22 [==============================] - 0s 2ms/step - loss: 0.6283 - accuracy: 0.6429 - val_loss: 0.6313 - val_accuracy: 0.6600\n",
      "Epoch 188/200\n",
      "22/22 [==============================] - 0s 2ms/step - loss: 0.6283 - accuracy: 0.6414 - val_loss: 0.6300 - val_accuracy: 0.6600\n",
      "Epoch 189/200\n",
      "22/22 [==============================] - 0s 3ms/step - loss: 0.6279 - accuracy: 0.6443 - val_loss: 0.6319 - val_accuracy: 0.6700\n",
      "Epoch 190/200\n",
      "22/22 [==============================] - 0s 3ms/step - loss: 0.6276 - accuracy: 0.6457 - val_loss: 0.6311 - val_accuracy: 0.6633\n",
      "Epoch 191/200\n",
      "22/22 [==============================] - 0s 2ms/step - loss: 0.6276 - accuracy: 0.6414 - val_loss: 0.6295 - val_accuracy: 0.6633\n",
      "Epoch 192/200\n",
      "22/22 [==============================] - 0s 2ms/step - loss: 0.6273 - accuracy: 0.6486 - val_loss: 0.6309 - val_accuracy: 0.6667\n",
      "Epoch 193/200\n",
      "22/22 [==============================] - 0s 2ms/step - loss: 0.6275 - accuracy: 0.6429 - val_loss: 0.6291 - val_accuracy: 0.6633\n",
      "Epoch 194/200\n",
      "22/22 [==============================] - 0s 2ms/step - loss: 0.6269 - accuracy: 0.6471 - val_loss: 0.6322 - val_accuracy: 0.6667\n",
      "Epoch 195/200\n",
      "22/22 [==============================] - 0s 2ms/step - loss: 0.6282 - accuracy: 0.6457 - val_loss: 0.6289 - val_accuracy: 0.6600\n",
      "Epoch 196/200\n",
      "22/22 [==============================] - 0s 2ms/step - loss: 0.6279 - accuracy: 0.6486 - val_loss: 0.6329 - val_accuracy: 0.6667\n",
      "Epoch 197/200\n",
      "22/22 [==============================] - 0s 2ms/step - loss: 0.6266 - accuracy: 0.6486 - val_loss: 0.6277 - val_accuracy: 0.6600\n",
      "Epoch 198/200\n",
      "22/22 [==============================] - 0s 2ms/step - loss: 0.6263 - accuracy: 0.6443 - val_loss: 0.6293 - val_accuracy: 0.6667\n",
      "Epoch 199/200\n",
      "22/22 [==============================] - 0s 2ms/step - loss: 0.6264 - accuracy: 0.6500 - val_loss: 0.6310 - val_accuracy: 0.6667\n",
      "Epoch 200/200\n",
      "22/22 [==============================] - 0s 2ms/step - loss: 0.6263 - accuracy: 0.6486 - val_loss: 0.6287 - val_accuracy: 0.6700\n"
     ]
    }
   ],
   "source": [
    "#Fit the model\n",
    "history1=model1.fit(X_train,y_train, validation_data=(X_test, y_test),epochs=200)"
   ]
  },
  {
   "cell_type": "markdown",
   "id": "acting-africa",
   "metadata": {},
   "source": [
    "# Evaluate the model"
   ]
  },
  {
   "cell_type": "code",
   "execution_count": 33,
   "id": "modular-agenda",
   "metadata": {},
   "outputs": [
    {
     "name": "stdout",
     "output_type": "stream",
     "text": [
      "22/22 [==============================] - 0s 952us/step - loss: 0.6254 - accuracy: 0.6500\n",
      "10/10 [==============================] - 0s 990us/step - loss: 0.6287 - accuracy: 0.6700\n",
      "Train: 0.650, Test: 0.670\n"
     ]
    }
   ],
   "source": [
    "_,train_acc = model1.evaluate(X_train,y_train)\n",
    "_,test_acc = model1.evaluate(X_test, y_test)\n",
    "print('Train: %.3f, Test: %.3f' % (train_acc, test_acc))"
   ]
  },
  {
   "cell_type": "markdown",
   "id": "placed-change",
   "metadata": {},
   "source": [
    "# Summarize history for loss"
   ]
  },
  {
   "cell_type": "code",
   "execution_count": 34,
   "id": "later-rolling",
   "metadata": {},
   "outputs": [
    {
     "data": {
      "image/png": "[encoded data removed]",
      "text/plain": [
       "<Figure size 432x288 with 1 Axes>"
      ]
     },
     "metadata": {
      "needs_background": "light"
     },
     "output_type": "display_data"
    }
   ],
   "source": [
    "import matplotlib.pyplot as plt\n",
    "plt.plot(history1.history['loss'])\n",
    "plt.plot(history1.history['val_loss'])\n",
    "plt.title('model1 loss')\n",
    "plt.ylabel('loss')\n",
    "plt.xlabel('epoch')\n",
    "plt.legend(['train', 'test'], loc='upper left')\n",
    "plt.show()"
   ]
  },
  {
   "cell_type": "markdown",
   "id": "turned-garden",
   "metadata": {},
   "source": [
    "# Summarize history for accuracy"
   ]
  },
  {
   "cell_type": "code",
   "execution_count": 35,
   "id": "industrial-saturday",
   "metadata": {},
   "outputs": [
    {
     "data": {
      "text/plain": [
       "<matplotlib.legend.Legend at 0x1c72f84d388>"
      ]
     },
     "execution_count": 35,
     "metadata": {},
     "output_type": "execute_result"
    },
    {
     "data": {
      "image/png": "[encoded data removed]",
      "text/plain": [
       "<Figure size 432x288 with 1 Axes>"
      ]
     },
     "metadata": {
      "needs_background": "light"
     },
     "output_type": "display_data"
    }
   ],
   "source": [
    "plt.plot(history1.history['accuracy'])\n",
    "plt.plot(history1.history['val_accuracy'])\n",
    "plt.title('model1 accuracy')\n",
    "plt.ylabel('accuracy')\n",
    "plt.xlabel('epoch')\n",
    "plt.legend(['train', 'test'], loc='upper left')"
   ]
  },
  {
   "cell_type": "markdown",
   "id": "answering-facing",
   "metadata": {},
   "source": [
    "# Prediction"
   ]
  },
  {
   "cell_type": "code",
   "execution_count": 36,
   "id": "central-maine",
   "metadata": {},
   "outputs": [
    {
     "name": "stdout",
     "output_type": "stream",
     "text": [
      "[0, 0, 0, 0, 0, 1, 1, 0, 0, 1, 1, 0, 1, 1, 1, 0, 0, 0, 0, 1, 0, 1, 0, 1, 0, 0, 1, 0, 1, 1, 0, 1, 0, 0, 0, 0, 1, 1, 1, 1, 0, 0, 1, 0, 0, 0, 1, 0, 1, 0, 0, 0, 1, 0, 0, 1, 1, 0, 0, 0, 0, 0, 0, 1, 1, 0, 0, 0, 1, 0, 0, 1, 0, 0, 0, 0, 0, 0, 0, 0, 1, 0, 0, 0, 0, 1, 0, 1, 1, 1, 0, 0, 0, 0, 1, 0, 0, 0, 0, 0, 1, 0, 0, 1, 0, 1, 1, 0, 0, 1, 1, 0, 1, 0, 0, 1, 0, 1, 1, 1, 0, 1, 1, 0, 1, 1, 1, 1, 1, 0, 0, 1, 0, 1, 1, 1, 1, 1, 0, 0, 0, 0, 1, 0, 0, 0, 1, 0, 0, 0, 0, 0, 1, 0, 1, 0, 1, 1, 0, 0, 0, 0, 1, 1, 1, 0, 0, 0, 0, 0, 0, 0, 0, 1, 1, 0, 0, 1, 0, 0, 1, 1, 1, 0, 0, 1, 1, 1, 1, 1, 0, 1, 1, 0, 0, 0, 0, 0, 0, 0, 0, 0, 0, 0, 1, 1, 0, 0, 1, 0, 0, 0, 0, 0, 0, 0, 0, 0, 0, 1, 1, 1, 0, 1, 0, 1, 0, 0, 0, 0, 1, 0, 1, 0, 1, 0, 0, 0, 1, 0, 1, 1, 0, 0, 0, 0, 1, 1, 0, 0, 0, 1, 1, 0, 0, 0, 1, 0, 1, 0, 1, 0, 1, 0, 1, 0, 0, 0, 1, 0, 0, 1, 0, 0, 1, 1, 1, 0, 1, 1, 1, 0, 1, 0, 1, 1, 0, 1, 0, 0, 0, 1, 0, 1, 0, 0, 1, 0, 1, 0]\n"
     ]
    }
   ],
   "source": [
    "predict_y=model1.predict(X_test)\n",
    "predict_value=[]\n",
    "for predict in predict_y:\n",
    "    if predict>0.5:\n",
    "     predict_value.append(1)\n",
    "    else:\n",
    "        predict_value.append(0)\n",
    "print(predict_value)        "
   ]
  },
  {
   "cell_type": "markdown",
   "id": "declared-union",
   "metadata": {},
   "source": [
    "# Confusion matrix"
   ]
  },
  {
   "cell_type": "code",
   "execution_count": 37,
   "id": "aboriginal-dragon",
   "metadata": {},
   "outputs": [
    {
     "name": "stdout",
     "output_type": "stream",
     "text": [
      "[[111  29]\n",
      " [ 70  90]]\n"
     ]
    }
   ],
   "source": [
    "from sklearn.metrics import confusion_matrix\n",
    "print(confusion_matrix(y_test, predict_value))"
   ]
  },
  {
   "cell_type": "markdown",
   "id": "focused-vitamin",
   "metadata": {},
   "source": [
    "# Classification report"
   ]
  },
  {
   "cell_type": "code",
   "execution_count": 38,
   "id": "ordinary-isaac",
   "metadata": {},
   "outputs": [],
   "source": [
    "from sklearn.metrics import classification_report"
   ]
  },
  {
   "cell_type": "code",
   "execution_count": 39,
   "id": "disabled-plain",
   "metadata": {},
   "outputs": [
    {
     "name": "stdout",
     "output_type": "stream",
     "text": [
      "              precision    recall  f1-score   support\n",
      "\n",
      "           0       0.61      0.79      0.69       140\n",
      "           1       0.76      0.56      0.65       160\n",
      "\n",
      "    accuracy                           0.67       300\n",
      "   macro avg       0.68      0.68      0.67       300\n",
      "weighted avg       0.69      0.67      0.67       300\n",
      "\n"
     ]
    }
   ],
   "source": [
    "print(classification_report(y_test,predict_value))"
   ]
  },
  {
   "cell_type": "code",
   "execution_count": 40,
   "id": "powerful-tension",
   "metadata": {},
   "outputs": [],
   "source": [
    "model1.save('model1.h5')"
   ]
  },
  {
   "cell_type": "markdown",
   "id": "medium-egyptian",
   "metadata": {},
   "source": [
    "# Train two more different neural network architectues"
   ]
  },
  {
   "cell_type": "code",
   "execution_count": 41,
   "id": "detailed-marsh",
   "metadata": {},
   "outputs": [
    {
     "name": "stdout",
     "output_type": "stream",
     "text": [
      "Model: \"sequential_1\"\n",
      "_________________________________________________________________\n",
      "Layer (type)                 Output Shape              Param #   \n",
      "=================================================================\n",
      "dense_2 (Dense)              (None, 12)                108       \n",
      "_________________________________________________________________\n",
      "dropout (Dropout)            (None, 12)                0         \n",
      "_________________________________________________________________\n",
      "dense_3 (Dense)              (None, 8)                 104       \n",
      "_________________________________________________________________\n",
      "dense_4 (Dense)              (None, 1)                 9         \n",
      "=================================================================\n",
      "Total params: 221\n",
      "Trainable params: 221\n",
      "Non-trainable params: 0\n",
      "_________________________________________________________________\n"
     ]
    }
   ],
   "source": [
    "model2= Sequential ()\n",
    "model2.add(Dense(12, input_dim=8, activation= 'relu' ))\n",
    "model2.add(Dropout(.25))\n",
    "model2.add(Dense(8, activation= 'relu' ))\n",
    "model2.add(Dense(1, activation= 'sigmoid' ))\n",
    "model2.summary()"
   ]
  },
  {
   "cell_type": "code",
   "execution_count": 42,
   "id": "liked-islam",
   "metadata": {},
   "outputs": [
    {
     "data": {
      "image/png": "[encoded data removed]",
      "text/plain": [
       "<IPython.core.display.Image object>"
      ]
     },
     "execution_count": 42,
     "metadata": {},
     "output_type": "execute_result"
    }
   ],
   "source": [
    "from keras.utils import plot_model\n",
    "plot_model(model2, to_file='multilayer_perceptron_graph.png')"
   ]
  },
  {
   "cell_type": "code",
   "execution_count": 43,
   "id": "boxed-madrid",
   "metadata": {},
   "outputs": [],
   "source": [
    "model2.compile(loss= 'binary_crossentropy' , optimizer= 'adam' , metrics=[ 'accuracy' ])\n"
   ]
  },
  {
   "cell_type": "code",
   "execution_count": 44,
   "id": "african-baking",
   "metadata": {},
   "outputs": [],
   "source": [
    "from keras.callbacks import EarlyStopping\n",
    "es= EarlyStopping(monitor='val_loss', min_delta=0, patience=10, verbose=0, mode='auto')"
   ]
  },
  {
   "cell_type": "code",
   "execution_count": 45,
   "id": "knowing-column",
   "metadata": {},
   "outputs": [
    {
     "name": "stdout",
     "output_type": "stream",
     "text": [
      "Epoch 1/200\n",
      "22/22 [==============================] - 0s 10ms/step - loss: 0.7306 - accuracy: 0.5071 - val_loss: 0.7376 - val_accuracy: 0.4300\n",
      "Epoch 2/200\n",
      "22/22 [==============================] - 0s 2ms/step - loss: 0.7249 - accuracy: 0.4843 - val_loss: 0.7240 - val_accuracy: 0.4433\n",
      "Epoch 3/200\n",
      "22/22 [==============================] - 0s 2ms/step - loss: 0.7145 - accuracy: 0.5043 - val_loss: 0.7178 - val_accuracy: 0.4333\n",
      "Epoch 4/200\n",
      "22/22 [==============================] - 0s 2ms/step - loss: 0.7104 - accuracy: 0.4914 - val_loss: 0.7118 - val_accuracy: 0.4433\n",
      "Epoch 5/200\n",
      "22/22 [==============================] - 0s 2ms/step - loss: 0.7035 - accuracy: 0.5171 - val_loss: 0.7079 - val_accuracy: 0.4467\n",
      "Epoch 6/200\n",
      "22/22 [==============================] - 0s 2ms/step - loss: 0.7020 - accuracy: 0.4986 - val_loss: 0.7055 - val_accuracy: 0.4533\n",
      "Epoch 7/200\n",
      "22/22 [==============================] - 0s 2ms/step - loss: 0.6968 - accuracy: 0.5343 - val_loss: 0.7043 - val_accuracy: 0.4467\n",
      "Epoch 8/200\n",
      "22/22 [==============================] - 0s 2ms/step - loss: 0.6921 - accuracy: 0.5614 - val_loss: 0.7007 - val_accuracy: 0.4700\n",
      "Epoch 9/200\n",
      "22/22 [==============================] - 0s 2ms/step - loss: 0.6905 - accuracy: 0.5457 - val_loss: 0.6983 - val_accuracy: 0.4700\n",
      "Epoch 10/200\n",
      "22/22 [==============================] - 0s 2ms/step - loss: 0.6937 - accuracy: 0.5300 - val_loss: 0.6964 - val_accuracy: 0.4700\n",
      "Epoch 11/200\n",
      "22/22 [==============================] - 0s 3ms/step - loss: 0.6941 - accuracy: 0.5100 - val_loss: 0.6943 - val_accuracy: 0.4933\n",
      "Epoch 12/200\n",
      "22/22 [==============================] - 0s 2ms/step - loss: 0.6939 - accuracy: 0.5214 - val_loss: 0.6931 - val_accuracy: 0.5167\n",
      "Epoch 13/200\n",
      "22/22 [==============================] - 0s 2ms/step - loss: 0.6902 - accuracy: 0.5286 - val_loss: 0.6923 - val_accuracy: 0.5133\n",
      "Epoch 14/200\n",
      "22/22 [==============================] - 0s 2ms/step - loss: 0.6914 - accuracy: 0.5286 - val_loss: 0.6897 - val_accuracy: 0.5233\n",
      "Epoch 15/200\n",
      "22/22 [==============================] - 0s 2ms/step - loss: 0.6884 - accuracy: 0.5329 - val_loss: 0.6884 - val_accuracy: 0.5400\n",
      "Epoch 16/200\n",
      "22/22 [==============================] - 0s 2ms/step - loss: 0.6837 - accuracy: 0.5586 - val_loss: 0.6866 - val_accuracy: 0.5633\n",
      "Epoch 17/200\n",
      "22/22 [==============================] - 0s 2ms/step - loss: 0.6884 - accuracy: 0.5329 - val_loss: 0.6858 - val_accuracy: 0.5667\n",
      "Epoch 18/200\n",
      "22/22 [==============================] - 0s 2ms/step - loss: 0.6836 - accuracy: 0.5343 - val_loss: 0.6830 - val_accuracy: 0.5733\n",
      "Epoch 19/200\n",
      "22/22 [==============================] - 0s 2ms/step - loss: 0.6823 - accuracy: 0.5543 - val_loss: 0.6808 - val_accuracy: 0.5900\n",
      "Epoch 20/200\n",
      "22/22 [==============================] - 0s 2ms/step - loss: 0.6829 - accuracy: 0.5471 - val_loss: 0.6774 - val_accuracy: 0.5933\n",
      "Epoch 21/200\n",
      "22/22 [==============================] - 0s 2ms/step - loss: 0.6815 - accuracy: 0.5771 - val_loss: 0.6765 - val_accuracy: 0.5800\n",
      "Epoch 22/200\n",
      "22/22 [==============================] - 0s 2ms/step - loss: 0.6797 - accuracy: 0.5514 - val_loss: 0.6759 - val_accuracy: 0.5867\n",
      "Epoch 23/200\n",
      "22/22 [==============================] - 0s 2ms/step - loss: 0.6730 - accuracy: 0.5843 - val_loss: 0.6724 - val_accuracy: 0.5933\n",
      "Epoch 24/200\n",
      "22/22 [==============================] - 0s 2ms/step - loss: 0.6764 - accuracy: 0.5486 - val_loss: 0.6708 - val_accuracy: 0.6000\n",
      "Epoch 25/200\n",
      "22/22 [==============================] - 0s 2ms/step - loss: 0.6779 - accuracy: 0.5586 - val_loss: 0.6707 - val_accuracy: 0.5967\n",
      "Epoch 26/200\n",
      "22/22 [==============================] - 0s 2ms/step - loss: 0.6703 - accuracy: 0.5614 - val_loss: 0.6709 - val_accuracy: 0.6000\n",
      "Epoch 27/200\n",
      "22/22 [==============================] - 0s 2ms/step - loss: 0.6760 - accuracy: 0.5600 - val_loss: 0.6707 - val_accuracy: 0.6000\n",
      "Epoch 28/200\n",
      "22/22 [==============================] - 0s 2ms/step - loss: 0.6750 - accuracy: 0.5700 - val_loss: 0.6687 - val_accuracy: 0.6100\n",
      "Epoch 29/200\n",
      "22/22 [==============================] - 0s 2ms/step - loss: 0.6739 - accuracy: 0.5729 - val_loss: 0.6677 - val_accuracy: 0.6133\n",
      "Epoch 30/200\n",
      "22/22 [==============================] - 0s 2ms/step - loss: 0.6745 - accuracy: 0.5929 - val_loss: 0.6678 - val_accuracy: 0.6033\n",
      "Epoch 31/200\n",
      "22/22 [==============================] - 0s 2ms/step - loss: 0.6710 - accuracy: 0.5857 - val_loss: 0.6649 - val_accuracy: 0.6200\n",
      "Epoch 32/200\n",
      "22/22 [==============================] - 0s 2ms/step - loss: 0.6691 - accuracy: 0.5757 - val_loss: 0.6639 - val_accuracy: 0.6200\n",
      "Epoch 33/200\n",
      "22/22 [==============================] - 0s 2ms/step - loss: 0.6726 - accuracy: 0.5729 - val_loss: 0.6630 - val_accuracy: 0.6167\n",
      "Epoch 34/200\n",
      "22/22 [==============================] - 0s 2ms/step - loss: 0.6711 - accuracy: 0.5943 - val_loss: 0.6629 - val_accuracy: 0.6367\n",
      "Epoch 35/200\n",
      "22/22 [==============================] - 0s 2ms/step - loss: 0.6713 - accuracy: 0.5714 - val_loss: 0.6628 - val_accuracy: 0.6267\n",
      "Epoch 36/200\n",
      "22/22 [==============================] - 0s 2ms/step - loss: 0.6732 - accuracy: 0.5729 - val_loss: 0.6606 - val_accuracy: 0.6133\n",
      "Epoch 37/200\n",
      "22/22 [==============================] - 0s 2ms/step - loss: 0.6674 - accuracy: 0.5729 - val_loss: 0.6623 - val_accuracy: 0.6100\n",
      "Epoch 38/200\n",
      "22/22 [==============================] - 0s 2ms/step - loss: 0.6688 - accuracy: 0.5800 - val_loss: 0.6632 - val_accuracy: 0.6100\n",
      "Epoch 39/200\n",
      "22/22 [==============================] - 0s 2ms/step - loss: 0.6736 - accuracy: 0.5686 - val_loss: 0.6609 - val_accuracy: 0.6133\n",
      "Epoch 40/200\n",
      "22/22 [==============================] - 0s 2ms/step - loss: 0.6633 - accuracy: 0.6071 - val_loss: 0.6623 - val_accuracy: 0.6133\n",
      "Epoch 41/200\n",
      "22/22 [==============================] - 0s 2ms/step - loss: 0.6646 - accuracy: 0.6000 - val_loss: 0.6623 - val_accuracy: 0.6067\n",
      "Epoch 42/200\n",
      "22/22 [==============================] - 0s 2ms/step - loss: 0.6736 - accuracy: 0.5786 - val_loss: 0.6616 - val_accuracy: 0.6033\n",
      "Epoch 43/200\n",
      "22/22 [==============================] - 0s 2ms/step - loss: 0.6608 - accuracy: 0.5986 - val_loss: 0.6611 - val_accuracy: 0.6000\n",
      "Epoch 44/200\n",
      "22/22 [==============================] - 0s 2ms/step - loss: 0.6652 - accuracy: 0.5929 - val_loss: 0.6609 - val_accuracy: 0.6000\n",
      "Epoch 45/200\n",
      "22/22 [==============================] - 0s 2ms/step - loss: 0.6684 - accuracy: 0.5929 - val_loss: 0.6575 - val_accuracy: 0.6133\n",
      "Epoch 46/200\n",
      "22/22 [==============================] - 0s 2ms/step - loss: 0.6611 - accuracy: 0.6000 - val_loss: 0.6576 - val_accuracy: 0.6167\n",
      "Epoch 47/200\n",
      "22/22 [==============================] - 0s 2ms/step - loss: 0.6574 - accuracy: 0.6143 - val_loss: 0.6581 - val_accuracy: 0.6167\n",
      "Epoch 48/200\n",
      "22/22 [==============================] - 0s 2ms/step - loss: 0.6631 - accuracy: 0.5814 - val_loss: 0.6564 - val_accuracy: 0.6200\n",
      "Epoch 49/200\n",
      "22/22 [==============================] - 0s 2ms/step - loss: 0.6629 - accuracy: 0.6100 - val_loss: 0.6540 - val_accuracy: 0.6333\n",
      "Epoch 50/200\n",
      "22/22 [==============================] - 0s 2ms/step - loss: 0.6617 - accuracy: 0.5900 - val_loss: 0.6550 - val_accuracy: 0.6200\n",
      "Epoch 51/200\n",
      "22/22 [==============================] - 0s 2ms/step - loss: 0.6637 - accuracy: 0.5986 - val_loss: 0.6550 - val_accuracy: 0.6200\n",
      "Epoch 52/200\n",
      "22/22 [==============================] - 0s 2ms/step - loss: 0.6614 - accuracy: 0.5857 - val_loss: 0.6521 - val_accuracy: 0.6333\n",
      "Epoch 53/200\n",
      "22/22 [==============================] - 0s 2ms/step - loss: 0.6664 - accuracy: 0.5957 - val_loss: 0.6542 - val_accuracy: 0.6267\n",
      "Epoch 54/200\n",
      "22/22 [==============================] - 0s 2ms/step - loss: 0.6627 - accuracy: 0.6129 - val_loss: 0.6552 - val_accuracy: 0.6133\n",
      "Epoch 55/200\n",
      "22/22 [==============================] - 0s 2ms/step - loss: 0.6688 - accuracy: 0.5829 - val_loss: 0.6528 - val_accuracy: 0.6133\n",
      "Epoch 56/200\n",
      "22/22 [==============================] - 0s 2ms/step - loss: 0.6714 - accuracy: 0.5814 - val_loss: 0.6537 - val_accuracy: 0.6100\n",
      "Epoch 57/200\n",
      "22/22 [==============================] - 0s 2ms/step - loss: 0.6609 - accuracy: 0.6129 - val_loss: 0.6536 - val_accuracy: 0.6167\n",
      "Epoch 58/200\n",
      "22/22 [==============================] - 0s 2ms/step - loss: 0.6571 - accuracy: 0.5971 - val_loss: 0.6530 - val_accuracy: 0.6133\n"
     ]
    },
    {
     "name": "stdout",
     "output_type": "stream",
     "text": [
      "Epoch 59/200\n",
      "22/22 [==============================] - 0s 2ms/step - loss: 0.6598 - accuracy: 0.6114 - val_loss: 0.6527 - val_accuracy: 0.6200\n",
      "Epoch 60/200\n",
      "22/22 [==============================] - 0s 2ms/step - loss: 0.6556 - accuracy: 0.6100 - val_loss: 0.6532 - val_accuracy: 0.6167\n",
      "Epoch 61/200\n",
      "22/22 [==============================] - 0s 2ms/step - loss: 0.6574 - accuracy: 0.5986 - val_loss: 0.6497 - val_accuracy: 0.6300\n",
      "Epoch 62/200\n",
      "22/22 [==============================] - 0s 3ms/step - loss: 0.6575 - accuracy: 0.6071 - val_loss: 0.6491 - val_accuracy: 0.6333\n",
      "Epoch 63/200\n",
      "22/22 [==============================] - 0s 2ms/step - loss: 0.6566 - accuracy: 0.5829 - val_loss: 0.6499 - val_accuracy: 0.6267\n",
      "Epoch 64/200\n",
      "22/22 [==============================] - 0s 3ms/step - loss: 0.6572 - accuracy: 0.6186 - val_loss: 0.6500 - val_accuracy: 0.6333\n",
      "Epoch 65/200\n",
      "22/22 [==============================] - 0s 2ms/step - loss: 0.6520 - accuracy: 0.6143 - val_loss: 0.6484 - val_accuracy: 0.6367\n",
      "Epoch 66/200\n",
      "22/22 [==============================] - 0s 3ms/step - loss: 0.6457 - accuracy: 0.6186 - val_loss: 0.6487 - val_accuracy: 0.6300\n",
      "Epoch 67/200\n",
      "22/22 [==============================] - 0s 3ms/step - loss: 0.6506 - accuracy: 0.6371 - val_loss: 0.6469 - val_accuracy: 0.6400\n",
      "Epoch 68/200\n",
      "22/22 [==============================] - 0s 3ms/step - loss: 0.6549 - accuracy: 0.6114 - val_loss: 0.6476 - val_accuracy: 0.6367\n",
      "Epoch 69/200\n",
      "22/22 [==============================] - 0s 2ms/step - loss: 0.6569 - accuracy: 0.6157 - val_loss: 0.6477 - val_accuracy: 0.6400\n",
      "Epoch 70/200\n",
      "22/22 [==============================] - 0s 3ms/step - loss: 0.6535 - accuracy: 0.6200 - val_loss: 0.6446 - val_accuracy: 0.6400\n",
      "Epoch 71/200\n",
      "22/22 [==============================] - 0s 3ms/step - loss: 0.6430 - accuracy: 0.6343 - val_loss: 0.6456 - val_accuracy: 0.6433\n",
      "Epoch 72/200\n",
      "22/22 [==============================] - 0s 2ms/step - loss: 0.6601 - accuracy: 0.6000 - val_loss: 0.6444 - val_accuracy: 0.6367\n",
      "Epoch 73/200\n",
      "22/22 [==============================] - 0s 3ms/step - loss: 0.6496 - accuracy: 0.6214 - val_loss: 0.6462 - val_accuracy: 0.6400\n",
      "Epoch 74/200\n",
      "22/22 [==============================] - 0s 3ms/step - loss: 0.6564 - accuracy: 0.6000 - val_loss: 0.6458 - val_accuracy: 0.6433\n",
      "Epoch 75/200\n",
      "22/22 [==============================] - 0s 2ms/step - loss: 0.6555 - accuracy: 0.6143 - val_loss: 0.6455 - val_accuracy: 0.6367\n",
      "Epoch 76/200\n",
      "22/22 [==============================] - 0s 3ms/step - loss: 0.6462 - accuracy: 0.6243 - val_loss: 0.6445 - val_accuracy: 0.6367\n",
      "Epoch 77/200\n",
      "22/22 [==============================] - 0s 2ms/step - loss: 0.6514 - accuracy: 0.6071 - val_loss: 0.6439 - val_accuracy: 0.6367\n",
      "Epoch 78/200\n",
      "22/22 [==============================] - 0s 2ms/step - loss: 0.6510 - accuracy: 0.6271 - val_loss: 0.6449 - val_accuracy: 0.6433\n",
      "Epoch 79/200\n",
      "22/22 [==============================] - 0s 2ms/step - loss: 0.6487 - accuracy: 0.6300 - val_loss: 0.6463 - val_accuracy: 0.6300\n",
      "Epoch 80/200\n",
      "22/22 [==============================] - 0s 2ms/step - loss: 0.6443 - accuracy: 0.6329 - val_loss: 0.6438 - val_accuracy: 0.6333\n",
      "Epoch 81/200\n",
      "22/22 [==============================] - 0s 2ms/step - loss: 0.6554 - accuracy: 0.6029 - val_loss: 0.6438 - val_accuracy: 0.6367\n",
      "Epoch 82/200\n",
      "22/22 [==============================] - 0s 2ms/step - loss: 0.6569 - accuracy: 0.6300 - val_loss: 0.6441 - val_accuracy: 0.6300\n",
      "Epoch 83/200\n",
      "22/22 [==============================] - 0s 2ms/step - loss: 0.6453 - accuracy: 0.6257 - val_loss: 0.6438 - val_accuracy: 0.6367\n",
      "Epoch 84/200\n",
      "22/22 [==============================] - 0s 2ms/step - loss: 0.6475 - accuracy: 0.6157 - val_loss: 0.6433 - val_accuracy: 0.6433\n",
      "Epoch 85/200\n",
      "22/22 [==============================] - 0s 2ms/step - loss: 0.6523 - accuracy: 0.6386 - val_loss: 0.6464 - val_accuracy: 0.6300\n",
      "Epoch 86/200\n",
      "22/22 [==============================] - 0s 2ms/step - loss: 0.6506 - accuracy: 0.6043 - val_loss: 0.6442 - val_accuracy: 0.6400\n",
      "Epoch 87/200\n",
      "22/22 [==============================] - 0s 2ms/step - loss: 0.6540 - accuracy: 0.6157 - val_loss: 0.6420 - val_accuracy: 0.6400\n",
      "Epoch 88/200\n",
      "22/22 [==============================] - 0s 2ms/step - loss: 0.6398 - accuracy: 0.6314 - val_loss: 0.6441 - val_accuracy: 0.6400\n",
      "Epoch 89/200\n",
      "22/22 [==============================] - 0s 2ms/step - loss: 0.6471 - accuracy: 0.6414 - val_loss: 0.6405 - val_accuracy: 0.6500\n",
      "Epoch 90/200\n",
      "22/22 [==============================] - 0s 2ms/step - loss: 0.6512 - accuracy: 0.6229 - val_loss: 0.6383 - val_accuracy: 0.6500\n",
      "Epoch 91/200\n",
      "22/22 [==============================] - 0s 2ms/step - loss: 0.6481 - accuracy: 0.6143 - val_loss: 0.6423 - val_accuracy: 0.6367\n",
      "Epoch 92/200\n",
      "22/22 [==============================] - 0s 2ms/step - loss: 0.6528 - accuracy: 0.6400 - val_loss: 0.6395 - val_accuracy: 0.6400\n",
      "Epoch 93/200\n",
      "22/22 [==============================] - 0s 2ms/step - loss: 0.6407 - accuracy: 0.6300 - val_loss: 0.6384 - val_accuracy: 0.6433\n",
      "Epoch 94/200\n",
      "22/22 [==============================] - 0s 2ms/step - loss: 0.6395 - accuracy: 0.6400 - val_loss: 0.6368 - val_accuracy: 0.6433\n",
      "Epoch 95/200\n",
      "22/22 [==============================] - 0s 2ms/step - loss: 0.6439 - accuracy: 0.6371 - val_loss: 0.6411 - val_accuracy: 0.6333\n",
      "Epoch 96/200\n",
      "22/22 [==============================] - 0s 2ms/step - loss: 0.6533 - accuracy: 0.6043 - val_loss: 0.6394 - val_accuracy: 0.6467\n",
      "Epoch 97/200\n",
      "22/22 [==============================] - 0s 2ms/step - loss: 0.6543 - accuracy: 0.6286 - val_loss: 0.6414 - val_accuracy: 0.6367\n",
      "Epoch 98/200\n",
      "22/22 [==============================] - 0s 2ms/step - loss: 0.6485 - accuracy: 0.6329 - val_loss: 0.6404 - val_accuracy: 0.6300\n",
      "Epoch 99/200\n",
      "22/22 [==============================] - 0s 2ms/step - loss: 0.6438 - accuracy: 0.6400 - val_loss: 0.6397 - val_accuracy: 0.6500\n",
      "Epoch 100/200\n",
      "22/22 [==============================] - 0s 2ms/step - loss: 0.6502 - accuracy: 0.6114 - val_loss: 0.6394 - val_accuracy: 0.6400\n",
      "Epoch 101/200\n",
      "22/22 [==============================] - 0s 2ms/step - loss: 0.6470 - accuracy: 0.6200 - val_loss: 0.6384 - val_accuracy: 0.6433\n",
      "Epoch 102/200\n",
      "22/22 [==============================] - 0s 2ms/step - loss: 0.6387 - accuracy: 0.6229 - val_loss: 0.6374 - val_accuracy: 0.6500\n",
      "Epoch 103/200\n",
      "22/22 [==============================] - 0s 2ms/step - loss: 0.6438 - accuracy: 0.6243 - val_loss: 0.6372 - val_accuracy: 0.6467\n",
      "Epoch 104/200\n",
      "22/22 [==============================] - 0s 2ms/step - loss: 0.6393 - accuracy: 0.6457 - val_loss: 0.6370 - val_accuracy: 0.6467\n",
      "Epoch 105/200\n",
      "22/22 [==============================] - 0s 2ms/step - loss: 0.6465 - accuracy: 0.6243 - val_loss: 0.6396 - val_accuracy: 0.6367\n",
      "Epoch 106/200\n",
      "22/22 [==============================] - 0s 2ms/step - loss: 0.6450 - accuracy: 0.6200 - val_loss: 0.6405 - val_accuracy: 0.6367\n",
      "Epoch 107/200\n",
      "22/22 [==============================] - 0s 2ms/step - loss: 0.6432 - accuracy: 0.6371 - val_loss: 0.6396 - val_accuracy: 0.6367\n",
      "Epoch 108/200\n",
      "22/22 [==============================] - 0s 2ms/step - loss: 0.6328 - accuracy: 0.6557 - val_loss: 0.6400 - val_accuracy: 0.6433\n",
      "Epoch 109/200\n",
      "22/22 [==============================] - 0s 2ms/step - loss: 0.6391 - accuracy: 0.6343 - val_loss: 0.6433 - val_accuracy: 0.6300\n",
      "Epoch 110/200\n",
      "22/22 [==============================] - 0s 2ms/step - loss: 0.6561 - accuracy: 0.6271 - val_loss: 0.6377 - val_accuracy: 0.6500\n",
      "Epoch 111/200\n",
      "22/22 [==============================] - 0s 2ms/step - loss: 0.6435 - accuracy: 0.6429 - val_loss: 0.6362 - val_accuracy: 0.6633\n",
      "Epoch 112/200\n",
      "22/22 [==============================] - 0s 2ms/step - loss: 0.6486 - accuracy: 0.6514 - val_loss: 0.6399 - val_accuracy: 0.6333\n",
      "Epoch 113/200\n",
      "22/22 [==============================] - 0s 2ms/step - loss: 0.6461 - accuracy: 0.6186 - val_loss: 0.6421 - val_accuracy: 0.6233\n",
      "Epoch 114/200\n",
      "22/22 [==============================] - 0s 2ms/step - loss: 0.6364 - accuracy: 0.6514 - val_loss: 0.6405 - val_accuracy: 0.6200\n",
      "Epoch 115/200\n",
      "22/22 [==============================] - 0s 2ms/step - loss: 0.6363 - accuracy: 0.6429 - val_loss: 0.6372 - val_accuracy: 0.6433\n",
      "Epoch 116/200\n"
     ]
    },
    {
     "name": "stdout",
     "output_type": "stream",
     "text": [
      "22/22 [==============================] - 0s 2ms/step - loss: 0.6377 - accuracy: 0.6357 - val_loss: 0.6355 - val_accuracy: 0.6467\n",
      "Epoch 117/200\n",
      "22/22 [==============================] - 0s 2ms/step - loss: 0.6412 - accuracy: 0.6271 - val_loss: 0.6380 - val_accuracy: 0.6367\n",
      "Epoch 118/200\n",
      "22/22 [==============================] - 0s 2ms/step - loss: 0.6433 - accuracy: 0.6457 - val_loss: 0.6369 - val_accuracy: 0.6433\n",
      "Epoch 119/200\n",
      "22/22 [==============================] - 0s 2ms/step - loss: 0.6489 - accuracy: 0.6314 - val_loss: 0.6374 - val_accuracy: 0.6433\n",
      "Epoch 120/200\n",
      "22/22 [==============================] - 0s 2ms/step - loss: 0.6481 - accuracy: 0.6329 - val_loss: 0.6370 - val_accuracy: 0.6467\n",
      "Epoch 121/200\n",
      "22/22 [==============================] - 0s 2ms/step - loss: 0.6415 - accuracy: 0.6371 - val_loss: 0.6377 - val_accuracy: 0.6400\n",
      "Epoch 122/200\n",
      "22/22 [==============================] - 0s 2ms/step - loss: 0.6437 - accuracy: 0.6243 - val_loss: 0.6371 - val_accuracy: 0.6400\n",
      "Epoch 123/200\n",
      "22/22 [==============================] - 0s 2ms/step - loss: 0.6402 - accuracy: 0.6414 - val_loss: 0.6373 - val_accuracy: 0.6400\n",
      "Epoch 124/200\n",
      "22/22 [==============================] - 0s 2ms/step - loss: 0.6395 - accuracy: 0.6329 - val_loss: 0.6368 - val_accuracy: 0.6400\n",
      "Epoch 125/200\n",
      "22/22 [==============================] - 0s 2ms/step - loss: 0.6411 - accuracy: 0.6243 - val_loss: 0.6372 - val_accuracy: 0.6433\n",
      "Epoch 126/200\n",
      "22/22 [==============================] - 0s 2ms/step - loss: 0.6344 - accuracy: 0.6357 - val_loss: 0.6353 - val_accuracy: 0.6400\n",
      "Epoch 127/200\n",
      "22/22 [==============================] - 0s 2ms/step - loss: 0.6336 - accuracy: 0.6443 - val_loss: 0.6355 - val_accuracy: 0.6400\n",
      "Epoch 128/200\n",
      "22/22 [==============================] - 0s 2ms/step - loss: 0.6291 - accuracy: 0.6500 - val_loss: 0.6336 - val_accuracy: 0.6500\n",
      "Epoch 129/200\n",
      "22/22 [==============================] - 0s 2ms/step - loss: 0.6349 - accuracy: 0.6500 - val_loss: 0.6359 - val_accuracy: 0.6433\n",
      "Epoch 130/200\n",
      "22/22 [==============================] - 0s 2ms/step - loss: 0.6495 - accuracy: 0.6386 - val_loss: 0.6362 - val_accuracy: 0.6300\n",
      "Epoch 131/200\n",
      "22/22 [==============================] - 0s 2ms/step - loss: 0.6269 - accuracy: 0.6629 - val_loss: 0.6361 - val_accuracy: 0.6267\n",
      "Epoch 132/200\n",
      "22/22 [==============================] - 0s 2ms/step - loss: 0.6316 - accuracy: 0.6586 - val_loss: 0.6350 - val_accuracy: 0.6300\n",
      "Epoch 133/200\n",
      "22/22 [==============================] - 0s 2ms/step - loss: 0.6313 - accuracy: 0.6471 - val_loss: 0.6342 - val_accuracy: 0.6433\n",
      "Epoch 134/200\n",
      "22/22 [==============================] - 0s 2ms/step - loss: 0.6360 - accuracy: 0.6614 - val_loss: 0.6357 - val_accuracy: 0.6433\n",
      "Epoch 135/200\n",
      "22/22 [==============================] - 0s 2ms/step - loss: 0.6387 - accuracy: 0.6357 - val_loss: 0.6347 - val_accuracy: 0.6533\n",
      "Epoch 136/200\n",
      "22/22 [==============================] - 0s 2ms/step - loss: 0.6392 - accuracy: 0.6414 - val_loss: 0.6346 - val_accuracy: 0.6500\n",
      "Epoch 137/200\n",
      "22/22 [==============================] - 0s 2ms/step - loss: 0.6466 - accuracy: 0.6386 - val_loss: 0.6358 - val_accuracy: 0.6467\n",
      "Epoch 138/200\n",
      "22/22 [==============================] - 0s 2ms/step - loss: 0.6318 - accuracy: 0.6400 - val_loss: 0.6362 - val_accuracy: 0.6333\n",
      "Epoch 139/200\n",
      "22/22 [==============================] - 0s 2ms/step - loss: 0.6260 - accuracy: 0.6600 - val_loss: 0.6353 - val_accuracy: 0.6300\n",
      "Epoch 140/200\n",
      "22/22 [==============================] - 0s 2ms/step - loss: 0.6475 - accuracy: 0.6300 - val_loss: 0.6381 - val_accuracy: 0.6233\n",
      "Epoch 141/200\n",
      "22/22 [==============================] - 0s 2ms/step - loss: 0.6348 - accuracy: 0.6500 - val_loss: 0.6379 - val_accuracy: 0.6233\n",
      "Epoch 142/200\n",
      "22/22 [==============================] - 0s 2ms/step - loss: 0.6298 - accuracy: 0.6557 - val_loss: 0.6351 - val_accuracy: 0.6333\n",
      "Epoch 143/200\n",
      "22/22 [==============================] - 0s 2ms/step - loss: 0.6406 - accuracy: 0.6343 - val_loss: 0.6362 - val_accuracy: 0.6367\n",
      "Epoch 144/200\n",
      "22/22 [==============================] - 0s 2ms/step - loss: 0.6521 - accuracy: 0.6314 - val_loss: 0.6362 - val_accuracy: 0.6500\n",
      "Epoch 145/200\n",
      "22/22 [==============================] - 0s 2ms/step - loss: 0.6288 - accuracy: 0.6400 - val_loss: 0.6357 - val_accuracy: 0.6400\n",
      "Epoch 146/200\n",
      "22/22 [==============================] - 0s 2ms/step - loss: 0.6226 - accuracy: 0.6686 - val_loss: 0.6341 - val_accuracy: 0.6467\n",
      "Epoch 147/200\n",
      "22/22 [==============================] - 0s 2ms/step - loss: 0.6338 - accuracy: 0.6429 - val_loss: 0.6357 - val_accuracy: 0.6367\n",
      "Epoch 148/200\n",
      "22/22 [==============================] - 0s 2ms/step - loss: 0.6277 - accuracy: 0.6443 - val_loss: 0.6351 - val_accuracy: 0.6500\n",
      "Epoch 149/200\n",
      "22/22 [==============================] - 0s 2ms/step - loss: 0.6334 - accuracy: 0.6486 - val_loss: 0.6370 - val_accuracy: 0.6367\n",
      "Epoch 150/200\n",
      "22/22 [==============================] - 0s 2ms/step - loss: 0.6289 - accuracy: 0.6443 - val_loss: 0.6367 - val_accuracy: 0.6367\n",
      "Epoch 151/200\n",
      "22/22 [==============================] - 0s 2ms/step - loss: 0.6372 - accuracy: 0.6414 - val_loss: 0.6363 - val_accuracy: 0.6400\n",
      "Epoch 152/200\n",
      "22/22 [==============================] - 0s 2ms/step - loss: 0.6390 - accuracy: 0.6357 - val_loss: 0.6378 - val_accuracy: 0.6467\n",
      "Epoch 153/200\n",
      "22/22 [==============================] - 0s 2ms/step - loss: 0.6287 - accuracy: 0.6514 - val_loss: 0.6338 - val_accuracy: 0.6600\n",
      "Epoch 154/200\n",
      "22/22 [==============================] - 0s 2ms/step - loss: 0.6265 - accuracy: 0.6414 - val_loss: 0.6328 - val_accuracy: 0.6600\n",
      "Epoch 155/200\n",
      "22/22 [==============================] - 0s 2ms/step - loss: 0.6238 - accuracy: 0.6371 - val_loss: 0.6386 - val_accuracy: 0.6367\n",
      "Epoch 156/200\n",
      "22/22 [==============================] - 0s 2ms/step - loss: 0.6285 - accuracy: 0.6586 - val_loss: 0.6358 - val_accuracy: 0.6433\n",
      "Epoch 157/200\n",
      "22/22 [==============================] - 0s 2ms/step - loss: 0.6309 - accuracy: 0.6486 - val_loss: 0.6322 - val_accuracy: 0.6500\n",
      "Epoch 158/200\n",
      "22/22 [==============================] - 0s 2ms/step - loss: 0.6335 - accuracy: 0.6400 - val_loss: 0.6352 - val_accuracy: 0.6500\n",
      "Epoch 159/200\n",
      "22/22 [==============================] - 0s 2ms/step - loss: 0.6313 - accuracy: 0.6371 - val_loss: 0.6360 - val_accuracy: 0.6400\n",
      "Epoch 160/200\n",
      "22/22 [==============================] - 0s 2ms/step - loss: 0.6294 - accuracy: 0.6643 - val_loss: 0.6357 - val_accuracy: 0.6333\n",
      "Epoch 161/200\n",
      "22/22 [==============================] - 0s 2ms/step - loss: 0.6303 - accuracy: 0.6443 - val_loss: 0.6338 - val_accuracy: 0.6367\n",
      "Epoch 162/200\n",
      "22/22 [==============================] - 0s 2ms/step - loss: 0.6234 - accuracy: 0.6614 - val_loss: 0.6330 - val_accuracy: 0.6467\n",
      "Epoch 163/200\n",
      "22/22 [==============================] - 0s 2ms/step - loss: 0.6204 - accuracy: 0.6814 - val_loss: 0.6349 - val_accuracy: 0.6600\n",
      "Epoch 164/200\n",
      "22/22 [==============================] - 0s 2ms/step - loss: 0.6291 - accuracy: 0.6714 - val_loss: 0.6333 - val_accuracy: 0.6533\n",
      "Epoch 165/200\n",
      "22/22 [==============================] - 0s 2ms/step - loss: 0.6161 - accuracy: 0.6657 - val_loss: 0.6360 - val_accuracy: 0.6500\n",
      "Epoch 166/200\n",
      "22/22 [==============================] - 0s 2ms/step - loss: 0.6313 - accuracy: 0.6371 - val_loss: 0.6338 - val_accuracy: 0.6500\n",
      "Epoch 167/200\n",
      "22/22 [==============================] - 0s 2ms/step - loss: 0.6267 - accuracy: 0.6443 - val_loss: 0.6344 - val_accuracy: 0.6500\n",
      "Epoch 168/200\n",
      "22/22 [==============================] - 0s 2ms/step - loss: 0.6239 - accuracy: 0.6514 - val_loss: 0.6340 - val_accuracy: 0.6367\n",
      "Epoch 169/200\n",
      "22/22 [==============================] - 0s 2ms/step - loss: 0.6241 - accuracy: 0.6543 - val_loss: 0.6340 - val_accuracy: 0.6567\n",
      "Epoch 170/200\n",
      "22/22 [==============================] - 0s 2ms/step - loss: 0.6215 - accuracy: 0.6743 - val_loss: 0.6329 - val_accuracy: 0.6500\n",
      "Epoch 171/200\n",
      "22/22 [==============================] - 0s 2ms/step - loss: 0.6197 - accuracy: 0.6586 - val_loss: 0.6338 - val_accuracy: 0.6500\n",
      "Epoch 172/200\n",
      "22/22 [==============================] - 0s 2ms/step - loss: 0.6355 - accuracy: 0.6271 - val_loss: 0.6338 - val_accuracy: 0.6500\n",
      "Epoch 173/200\n"
     ]
    },
    {
     "name": "stdout",
     "output_type": "stream",
     "text": [
      "22/22 [==============================] - 0s 2ms/step - loss: 0.6224 - accuracy: 0.6571 - val_loss: 0.6351 - val_accuracy: 0.6500\n",
      "Epoch 174/200\n",
      "22/22 [==============================] - 0s 2ms/step - loss: 0.6240 - accuracy: 0.6500 - val_loss: 0.6322 - val_accuracy: 0.6467\n",
      "Epoch 175/200\n",
      "22/22 [==============================] - 0s 2ms/step - loss: 0.6190 - accuracy: 0.6671 - val_loss: 0.6323 - val_accuracy: 0.6533\n",
      "Epoch 176/200\n",
      "22/22 [==============================] - 0s 2ms/step - loss: 0.6246 - accuracy: 0.6429 - val_loss: 0.6319 - val_accuracy: 0.6533\n",
      "Epoch 177/200\n",
      "22/22 [==============================] - 0s 2ms/step - loss: 0.6284 - accuracy: 0.6500 - val_loss: 0.6337 - val_accuracy: 0.6533\n",
      "Epoch 178/200\n",
      "22/22 [==============================] - 0s 2ms/step - loss: 0.6290 - accuracy: 0.6529 - val_loss: 0.6328 - val_accuracy: 0.6567\n",
      "Epoch 179/200\n",
      "22/22 [==============================] - 0s 2ms/step - loss: 0.6241 - accuracy: 0.6671 - val_loss: 0.6356 - val_accuracy: 0.6433\n",
      "Epoch 180/200\n",
      "22/22 [==============================] - 0s 2ms/step - loss: 0.6165 - accuracy: 0.6629 - val_loss: 0.6339 - val_accuracy: 0.6533\n",
      "Epoch 181/200\n",
      "22/22 [==============================] - 0s 2ms/step - loss: 0.6316 - accuracy: 0.6429 - val_loss: 0.6317 - val_accuracy: 0.6533\n",
      "Epoch 182/200\n",
      "22/22 [==============================] - 0s 2ms/step - loss: 0.6227 - accuracy: 0.6614 - val_loss: 0.6336 - val_accuracy: 0.6567\n",
      "Epoch 183/200\n",
      "22/22 [==============================] - 0s 2ms/step - loss: 0.6238 - accuracy: 0.6514 - val_loss: 0.6337 - val_accuracy: 0.6633\n",
      "Epoch 184/200\n",
      "22/22 [==============================] - 0s 2ms/step - loss: 0.6222 - accuracy: 0.6471 - val_loss: 0.6327 - val_accuracy: 0.6567\n",
      "Epoch 185/200\n",
      "22/22 [==============================] - 0s 2ms/step - loss: 0.6291 - accuracy: 0.6529 - val_loss: 0.6317 - val_accuracy: 0.6533\n",
      "Epoch 186/200\n",
      "22/22 [==============================] - 0s 2ms/step - loss: 0.6192 - accuracy: 0.6671 - val_loss: 0.6303 - val_accuracy: 0.6633\n",
      "Epoch 187/200\n",
      "22/22 [==============================] - 0s 2ms/step - loss: 0.6335 - accuracy: 0.6500 - val_loss: 0.6291 - val_accuracy: 0.6667\n",
      "Epoch 188/200\n",
      "22/22 [==============================] - 0s 2ms/step - loss: 0.6221 - accuracy: 0.6614 - val_loss: 0.6309 - val_accuracy: 0.6700\n",
      "Epoch 189/200\n",
      "22/22 [==============================] - 0s 2ms/step - loss: 0.6305 - accuracy: 0.6486 - val_loss: 0.6328 - val_accuracy: 0.6600\n",
      "Epoch 190/200\n",
      "22/22 [==============================] - 0s 2ms/step - loss: 0.6198 - accuracy: 0.6600 - val_loss: 0.6314 - val_accuracy: 0.6600\n",
      "Epoch 191/200\n",
      "22/22 [==============================] - 0s 2ms/step - loss: 0.6173 - accuracy: 0.6671 - val_loss: 0.6292 - val_accuracy: 0.6567\n",
      "Epoch 192/200\n",
      "22/22 [==============================] - 0s 2ms/step - loss: 0.6194 - accuracy: 0.6500 - val_loss: 0.6288 - val_accuracy: 0.6667\n",
      "Epoch 193/200\n",
      "22/22 [==============================] - 0s 2ms/step - loss: 0.6241 - accuracy: 0.6586 - val_loss: 0.6295 - val_accuracy: 0.6567\n",
      "Epoch 194/200\n",
      "22/22 [==============================] - 0s 2ms/step - loss: 0.6217 - accuracy: 0.6600 - val_loss: 0.6323 - val_accuracy: 0.6467\n",
      "Epoch 195/200\n",
      "22/22 [==============================] - 0s 2ms/step - loss: 0.6270 - accuracy: 0.6571 - val_loss: 0.6317 - val_accuracy: 0.6467\n",
      "Epoch 196/200\n",
      "22/22 [==============================] - 0s 2ms/step - loss: 0.6167 - accuracy: 0.6543 - val_loss: 0.6306 - val_accuracy: 0.6600\n",
      "Epoch 197/200\n",
      "22/22 [==============================] - 0s 2ms/step - loss: 0.6200 - accuracy: 0.6500 - val_loss: 0.6297 - val_accuracy: 0.6567\n",
      "Epoch 198/200\n",
      "22/22 [==============================] - 0s 2ms/step - loss: 0.6166 - accuracy: 0.6686 - val_loss: 0.6296 - val_accuracy: 0.6533\n",
      "Epoch 199/200\n",
      "22/22 [==============================] - 0s 2ms/step - loss: 0.6241 - accuracy: 0.6643 - val_loss: 0.6298 - val_accuracy: 0.6533\n",
      "Epoch 200/200\n",
      "22/22 [==============================] - 0s 2ms/step - loss: 0.6184 - accuracy: 0.6686 - val_loss: 0.6284 - val_accuracy: 0.6533\n"
     ]
    }
   ],
   "source": [
    "history2=model2.fit(X_train,y_train, validation_data=(X_test, y_test),epochs=200)"
   ]
  },
  {
   "cell_type": "code",
   "execution_count": 46,
   "id": "annual-delivery",
   "metadata": {},
   "outputs": [
    {
     "name": "stdout",
     "output_type": "stream",
     "text": [
      "22/22 [==============================] - 0s 998us/step - loss: 0.5998 - accuracy: 0.6971\n",
      " 1/10 [==>...........................] - ETA: 0s - loss: 0.5521 - accuracy: 0.7188WARNING:tensorflow:Callbacks method `on_test_batch_end` is slow compared to the batch time (batch time: 0.0000s vs `on_test_batch_end` time: 0.0010s). Check your callbacks.\n",
      "10/10 [==============================] - 0s 1ms/step - loss: 0.6284 - accuracy: 0.6533\n",
      "Train: 0.697, Test: 0.653\n"
     ]
    }
   ],
   "source": [
    "_,train_acc = model2.evaluate(X_train,y_train)\n",
    "_,test_acc = model2.evaluate(X_test, y_test)\n",
    "print('Train: %.3f, Test: %.3f' % (train_acc, test_acc))"
   ]
  },
  {
   "cell_type": "code",
   "execution_count": 47,
   "id": "sonic-pregnancy",
   "metadata": {},
   "outputs": [
    {
     "data": {
      "image/png": "[encoded data removed]",
      "text/plain": [
       "<Figure size 432x288 with 1 Axes>"
      ]
     },
     "metadata": {
      "needs_background": "light"
     },
     "output_type": "display_data"
    }
   ],
   "source": [
    "plt.plot(history2.history['loss'])\n",
    "plt.plot(history2.history['val_loss'])\n",
    "plt.title('model2 loss')\n",
    "plt.ylabel('loss')\n",
    "plt.xlabel('epoch')\n",
    "plt.legend(['train', 'test'], loc='upper left')\n",
    "plt.show()"
   ]
  },
  {
   "cell_type": "code",
   "execution_count": 48,
   "id": "hindu-parade",
   "metadata": {},
   "outputs": [
    {
     "data": {
      "text/plain": [
       "<matplotlib.legend.Legend at 0x1c7310f0a08>"
      ]
     },
     "execution_count": 48,
     "metadata": {},
     "output_type": "execute_result"
    },
    {
     "data": {
      "image/png": "[encoded data removed]",
      "text/plain": [
       "<Figure size 432x288 with 1 Axes>"
      ]
     },
     "metadata": {
      "needs_background": "light"
     },
     "output_type": "display_data"
    }
   ],
   "source": [
    "plt.plot(history2.history['accuracy'])\n",
    "plt.plot(history2.history['val_accuracy'])\n",
    "plt.title('model2 accuracy')\n",
    "plt.ylabel('accuracy')\n",
    "plt.xlabel('epoch')\n",
    "plt.legend(['train', 'test'], loc='upper left')"
   ]
  },
  {
   "cell_type": "code",
   "execution_count": 49,
   "id": "increasing-timeline",
   "metadata": {},
   "outputs": [
    {
     "name": "stdout",
     "output_type": "stream",
     "text": [
      "[0, 0, 0, 0, 0, 1, 1, 0, 0, 1, 1, 0, 1, 1, 0, 1, 0, 0, 0, 1, 0, 1, 0, 1, 0, 0, 1, 1, 0, 1, 1, 1, 0, 0, 1, 0, 1, 1, 0, 1, 0, 0, 1, 0, 0, 0, 0, 0, 1, 1, 0, 0, 1, 0, 0, 0, 1, 1, 1, 0, 0, 0, 1, 1, 0, 1, 0, 0, 1, 1, 0, 1, 0, 0, 0, 0, 0, 0, 0, 0, 1, 0, 0, 0, 0, 1, 0, 1, 1, 1, 0, 0, 0, 0, 0, 0, 0, 0, 0, 0, 1, 0, 0, 0, 0, 1, 0, 0, 1, 1, 1, 0, 1, 0, 1, 1, 0, 0, 1, 1, 0, 1, 1, 0, 0, 1, 1, 1, 1, 0, 0, 1, 0, 1, 1, 1, 1, 0, 0, 0, 0, 1, 1, 0, 0, 0, 1, 0, 0, 0, 1, 0, 0, 1, 0, 0, 1, 1, 0, 1, 0, 0, 1, 1, 1, 0, 0, 0, 0, 1, 0, 0, 0, 1, 1, 0, 0, 1, 0, 0, 1, 1, 1, 0, 0, 0, 1, 1, 1, 1, 0, 1, 0, 0, 0, 0, 0, 0, 0, 0, 0, 0, 0, 0, 1, 0, 0, 0, 1, 1, 0, 0, 0, 0, 0, 0, 0, 1, 0, 1, 0, 1, 0, 1, 0, 1, 0, 0, 0, 0, 1, 0, 1, 1, 0, 0, 0, 0, 1, 0, 1, 1, 0, 0, 0, 0, 1, 1, 0, 0, 0, 1, 0, 1, 0, 0, 1, 0, 1, 0, 1, 0, 1, 0, 1, 1, 0, 0, 1, 0, 0, 1, 1, 0, 1, 1, 0, 0, 1, 1, 1, 0, 1, 0, 0, 1, 0, 1, 0, 0, 1, 1, 0, 1, 1, 0, 1, 0, 1, 0]\n"
     ]
    }
   ],
   "source": [
    "predict_y=model2.predict(X_test)\n",
    "predict_value=[]\n",
    "for predict in predict_y:\n",
    "    if predict>0.5:\n",
    "     predict_value.append(1)\n",
    "    else:\n",
    "        predict_value.append(0)\n",
    "print(predict_value)        "
   ]
  },
  {
   "cell_type": "code",
   "execution_count": 50,
   "id": "satisfactory-posting",
   "metadata": {},
   "outputs": [
    {
     "name": "stdout",
     "output_type": "stream",
     "text": [
      "[[107  33]\n",
      " [ 71  89]]\n"
     ]
    }
   ],
   "source": [
    "from sklearn.metrics import confusion_matrix\n",
    "print(confusion_matrix(y_test, predict_value))"
   ]
  },
  {
   "cell_type": "code",
   "execution_count": 51,
   "id": "western-climb",
   "metadata": {},
   "outputs": [
    {
     "name": "stdout",
     "output_type": "stream",
     "text": [
      "              precision    recall  f1-score   support\n",
      "\n",
      "           0       0.60      0.76      0.67       140\n",
      "           1       0.73      0.56      0.63       160\n",
      "\n",
      "    accuracy                           0.65       300\n",
      "   macro avg       0.67      0.66      0.65       300\n",
      "weighted avg       0.67      0.65      0.65       300\n",
      "\n"
     ]
    }
   ],
   "source": [
    "from sklearn.metrics import classification_report\n",
    "print(classification_report(y_test,predict_value))"
   ]
  },
  {
   "cell_type": "code",
   "execution_count": 52,
   "id": "tight-nirvana",
   "metadata": {},
   "outputs": [],
   "source": [
    "model2.save('model2.h5')"
   ]
  },
  {
   "cell_type": "code",
   "execution_count": 53,
   "id": "british-siemens",
   "metadata": {},
   "outputs": [
    {
     "name": "stdout",
     "output_type": "stream",
     "text": [
      "Model: \"sequential_2\"\n",
      "_________________________________________________________________\n",
      "Layer (type)                 Output Shape              Param #   \n",
      "=================================================================\n",
      "dense_5 (Dense)              (None, 10)                90        \n",
      "_________________________________________________________________\n",
      "dense_6 (Dense)              (None, 8)                 88        \n",
      "_________________________________________________________________\n",
      "dense_7 (Dense)              (None, 6)                 54        \n",
      "_________________________________________________________________\n",
      "dropout_1 (Dropout)          (None, 6)                 0         \n",
      "_________________________________________________________________\n",
      "dense_8 (Dense)              (None, 1)                 7         \n",
      "=================================================================\n",
      "Total params: 239\n",
      "Trainable params: 239\n",
      "Non-trainable params: 0\n",
      "_________________________________________________________________\n"
     ]
    }
   ],
   "source": [
    "model3= Sequential ()\n",
    "model3.add(Dense(10, input_dim=8, activation= 'relu' ))\n",
    "model3.add(Dense(8, activation= 'relu' ))\n",
    "model3.add(Dense(6, activation= 'relu' ))\n",
    "model3.add(Dropout(0.25))\n",
    "model3.add(Dense(1, activation= 'sigmoid' ))\n",
    "model3.summary()"
   ]
  },
  {
   "cell_type": "code",
   "execution_count": 54,
   "id": "premium-living",
   "metadata": {},
   "outputs": [
    {
     "data": {
      "image/png": "[encoded data removed]",
      "text/plain": [
       "<IPython.core.display.Image object>"
      ]
     },
     "execution_count": 54,
     "metadata": {},
     "output_type": "execute_result"
    }
   ],
   "source": [
    "from keras.utils import plot_model\n",
    "plot_model(model3, to_file='multilayer_perceptron_graph.png')"
   ]
  },
  {
   "cell_type": "code",
   "execution_count": 55,
   "id": "serious-financing",
   "metadata": {},
   "outputs": [],
   "source": [
    "model3.compile(loss= 'binary_crossentropy' , optimizer= 'adam' , metrics=[ 'accuracy' ])"
   ]
  },
  {
   "cell_type": "code",
   "execution_count": 56,
   "id": "coastal-pantyhose",
   "metadata": {},
   "outputs": [],
   "source": [
    "es= EarlyStopping(monitor='val_loss', min_delta=0, patience=10, verbose=0, mode='auto')"
   ]
  },
  {
   "cell_type": "code",
   "execution_count": 57,
   "id": "decimal-peace",
   "metadata": {},
   "outputs": [
    {
     "name": "stdout",
     "output_type": "stream",
     "text": [
      "Epoch 1/200\n",
      "22/22 [==============================] - 0s 11ms/step - loss: 0.7038 - accuracy: 0.5343 - val_loss: 0.7003 - val_accuracy: 0.5367\n",
      "Epoch 2/200\n",
      "22/22 [==============================] - 0s 2ms/step - loss: 0.7055 - accuracy: 0.5171 - val_loss: 0.6933 - val_accuracy: 0.5500\n",
      "Epoch 3/200\n",
      "22/22 [==============================] - 0s 2ms/step - loss: 0.6995 - accuracy: 0.4943 - val_loss: 0.6948 - val_accuracy: 0.5400\n",
      "Epoch 4/200\n",
      "22/22 [==============================] - 0s 2ms/step - loss: 0.6975 - accuracy: 0.5300 - val_loss: 0.6892 - val_accuracy: 0.5500\n",
      "Epoch 5/200\n",
      "22/22 [==============================] - 0s 2ms/step - loss: 0.6924 - accuracy: 0.5371 - val_loss: 0.6888 - val_accuracy: 0.5600\n",
      "Epoch 6/200\n",
      "22/22 [==============================] - 0s 2ms/step - loss: 0.6983 - accuracy: 0.5257 - val_loss: 0.6871 - val_accuracy: 0.5500\n",
      "Epoch 7/200\n",
      "22/22 [==============================] - 0s 2ms/step - loss: 0.6932 - accuracy: 0.5243 - val_loss: 0.6872 - val_accuracy: 0.5533\n",
      "Epoch 8/200\n",
      "22/22 [==============================] - 0s 2ms/step - loss: 0.6963 - accuracy: 0.5014 - val_loss: 0.6876 - val_accuracy: 0.5500\n",
      "Epoch 9/200\n",
      "22/22 [==============================] - 0s 2ms/step - loss: 0.6895 - accuracy: 0.5229 - val_loss: 0.6885 - val_accuracy: 0.5433\n",
      "Epoch 10/200\n",
      "22/22 [==============================] - 0s 2ms/step - loss: 0.6894 - accuracy: 0.5414 - val_loss: 0.6868 - val_accuracy: 0.5500\n",
      "Epoch 11/200\n",
      "22/22 [==============================] - 0s 2ms/step - loss: 0.6880 - accuracy: 0.5486 - val_loss: 0.6860 - val_accuracy: 0.5533\n",
      "Epoch 12/200\n",
      "22/22 [==============================] - 0s 2ms/step - loss: 0.6863 - accuracy: 0.5271 - val_loss: 0.6860 - val_accuracy: 0.5600\n",
      "Epoch 13/200\n",
      "22/22 [==============================] - 0s 2ms/step - loss: 0.6872 - accuracy: 0.5400 - val_loss: 0.6846 - val_accuracy: 0.5667\n",
      "Epoch 14/200\n",
      "22/22 [==============================] - 0s 2ms/step - loss: 0.6859 - accuracy: 0.5257 - val_loss: 0.6833 - val_accuracy: 0.5800\n",
      "Epoch 15/200\n",
      "22/22 [==============================] - 0s 2ms/step - loss: 0.6816 - accuracy: 0.5500 - val_loss: 0.6833 - val_accuracy: 0.5767\n",
      "Epoch 16/200\n",
      "22/22 [==============================] - 0s 3ms/step - loss: 0.6849 - accuracy: 0.5471 - val_loss: 0.6822 - val_accuracy: 0.5800\n",
      "Epoch 17/200\n",
      "22/22 [==============================] - 0s 3ms/step - loss: 0.6791 - accuracy: 0.5571 - val_loss: 0.6811 - val_accuracy: 0.5933\n",
      "Epoch 18/200\n",
      "22/22 [==============================] - 0s 2ms/step - loss: 0.6820 - accuracy: 0.5543 - val_loss: 0.6791 - val_accuracy: 0.5967\n",
      "Epoch 19/200\n",
      "22/22 [==============================] - 0s 2ms/step - loss: 0.6820 - accuracy: 0.5443 - val_loss: 0.6797 - val_accuracy: 0.5967\n",
      "Epoch 20/200\n",
      "22/22 [==============================] - 0s 2ms/step - loss: 0.6821 - accuracy: 0.5543 - val_loss: 0.6780 - val_accuracy: 0.5900\n",
      "Epoch 21/200\n",
      "22/22 [==============================] - 0s 2ms/step - loss: 0.6808 - accuracy: 0.5400 - val_loss: 0.6781 - val_accuracy: 0.6033\n",
      "Epoch 22/200\n",
      "22/22 [==============================] - 0s 2ms/step - loss: 0.6766 - accuracy: 0.5757 - val_loss: 0.6754 - val_accuracy: 0.5967\n",
      "Epoch 23/200\n",
      "22/22 [==============================] - 0s 2ms/step - loss: 0.6732 - accuracy: 0.5714 - val_loss: 0.6729 - val_accuracy: 0.6100\n",
      "Epoch 24/200\n",
      "22/22 [==============================] - 0s 2ms/step - loss: 0.6771 - accuracy: 0.5629 - val_loss: 0.6714 - val_accuracy: 0.6000\n",
      "Epoch 25/200\n",
      "22/22 [==============================] - 0s 2ms/step - loss: 0.6786 - accuracy: 0.5429 - val_loss: 0.6708 - val_accuracy: 0.6033\n",
      "Epoch 26/200\n",
      "22/22 [==============================] - 0s 2ms/step - loss: 0.6737 - accuracy: 0.5814 - val_loss: 0.6696 - val_accuracy: 0.6133\n",
      "Epoch 27/200\n",
      "22/22 [==============================] - 0s 2ms/step - loss: 0.6721 - accuracy: 0.5843 - val_loss: 0.6674 - val_accuracy: 0.6167\n",
      "Epoch 28/200\n",
      "22/22 [==============================] - 0s 2ms/step - loss: 0.6678 - accuracy: 0.5743 - val_loss: 0.6662 - val_accuracy: 0.6200\n",
      "Epoch 29/200\n",
      "22/22 [==============================] - 0s 2ms/step - loss: 0.6720 - accuracy: 0.5814 - val_loss: 0.6643 - val_accuracy: 0.6233\n",
      "Epoch 30/200\n",
      "22/22 [==============================] - 0s 2ms/step - loss: 0.6685 - accuracy: 0.5871 - val_loss: 0.6640 - val_accuracy: 0.6233\n",
      "Epoch 31/200\n",
      "22/22 [==============================] - 0s 2ms/step - loss: 0.6696 - accuracy: 0.5786 - val_loss: 0.6618 - val_accuracy: 0.6300\n",
      "Epoch 32/200\n",
      "22/22 [==============================] - 0s 2ms/step - loss: 0.6652 - accuracy: 0.5829 - val_loss: 0.6587 - val_accuracy: 0.6300\n",
      "Epoch 33/200\n",
      "22/22 [==============================] - 0s 2ms/step - loss: 0.6669 - accuracy: 0.5857 - val_loss: 0.6602 - val_accuracy: 0.6533\n",
      "Epoch 34/200\n",
      "22/22 [==============================] - 0s 2ms/step - loss: 0.6656 - accuracy: 0.6057 - val_loss: 0.6572 - val_accuracy: 0.6467\n",
      "Epoch 35/200\n",
      "22/22 [==============================] - 0s 2ms/step - loss: 0.6534 - accuracy: 0.5957 - val_loss: 0.6564 - val_accuracy: 0.6500\n",
      "Epoch 36/200\n",
      "22/22 [==============================] - 0s 2ms/step - loss: 0.6632 - accuracy: 0.5871 - val_loss: 0.6532 - val_accuracy: 0.6500\n",
      "Epoch 37/200\n",
      "22/22 [==============================] - 0s 2ms/step - loss: 0.6604 - accuracy: 0.5943 - val_loss: 0.6557 - val_accuracy: 0.6567\n",
      "Epoch 38/200\n",
      "22/22 [==============================] - 0s 2ms/step - loss: 0.6657 - accuracy: 0.5943 - val_loss: 0.6530 - val_accuracy: 0.6600\n",
      "Epoch 39/200\n",
      "22/22 [==============================] - 0s 2ms/step - loss: 0.6619 - accuracy: 0.5900 - val_loss: 0.6559 - val_accuracy: 0.6533\n",
      "Epoch 40/200\n",
      "22/22 [==============================] - 0s 2ms/step - loss: 0.6561 - accuracy: 0.5857 - val_loss: 0.6509 - val_accuracy: 0.6600\n",
      "Epoch 41/200\n",
      "22/22 [==============================] - 0s 2ms/step - loss: 0.6600 - accuracy: 0.5929 - val_loss: 0.6534 - val_accuracy: 0.6533\n",
      "Epoch 42/200\n",
      "22/22 [==============================] - 0s 2ms/step - loss: 0.6639 - accuracy: 0.5857 - val_loss: 0.6522 - val_accuracy: 0.6500\n",
      "Epoch 43/200\n",
      "22/22 [==============================] - 0s 2ms/step - loss: 0.6581 - accuracy: 0.6014 - val_loss: 0.6486 - val_accuracy: 0.6500\n",
      "Epoch 44/200\n",
      "22/22 [==============================] - 0s 2ms/step - loss: 0.6615 - accuracy: 0.5871 - val_loss: 0.6513 - val_accuracy: 0.6433\n",
      "Epoch 45/200\n",
      "22/22 [==============================] - 0s 2ms/step - loss: 0.6538 - accuracy: 0.6157 - val_loss: 0.6498 - val_accuracy: 0.6433\n",
      "Epoch 46/200\n",
      "22/22 [==============================] - 0s 2ms/step - loss: 0.6532 - accuracy: 0.5986 - val_loss: 0.6491 - val_accuracy: 0.6433\n",
      "Epoch 47/200\n",
      "22/22 [==============================] - 0s 2ms/step - loss: 0.6548 - accuracy: 0.6029 - val_loss: 0.6505 - val_accuracy: 0.6400\n",
      "Epoch 48/200\n",
      "22/22 [==============================] - 0s 2ms/step - loss: 0.6637 - accuracy: 0.5971 - val_loss: 0.6452 - val_accuracy: 0.6567\n",
      "Epoch 49/200\n",
      "22/22 [==============================] - 0s 2ms/step - loss: 0.6535 - accuracy: 0.5957 - val_loss: 0.6512 - val_accuracy: 0.6300\n",
      "Epoch 50/200\n",
      "22/22 [==============================] - 0s 2ms/step - loss: 0.6568 - accuracy: 0.5857 - val_loss: 0.6527 - val_accuracy: 0.6267\n",
      "Epoch 51/200\n",
      "22/22 [==============================] - 0s 2ms/step - loss: 0.6566 - accuracy: 0.6071 - val_loss: 0.6472 - val_accuracy: 0.6333\n",
      "Epoch 52/200\n",
      "22/22 [==============================] - 0s 2ms/step - loss: 0.6537 - accuracy: 0.6186 - val_loss: 0.6475 - val_accuracy: 0.6333\n",
      "Epoch 53/200\n",
      "22/22 [==============================] - 0s 2ms/step - loss: 0.6564 - accuracy: 0.6329 - val_loss: 0.6533 - val_accuracy: 0.6300\n",
      "Epoch 54/200\n",
      "22/22 [==============================] - 0s 2ms/step - loss: 0.6517 - accuracy: 0.6286 - val_loss: 0.6504 - val_accuracy: 0.6367\n",
      "Epoch 55/200\n",
      "22/22 [==============================] - 0s 2ms/step - loss: 0.6475 - accuracy: 0.6314 - val_loss: 0.6453 - val_accuracy: 0.6400\n",
      "Epoch 56/200\n",
      "22/22 [==============================] - 0s 3ms/step - loss: 0.6485 - accuracy: 0.6300 - val_loss: 0.6487 - val_accuracy: 0.6467\n",
      "Epoch 57/200\n",
      "22/22 [==============================] - 0s 2ms/step - loss: 0.6470 - accuracy: 0.6271 - val_loss: 0.6503 - val_accuracy: 0.6267\n",
      "Epoch 58/200\n",
      "22/22 [==============================] - 0s 2ms/step - loss: 0.6387 - accuracy: 0.6443 - val_loss: 0.6450 - val_accuracy: 0.6333\n"
     ]
    },
    {
     "name": "stdout",
     "output_type": "stream",
     "text": [
      "Epoch 59/200\n",
      "22/22 [==============================] - 0s 2ms/step - loss: 0.6531 - accuracy: 0.6357 - val_loss: 0.6452 - val_accuracy: 0.6300\n",
      "Epoch 60/200\n",
      "22/22 [==============================] - 0s 2ms/step - loss: 0.6468 - accuracy: 0.6286 - val_loss: 0.6474 - val_accuracy: 0.6333\n",
      "Epoch 61/200\n",
      "22/22 [==============================] - 0s 2ms/step - loss: 0.6471 - accuracy: 0.6386 - val_loss: 0.6422 - val_accuracy: 0.6333\n",
      "Epoch 62/200\n",
      "22/22 [==============================] - 0s 2ms/step - loss: 0.6506 - accuracy: 0.6429 - val_loss: 0.6508 - val_accuracy: 0.6300\n",
      "Epoch 63/200\n",
      "22/22 [==============================] - 0s 2ms/step - loss: 0.6376 - accuracy: 0.6600 - val_loss: 0.6480 - val_accuracy: 0.6267\n",
      "Epoch 64/200\n",
      "22/22 [==============================] - 0s 2ms/step - loss: 0.6353 - accuracy: 0.6386 - val_loss: 0.6443 - val_accuracy: 0.6300\n",
      "Epoch 65/200\n",
      "22/22 [==============================] - 0s 2ms/step - loss: 0.6449 - accuracy: 0.6514 - val_loss: 0.6462 - val_accuracy: 0.6233\n",
      "Epoch 66/200\n",
      "22/22 [==============================] - 0s 2ms/step - loss: 0.6483 - accuracy: 0.6329 - val_loss: 0.6485 - val_accuracy: 0.6267\n",
      "Epoch 67/200\n",
      "22/22 [==============================] - 0s 2ms/step - loss: 0.6425 - accuracy: 0.6486 - val_loss: 0.6474 - val_accuracy: 0.6233\n",
      "Epoch 68/200\n",
      "22/22 [==============================] - 0s 2ms/step - loss: 0.6395 - accuracy: 0.6414 - val_loss: 0.6472 - val_accuracy: 0.6267\n",
      "Epoch 69/200\n",
      "22/22 [==============================] - 0s 2ms/step - loss: 0.6404 - accuracy: 0.6314 - val_loss: 0.6429 - val_accuracy: 0.6433\n",
      "Epoch 70/200\n",
      "22/22 [==============================] - 0s 2ms/step - loss: 0.6447 - accuracy: 0.6486 - val_loss: 0.6388 - val_accuracy: 0.6467\n",
      "Epoch 71/200\n",
      "22/22 [==============================] - 0s 2ms/step - loss: 0.6384 - accuracy: 0.6500 - val_loss: 0.6491 - val_accuracy: 0.6267\n",
      "Epoch 72/200\n",
      "22/22 [==============================] - 0s 2ms/step - loss: 0.6300 - accuracy: 0.6529 - val_loss: 0.6399 - val_accuracy: 0.6500\n",
      "Epoch 73/200\n",
      "22/22 [==============================] - 0s 2ms/step - loss: 0.6369 - accuracy: 0.6471 - val_loss: 0.6491 - val_accuracy: 0.6233\n",
      "Epoch 74/200\n",
      "22/22 [==============================] - 0s 2ms/step - loss: 0.6382 - accuracy: 0.6514 - val_loss: 0.6418 - val_accuracy: 0.6433\n",
      "Epoch 75/200\n",
      "22/22 [==============================] - 0s 2ms/step - loss: 0.6440 - accuracy: 0.6500 - val_loss: 0.6431 - val_accuracy: 0.6367\n",
      "Epoch 76/200\n",
      "22/22 [==============================] - 0s 2ms/step - loss: 0.6384 - accuracy: 0.6529 - val_loss: 0.6421 - val_accuracy: 0.6433\n",
      "Epoch 77/200\n",
      "22/22 [==============================] - 0s 2ms/step - loss: 0.6339 - accuracy: 0.6614 - val_loss: 0.6439 - val_accuracy: 0.6433\n",
      "Epoch 78/200\n",
      "22/22 [==============================] - 0s 2ms/step - loss: 0.6360 - accuracy: 0.6557 - val_loss: 0.6435 - val_accuracy: 0.6433\n",
      "Epoch 79/200\n",
      "22/22 [==============================] - 0s 2ms/step - loss: 0.6402 - accuracy: 0.6543 - val_loss: 0.6397 - val_accuracy: 0.6433\n",
      "Epoch 80/200\n",
      "22/22 [==============================] - 0s 2ms/step - loss: 0.6300 - accuracy: 0.6671 - val_loss: 0.6409 - val_accuracy: 0.6433\n",
      "Epoch 81/200\n",
      "22/22 [==============================] - 0s 2ms/step - loss: 0.6413 - accuracy: 0.6557 - val_loss: 0.6395 - val_accuracy: 0.6467\n",
      "Epoch 82/200\n",
      "22/22 [==============================] - 0s 2ms/step - loss: 0.6382 - accuracy: 0.6614 - val_loss: 0.6467 - val_accuracy: 0.6400\n",
      "Epoch 83/200\n",
      "22/22 [==============================] - 0s 2ms/step - loss: 0.6357 - accuracy: 0.6529 - val_loss: 0.6401 - val_accuracy: 0.6467\n",
      "Epoch 84/200\n",
      "22/22 [==============================] - 0s 2ms/step - loss: 0.6325 - accuracy: 0.6629 - val_loss: 0.6483 - val_accuracy: 0.6433\n",
      "Epoch 85/200\n",
      "22/22 [==============================] - 0s 2ms/step - loss: 0.6354 - accuracy: 0.6686 - val_loss: 0.6370 - val_accuracy: 0.6633\n",
      "Epoch 86/200\n",
      "22/22 [==============================] - 0s 2ms/step - loss: 0.6276 - accuracy: 0.6643 - val_loss: 0.6378 - val_accuracy: 0.6567\n",
      "Epoch 87/200\n",
      "22/22 [==============================] - 0s 2ms/step - loss: 0.6272 - accuracy: 0.6643 - val_loss: 0.6466 - val_accuracy: 0.6433\n",
      "Epoch 88/200\n",
      "22/22 [==============================] - 0s 2ms/step - loss: 0.6295 - accuracy: 0.6614 - val_loss: 0.6389 - val_accuracy: 0.6567\n",
      "Epoch 89/200\n",
      "22/22 [==============================] - 0s 2ms/step - loss: 0.6253 - accuracy: 0.6600 - val_loss: 0.6331 - val_accuracy: 0.6600\n",
      "Epoch 90/200\n",
      "22/22 [==============================] - 0s 2ms/step - loss: 0.6308 - accuracy: 0.6686 - val_loss: 0.6398 - val_accuracy: 0.6500\n",
      "Epoch 91/200\n",
      "22/22 [==============================] - 0s 2ms/step - loss: 0.6254 - accuracy: 0.6614 - val_loss: 0.6327 - val_accuracy: 0.6533\n",
      "Epoch 92/200\n",
      "22/22 [==============================] - 0s 2ms/step - loss: 0.6302 - accuracy: 0.6657 - val_loss: 0.6439 - val_accuracy: 0.6533\n",
      "Epoch 93/200\n",
      "22/22 [==============================] - 0s 2ms/step - loss: 0.6329 - accuracy: 0.6743 - val_loss: 0.6363 - val_accuracy: 0.6667\n",
      "Epoch 94/200\n",
      "22/22 [==============================] - 0s 2ms/step - loss: 0.6244 - accuracy: 0.6729 - val_loss: 0.6448 - val_accuracy: 0.6433\n",
      "Epoch 95/200\n",
      "22/22 [==============================] - 0s 2ms/step - loss: 0.6258 - accuracy: 0.6586 - val_loss: 0.6386 - val_accuracy: 0.6467\n",
      "Epoch 96/200\n",
      "22/22 [==============================] - 0s 2ms/step - loss: 0.6241 - accuracy: 0.6700 - val_loss: 0.6373 - val_accuracy: 0.6533\n",
      "Epoch 97/200\n",
      "22/22 [==============================] - 0s 2ms/step - loss: 0.6277 - accuracy: 0.6757 - val_loss: 0.6384 - val_accuracy: 0.6633\n",
      "Epoch 98/200\n",
      "22/22 [==============================] - 0s 2ms/step - loss: 0.6225 - accuracy: 0.6700 - val_loss: 0.6404 - val_accuracy: 0.6667\n",
      "Epoch 99/200\n",
      "22/22 [==============================] - 0s 2ms/step - loss: 0.6216 - accuracy: 0.6686 - val_loss: 0.6366 - val_accuracy: 0.6500\n",
      "Epoch 100/200\n",
      "22/22 [==============================] - 0s 2ms/step - loss: 0.6282 - accuracy: 0.6843 - val_loss: 0.6426 - val_accuracy: 0.6567\n",
      "Epoch 101/200\n",
      "22/22 [==============================] - 0s 2ms/step - loss: 0.6276 - accuracy: 0.6514 - val_loss: 0.6406 - val_accuracy: 0.6600\n",
      "Epoch 102/200\n",
      "22/22 [==============================] - 0s 2ms/step - loss: 0.6264 - accuracy: 0.6671 - val_loss: 0.6406 - val_accuracy: 0.6500\n",
      "Epoch 103/200\n",
      "22/22 [==============================] - 0s 2ms/step - loss: 0.6298 - accuracy: 0.6700 - val_loss: 0.6385 - val_accuracy: 0.6500\n",
      "Epoch 104/200\n",
      "22/22 [==============================] - 0s 2ms/step - loss: 0.6338 - accuracy: 0.6714 - val_loss: 0.6357 - val_accuracy: 0.6500\n",
      "Epoch 105/200\n",
      "22/22 [==============================] - 0s 2ms/step - loss: 0.6261 - accuracy: 0.6700 - val_loss: 0.6355 - val_accuracy: 0.6567\n",
      "Epoch 106/200\n",
      "22/22 [==============================] - 0s 2ms/step - loss: 0.6186 - accuracy: 0.6614 - val_loss: 0.6395 - val_accuracy: 0.6433\n",
      "Epoch 107/200\n",
      "22/22 [==============================] - 0s 2ms/step - loss: 0.6172 - accuracy: 0.6643 - val_loss: 0.6362 - val_accuracy: 0.6600\n",
      "Epoch 108/200\n",
      "22/22 [==============================] - 0s 2ms/step - loss: 0.6207 - accuracy: 0.6671 - val_loss: 0.6338 - val_accuracy: 0.6633\n",
      "Epoch 109/200\n",
      "22/22 [==============================] - 0s 2ms/step - loss: 0.6174 - accuracy: 0.6800 - val_loss: 0.6474 - val_accuracy: 0.6467\n",
      "Epoch 110/200\n",
      "22/22 [==============================] - 0s 2ms/step - loss: 0.6186 - accuracy: 0.6800 - val_loss: 0.6316 - val_accuracy: 0.6567\n",
      "Epoch 111/200\n",
      "22/22 [==============================] - 0s 2ms/step - loss: 0.6185 - accuracy: 0.6671 - val_loss: 0.6311 - val_accuracy: 0.6667\n",
      "Epoch 112/200\n",
      "22/22 [==============================] - 0s 2ms/step - loss: 0.6275 - accuracy: 0.6629 - val_loss: 0.6358 - val_accuracy: 0.6433\n",
      "Epoch 113/200\n",
      "22/22 [==============================] - 0s 2ms/step - loss: 0.6019 - accuracy: 0.6800 - val_loss: 0.6324 - val_accuracy: 0.6633\n",
      "Epoch 114/200\n",
      "22/22 [==============================] - 0s 2ms/step - loss: 0.6095 - accuracy: 0.6671 - val_loss: 0.6332 - val_accuracy: 0.6567\n",
      "Epoch 115/200\n",
      "22/22 [==============================] - 0s 2ms/step - loss: 0.6177 - accuracy: 0.6700 - val_loss: 0.6351 - val_accuracy: 0.6433\n",
      "Epoch 116/200\n"
     ]
    },
    {
     "name": "stdout",
     "output_type": "stream",
     "text": [
      "22/22 [==============================] - 0s 2ms/step - loss: 0.6197 - accuracy: 0.6571 - val_loss: 0.6321 - val_accuracy: 0.6467\n",
      "Epoch 117/200\n",
      "22/22 [==============================] - 0s 2ms/step - loss: 0.6171 - accuracy: 0.6643 - val_loss: 0.6337 - val_accuracy: 0.6533\n",
      "Epoch 118/200\n",
      "22/22 [==============================] - 0s 2ms/step - loss: 0.6120 - accuracy: 0.6700 - val_loss: 0.6327 - val_accuracy: 0.6567\n",
      "Epoch 119/200\n",
      "22/22 [==============================] - 0s 2ms/step - loss: 0.6215 - accuracy: 0.6600 - val_loss: 0.6333 - val_accuracy: 0.6500\n",
      "Epoch 120/200\n",
      "22/22 [==============================] - 0s 2ms/step - loss: 0.6135 - accuracy: 0.6614 - val_loss: 0.6331 - val_accuracy: 0.6533\n",
      "Epoch 121/200\n",
      "22/22 [==============================] - 0s 2ms/step - loss: 0.6113 - accuracy: 0.6829 - val_loss: 0.6341 - val_accuracy: 0.6433\n",
      "Epoch 122/200\n",
      "22/22 [==============================] - 0s 2ms/step - loss: 0.6129 - accuracy: 0.6786 - val_loss: 0.6378 - val_accuracy: 0.6533\n",
      "Epoch 123/200\n",
      "22/22 [==============================] - 0s 2ms/step - loss: 0.6129 - accuracy: 0.6800 - val_loss: 0.6251 - val_accuracy: 0.6633\n",
      "Epoch 124/200\n",
      "22/22 [==============================] - 0s 2ms/step - loss: 0.6063 - accuracy: 0.6786 - val_loss: 0.6397 - val_accuracy: 0.6433\n",
      "Epoch 125/200\n",
      "22/22 [==============================] - 0s 2ms/step - loss: 0.6134 - accuracy: 0.6843 - val_loss: 0.6313 - val_accuracy: 0.6567\n",
      "Epoch 126/200\n",
      "22/22 [==============================] - 0s 3ms/step - loss: 0.6171 - accuracy: 0.6857 - val_loss: 0.6330 - val_accuracy: 0.6500\n",
      "Epoch 127/200\n",
      "22/22 [==============================] - 0s 3ms/step - loss: 0.6133 - accuracy: 0.6729 - val_loss: 0.6290 - val_accuracy: 0.6567\n",
      "Epoch 128/200\n",
      "22/22 [==============================] - 0s 2ms/step - loss: 0.6031 - accuracy: 0.6814 - val_loss: 0.6346 - val_accuracy: 0.6600\n",
      "Epoch 129/200\n",
      "22/22 [==============================] - 0s 3ms/step - loss: 0.6076 - accuracy: 0.6771 - val_loss: 0.6347 - val_accuracy: 0.6533\n",
      "Epoch 130/200\n",
      "22/22 [==============================] - 0s 3ms/step - loss: 0.6050 - accuracy: 0.6786 - val_loss: 0.6313 - val_accuracy: 0.6500\n",
      "Epoch 131/200\n",
      "22/22 [==============================] - 0s 3ms/step - loss: 0.6074 - accuracy: 0.6786 - val_loss: 0.6253 - val_accuracy: 0.6633\n",
      "Epoch 132/200\n",
      "22/22 [==============================] - 0s 2ms/step - loss: 0.6086 - accuracy: 0.6743 - val_loss: 0.6345 - val_accuracy: 0.6567\n",
      "Epoch 133/200\n",
      "22/22 [==============================] - 0s 2ms/step - loss: 0.6079 - accuracy: 0.6657 - val_loss: 0.6252 - val_accuracy: 0.6567\n",
      "Epoch 134/200\n",
      "22/22 [==============================] - 0s 3ms/step - loss: 0.5989 - accuracy: 0.6914 - val_loss: 0.6338 - val_accuracy: 0.6533\n",
      "Epoch 135/200\n",
      "22/22 [==============================] - 0s 3ms/step - loss: 0.6007 - accuracy: 0.6700 - val_loss: 0.6215 - val_accuracy: 0.6733\n",
      "Epoch 136/200\n",
      "22/22 [==============================] - 0s 2ms/step - loss: 0.6012 - accuracy: 0.6829 - val_loss: 0.6290 - val_accuracy: 0.6667\n",
      "Epoch 137/200\n",
      "22/22 [==============================] - 0s 2ms/step - loss: 0.6005 - accuracy: 0.6871 - val_loss: 0.6253 - val_accuracy: 0.6700\n",
      "Epoch 138/200\n",
      "22/22 [==============================] - 0s 3ms/step - loss: 0.6061 - accuracy: 0.6943 - val_loss: 0.6367 - val_accuracy: 0.6600\n",
      "Epoch 139/200\n",
      "22/22 [==============================] - 0s 3ms/step - loss: 0.6017 - accuracy: 0.6929 - val_loss: 0.6217 - val_accuracy: 0.6767\n",
      "Epoch 140/200\n",
      "22/22 [==============================] - 0s 3ms/step - loss: 0.5960 - accuracy: 0.6871 - val_loss: 0.6216 - val_accuracy: 0.6767\n",
      "Epoch 141/200\n",
      "22/22 [==============================] - 0s 2ms/step - loss: 0.6025 - accuracy: 0.7000 - val_loss: 0.6360 - val_accuracy: 0.6467\n",
      "Epoch 142/200\n",
      "22/22 [==============================] - 0s 2ms/step - loss: 0.5976 - accuracy: 0.6829 - val_loss: 0.6192 - val_accuracy: 0.6767\n",
      "Epoch 143/200\n",
      "22/22 [==============================] - 0s 2ms/step - loss: 0.5892 - accuracy: 0.7057 - val_loss: 0.6268 - val_accuracy: 0.6767\n",
      "Epoch 144/200\n",
      "22/22 [==============================] - 0s 2ms/step - loss: 0.5933 - accuracy: 0.7000 - val_loss: 0.6229 - val_accuracy: 0.6700\n",
      "Epoch 145/200\n",
      "22/22 [==============================] - 0s 2ms/step - loss: 0.5940 - accuracy: 0.6957 - val_loss: 0.6214 - val_accuracy: 0.6800\n",
      "Epoch 146/200\n",
      "22/22 [==============================] - 0s 2ms/step - loss: 0.5911 - accuracy: 0.6929 - val_loss: 0.6198 - val_accuracy: 0.6700\n",
      "Epoch 147/200\n",
      "22/22 [==============================] - 0s 2ms/step - loss: 0.5966 - accuracy: 0.6986 - val_loss: 0.6270 - val_accuracy: 0.6700\n",
      "Epoch 148/200\n",
      "22/22 [==============================] - 0s 2ms/step - loss: 0.5960 - accuracy: 0.6914 - val_loss: 0.6256 - val_accuracy: 0.6700\n",
      "Epoch 149/200\n",
      "22/22 [==============================] - 0s 2ms/step - loss: 0.5938 - accuracy: 0.6986 - val_loss: 0.6268 - val_accuracy: 0.6633\n",
      "Epoch 150/200\n",
      "22/22 [==============================] - 0s 2ms/step - loss: 0.6047 - accuracy: 0.6957 - val_loss: 0.6162 - val_accuracy: 0.6900\n",
      "Epoch 151/200\n",
      "22/22 [==============================] - 0s 2ms/step - loss: 0.5902 - accuracy: 0.6971 - val_loss: 0.6220 - val_accuracy: 0.6767\n",
      "Epoch 152/200\n",
      "22/22 [==============================] - 0s 2ms/step - loss: 0.5871 - accuracy: 0.7029 - val_loss: 0.6247 - val_accuracy: 0.6700\n",
      "Epoch 153/200\n",
      "22/22 [==============================] - 0s 2ms/step - loss: 0.5821 - accuracy: 0.6914 - val_loss: 0.6161 - val_accuracy: 0.6867\n",
      "Epoch 154/200\n",
      "22/22 [==============================] - 0s 2ms/step - loss: 0.5801 - accuracy: 0.7057 - val_loss: 0.6233 - val_accuracy: 0.6800\n",
      "Epoch 155/200\n",
      "22/22 [==============================] - 0s 2ms/step - loss: 0.5937 - accuracy: 0.7000 - val_loss: 0.6260 - val_accuracy: 0.6733\n",
      "Epoch 156/200\n",
      "22/22 [==============================] - 0s 2ms/step - loss: 0.5741 - accuracy: 0.7057 - val_loss: 0.6290 - val_accuracy: 0.6700\n",
      "Epoch 157/200\n",
      "22/22 [==============================] - 0s 2ms/step - loss: 0.5917 - accuracy: 0.6857 - val_loss: 0.6175 - val_accuracy: 0.6833\n",
      "Epoch 158/200\n",
      "22/22 [==============================] - 0s 2ms/step - loss: 0.5919 - accuracy: 0.7214 - val_loss: 0.6202 - val_accuracy: 0.6867\n",
      "Epoch 159/200\n",
      "22/22 [==============================] - 0s 2ms/step - loss: 0.5840 - accuracy: 0.7014 - val_loss: 0.6166 - val_accuracy: 0.6767\n",
      "Epoch 160/200\n",
      "22/22 [==============================] - 0s 2ms/step - loss: 0.5791 - accuracy: 0.7271 - val_loss: 0.6153 - val_accuracy: 0.6867\n",
      "Epoch 161/200\n",
      "22/22 [==============================] - 0s 2ms/step - loss: 0.5870 - accuracy: 0.7043 - val_loss: 0.6237 - val_accuracy: 0.6800\n",
      "Epoch 162/200\n",
      "22/22 [==============================] - 0s 2ms/step - loss: 0.5767 - accuracy: 0.7071 - val_loss: 0.6233 - val_accuracy: 0.6867\n",
      "Epoch 163/200\n",
      "22/22 [==============================] - 0s 2ms/step - loss: 0.5793 - accuracy: 0.7143 - val_loss: 0.6205 - val_accuracy: 0.6767\n",
      "Epoch 164/200\n",
      "22/22 [==============================] - 0s 2ms/step - loss: 0.5859 - accuracy: 0.7100 - val_loss: 0.6223 - val_accuracy: 0.6900\n",
      "Epoch 165/200\n",
      "22/22 [==============================] - 0s 2ms/step - loss: 0.5826 - accuracy: 0.7071 - val_loss: 0.6166 - val_accuracy: 0.6900\n",
      "Epoch 166/200\n",
      "22/22 [==============================] - 0s 2ms/step - loss: 0.5751 - accuracy: 0.7214 - val_loss: 0.6230 - val_accuracy: 0.6867\n",
      "Epoch 167/200\n",
      "22/22 [==============================] - 0s 2ms/step - loss: 0.5860 - accuracy: 0.7114 - val_loss: 0.6170 - val_accuracy: 0.6700\n",
      "Epoch 168/200\n",
      "22/22 [==============================] - 0s 2ms/step - loss: 0.5721 - accuracy: 0.7071 - val_loss: 0.6251 - val_accuracy: 0.6800\n",
      "Epoch 169/200\n",
      "22/22 [==============================] - 0s 2ms/step - loss: 0.5924 - accuracy: 0.7114 - val_loss: 0.6148 - val_accuracy: 0.6633\n",
      "Epoch 170/200\n",
      "22/22 [==============================] - 0s 2ms/step - loss: 0.5758 - accuracy: 0.7314 - val_loss: 0.6175 - val_accuracy: 0.6667\n",
      "Epoch 171/200\n",
      "22/22 [==============================] - 0s 2ms/step - loss: 0.5792 - accuracy: 0.7314 - val_loss: 0.6184 - val_accuracy: 0.6667\n",
      "Epoch 172/200\n",
      "22/22 [==============================] - 0s 2ms/step - loss: 0.5873 - accuracy: 0.7114 - val_loss: 0.6179 - val_accuracy: 0.6667\n",
      "Epoch 173/200\n"
     ]
    },
    {
     "name": "stdout",
     "output_type": "stream",
     "text": [
      "22/22 [==============================] - 0s 2ms/step - loss: 0.5741 - accuracy: 0.7029 - val_loss: 0.6192 - val_accuracy: 0.6700\n",
      "Epoch 174/200\n",
      "22/22 [==============================] - 0s 2ms/step - loss: 0.5797 - accuracy: 0.7100 - val_loss: 0.6183 - val_accuracy: 0.6767\n",
      "Epoch 175/200\n",
      "22/22 [==============================] - 0s 2ms/step - loss: 0.5735 - accuracy: 0.7214 - val_loss: 0.6193 - val_accuracy: 0.6733\n",
      "Epoch 176/200\n",
      "22/22 [==============================] - 0s 2ms/step - loss: 0.5836 - accuracy: 0.7186 - val_loss: 0.6239 - val_accuracy: 0.6733\n",
      "Epoch 177/200\n",
      "22/22 [==============================] - 0s 2ms/step - loss: 0.5748 - accuracy: 0.7100 - val_loss: 0.6121 - val_accuracy: 0.6767\n",
      "Epoch 178/200\n",
      "22/22 [==============================] - 0s 2ms/step - loss: 0.5753 - accuracy: 0.7129 - val_loss: 0.6206 - val_accuracy: 0.6700\n",
      "Epoch 179/200\n",
      "22/22 [==============================] - 0s 2ms/step - loss: 0.5673 - accuracy: 0.7300 - val_loss: 0.6290 - val_accuracy: 0.6767\n",
      "Epoch 180/200\n",
      "22/22 [==============================] - 0s 2ms/step - loss: 0.5671 - accuracy: 0.7329 - val_loss: 0.6288 - val_accuracy: 0.6767\n",
      "Epoch 181/200\n",
      "22/22 [==============================] - 0s 2ms/step - loss: 0.5679 - accuracy: 0.7000 - val_loss: 0.6218 - val_accuracy: 0.6700\n",
      "Epoch 182/200\n",
      "22/22 [==============================] - 0s 2ms/step - loss: 0.5753 - accuracy: 0.7157 - val_loss: 0.6170 - val_accuracy: 0.6700\n",
      "Epoch 183/200\n",
      "22/22 [==============================] - 0s 2ms/step - loss: 0.5689 - accuracy: 0.7229 - val_loss: 0.6282 - val_accuracy: 0.6700\n",
      "Epoch 184/200\n",
      "22/22 [==============================] - 0s 2ms/step - loss: 0.5837 - accuracy: 0.7229 - val_loss: 0.6222 - val_accuracy: 0.6633\n",
      "Epoch 185/200\n",
      "22/22 [==============================] - 0s 2ms/step - loss: 0.5789 - accuracy: 0.7186 - val_loss: 0.6193 - val_accuracy: 0.6833\n",
      "Epoch 186/200\n",
      "22/22 [==============================] - 0s 2ms/step - loss: 0.5749 - accuracy: 0.7300 - val_loss: 0.6215 - val_accuracy: 0.6833\n",
      "Epoch 187/200\n",
      "22/22 [==============================] - 0s 2ms/step - loss: 0.5792 - accuracy: 0.7100 - val_loss: 0.6146 - val_accuracy: 0.6767\n",
      "Epoch 188/200\n",
      "22/22 [==============================] - 0s 2ms/step - loss: 0.5774 - accuracy: 0.7071 - val_loss: 0.6312 - val_accuracy: 0.6700\n",
      "Epoch 189/200\n",
      "22/22 [==============================] - 0s 2ms/step - loss: 0.5570 - accuracy: 0.7343 - val_loss: 0.6193 - val_accuracy: 0.6767\n",
      "Epoch 190/200\n",
      "22/22 [==============================] - 0s 2ms/step - loss: 0.5769 - accuracy: 0.7200 - val_loss: 0.6221 - val_accuracy: 0.6767\n",
      "Epoch 191/200\n",
      "22/22 [==============================] - 0s 2ms/step - loss: 0.5723 - accuracy: 0.7157 - val_loss: 0.6257 - val_accuracy: 0.6733\n",
      "Epoch 192/200\n",
      "22/22 [==============================] - 0s 2ms/step - loss: 0.5630 - accuracy: 0.7314 - val_loss: 0.6278 - val_accuracy: 0.6767\n",
      "Epoch 193/200\n",
      "22/22 [==============================] - 0s 2ms/step - loss: 0.5764 - accuracy: 0.7229 - val_loss: 0.6339 - val_accuracy: 0.6667\n",
      "Epoch 194/200\n",
      "22/22 [==============================] - 0s 2ms/step - loss: 0.5615 - accuracy: 0.7257 - val_loss: 0.6259 - val_accuracy: 0.6733\n",
      "Epoch 195/200\n",
      "22/22 [==============================] - 0s 2ms/step - loss: 0.5600 - accuracy: 0.7186 - val_loss: 0.6224 - val_accuracy: 0.6900\n",
      "Epoch 196/200\n",
      "22/22 [==============================] - 0s 2ms/step - loss: 0.5675 - accuracy: 0.7214 - val_loss: 0.6133 - val_accuracy: 0.6933\n",
      "Epoch 197/200\n",
      "22/22 [==============================] - 0s 2ms/step - loss: 0.5683 - accuracy: 0.7243 - val_loss: 0.6289 - val_accuracy: 0.6767\n",
      "Epoch 198/200\n",
      "22/22 [==============================] - 0s 2ms/step - loss: 0.5600 - accuracy: 0.7457 - val_loss: 0.6226 - val_accuracy: 0.6833\n",
      "Epoch 199/200\n",
      "22/22 [==============================] - 0s 2ms/step - loss: 0.5582 - accuracy: 0.7329 - val_loss: 0.6205 - val_accuracy: 0.6967\n",
      "Epoch 200/200\n",
      "22/22 [==============================] - 0s 3ms/step - loss: 0.5609 - accuracy: 0.7257 - val_loss: 0.6264 - val_accuracy: 0.6767\n"
     ]
    }
   ],
   "source": [
    "history3=model3.fit(X_train,y_train, validation_data=(X_test, y_test),epochs=200)"
   ]
  },
  {
   "cell_type": "code",
   "execution_count": 58,
   "id": "qualified-spotlight",
   "metadata": {},
   "outputs": [
    {
     "name": "stdout",
     "output_type": "stream",
     "text": [
      "22/22 [==============================] - 0s 907us/step - loss: 0.5497 - accuracy: 0.7357\n",
      "10/10 [==============================] - 0s 975us/step - loss: 0.6264 - accuracy: 0.6767\n",
      "Train: 0.736, Test: 0.677\n"
     ]
    }
   ],
   "source": [
    "_,train_acc = model3.evaluate(X_train,y_train)\n",
    "_,test_acc = model3.evaluate(X_test, y_test)\n",
    "print('Train: %.3f, Test: %.3f' % (train_acc, test_acc))"
   ]
  },
  {
   "cell_type": "code",
   "execution_count": 59,
   "id": "resistant-corpus",
   "metadata": {},
   "outputs": [
    {
     "data": {
      "image/png": "[encoded data removed]",
      "text/plain": [
       "<Figure size 432x288 with 1 Axes>"
      ]
     },
     "metadata": {
      "needs_background": "light"
     },
     "output_type": "display_data"
    }
   ],
   "source": [
    "plt.plot(history3.history['loss'])\n",
    "plt.plot(history3.history['val_loss'])\n",
    "plt.title('model3 loss')\n",
    "plt.ylabel('loss')\n",
    "plt.xlabel('epoch')\n",
    "plt.legend(['train', 'test'], loc='upper left')\n",
    "plt.show()"
   ]
  },
  {
   "cell_type": "code",
   "execution_count": 60,
   "id": "eleven-width",
   "metadata": {},
   "outputs": [
    {
     "data": {
      "text/plain": [
       "<matplotlib.legend.Legend at 0x1c72f9639c8>"
      ]
     },
     "execution_count": 60,
     "metadata": {},
     "output_type": "execute_result"
    },
    {
     "data": {
      "image/png": "[encoded data removed]",
      "text/plain": [
       "<Figure size 432x288 with 1 Axes>"
      ]
     },
     "metadata": {
      "needs_background": "light"
     },
     "output_type": "display_data"
    }
   ],
   "source": [
    "plt.plot(history3.history['accuracy'])\n",
    "plt.plot(history3.history['val_accuracy'])\n",
    "plt.title('model3 accuracy')\n",
    "plt.ylabel('accuracy')\n",
    "plt.xlabel('epoch')\n",
    "plt.legend(['train', 'test'], loc='upper left')"
   ]
  },
  {
   "cell_type": "code",
   "execution_count": 61,
   "id": "greek-vision",
   "metadata": {},
   "outputs": [
    {
     "name": "stdout",
     "output_type": "stream",
     "text": [
      "[0, 0, 0, 1, 1, 1, 1, 0, 0, 1, 1, 0, 1, 1, 0, 1, 0, 0, 0, 1, 1, 1, 0, 1, 0, 1, 1, 1, 0, 1, 0, 1, 0, 1, 0, 0, 1, 1, 1, 1, 0, 1, 1, 1, 0, 1, 1, 0, 1, 1, 0, 0, 1, 0, 0, 1, 1, 1, 1, 1, 1, 0, 0, 1, 0, 1, 0, 0, 1, 1, 0, 1, 0, 0, 0, 0, 0, 0, 0, 1, 1, 0, 1, 0, 0, 1, 0, 1, 1, 1, 0, 0, 0, 0, 1, 0, 1, 0, 0, 1, 1, 0, 0, 0, 0, 1, 0, 0, 1, 1, 1, 0, 1, 0, 0, 1, 1, 1, 1, 1, 1, 1, 1, 0, 1, 1, 0, 1, 0, 1, 0, 1, 0, 1, 1, 1, 1, 0, 0, 0, 1, 1, 1, 0, 0, 0, 1, 0, 0, 1, 1, 0, 1, 1, 0, 0, 1, 0, 0, 1, 0, 0, 1, 1, 1, 1, 0, 0, 0, 0, 0, 0, 0, 1, 1, 0, 1, 1, 0, 1, 1, 1, 1, 0, 0, 0, 1, 1, 1, 1, 0, 1, 0, 0, 1, 1, 0, 0, 1, 0, 0, 0, 0, 1, 1, 1, 0, 1, 1, 0, 0, 1, 0, 0, 0, 0, 1, 0, 0, 1, 1, 1, 0, 0, 0, 1, 0, 0, 0, 0, 1, 0, 1, 0, 1, 1, 0, 0, 1, 0, 1, 0, 0, 1, 0, 0, 1, 1, 0, 0, 1, 1, 0, 1, 1, 0, 1, 0, 1, 0, 1, 0, 1, 1, 1, 1, 0, 0, 1, 0, 0, 1, 1, 0, 1, 1, 0, 0, 1, 1, 1, 0, 1, 0, 1, 1, 0, 1, 0, 0, 1, 1, 0, 1, 1, 0, 1, 1, 1, 0]\n"
     ]
    }
   ],
   "source": [
    "predict_y=model3.predict(X_test)\n",
    "predict_value=[]\n",
    "for predict in predict_y:\n",
    "    if predict>0.5:\n",
    "     predict_value.append(1)\n",
    "    else:\n",
    "        predict_value.append(0)\n",
    "print(predict_value)        "
   ]
  },
  {
   "cell_type": "markdown",
   "id": "respective-cache",
   "metadata": {},
   "source": [
    "# Confusion matrix"
   ]
  },
  {
   "cell_type": "code",
   "execution_count": 62,
   "id": "necessary-richmond",
   "metadata": {},
   "outputs": [
    {
     "name": "stdout",
     "output_type": "stream",
     "text": [
      "[[ 94  46]\n",
      " [ 51 109]]\n"
     ]
    }
   ],
   "source": [
    "from sklearn.metrics import confusion_matrix\n",
    "print(confusion_matrix(y_test, predict_value))"
   ]
  },
  {
   "cell_type": "markdown",
   "id": "regular-requirement",
   "metadata": {},
   "source": [
    "# Classification report"
   ]
  },
  {
   "cell_type": "code",
   "execution_count": 63,
   "id": "iraqi-harbor",
   "metadata": {},
   "outputs": [
    {
     "name": "stdout",
     "output_type": "stream",
     "text": [
      "              precision    recall  f1-score   support\n",
      "\n",
      "           0       0.65      0.67      0.66       140\n",
      "           1       0.70      0.68      0.69       160\n",
      "\n",
      "    accuracy                           0.68       300\n",
      "   macro avg       0.68      0.68      0.68       300\n",
      "weighted avg       0.68      0.68      0.68       300\n",
      "\n"
     ]
    }
   ],
   "source": [
    "from sklearn.metrics import classification_report\n",
    "print(classification_report(y_test,predict_value))"
   ]
  },
  {
   "cell_type": "code",
   "execution_count": 64,
   "id": "injured-silence",
   "metadata": {},
   "outputs": [],
   "source": [
    "model3.save('model3.h5')"
   ]
  },
  {
   "cell_type": "markdown",
   "id": "twenty-olympus",
   "metadata": {},
   "source": [
    "# Create a Python list of loaded models"
   ]
  },
  {
   "cell_type": "code",
   "execution_count": 65,
   "id": "smaller-edgar",
   "metadata": {},
   "outputs": [],
   "source": [
    "#load models from file\n",
    "from keras.models import load_model\n",
    "def load_all_models(n_models):\n",
    "    all_models = list()\n",
    "    for i in range(n_models):\n",
    "        # define filename for this ensemble\n",
    "        filename = 'model' + str(i + 1) + '.h5'\n",
    "        # load model from file\n",
    "        model = load_model(filename)\n",
    "        # add to list of members\n",
    "        all_models.append(model)\n",
    "        print('>loaded %s' % filename)\n",
    "    return all_models"
   ]
  },
  {
   "cell_type": "markdown",
   "id": "focused-uruguay",
   "metadata": {},
   "source": [
    "# Call this function to load three saved models"
   ]
  },
  {
   "cell_type": "code",
   "execution_count": 66,
   "id": "spread-composite",
   "metadata": {},
   "outputs": [
    {
     "name": "stdout",
     "output_type": "stream",
     "text": [
      ">loaded model1.h5\n",
      ">loaded model2.h5\n",
      ">loaded model3.h5\n",
      "Loaded 3 model\n"
     ]
    }
   ],
   "source": [
    "# load all models\n",
    "n_members = 3\n",
    "members = load_all_models(n_members)\n",
    "print('Loaded %d model' % len(members))"
   ]
  },
  {
   "cell_type": "markdown",
   "id": "aging-anderson",
   "metadata": {},
   "source": [
    "# Prepare a training dataset for the meta-learner"
   ]
  },
  {
   "cell_type": "code",
   "execution_count": 67,
   "id": "applied-layer",
   "metadata": {},
   "outputs": [],
   "source": [
    "# create stacked model input dataset as outputs from the ensemble\n",
    "from numpy import dstack\n",
    "def stacked_dataset(members, inputX):\n",
    "\tstackX = None\n",
    "\tfor model in members:\n",
    "\t\t# make prediction\n",
    "\t\tyhat = model.predict(inputX, verbose=0)\n",
    "\t\t# stack predictions into [rows, members, probabilities]\n",
    "\t\tif stackX is None:\n",
    "\t\t\tstackX = yhat\n",
    "\t\telse:\n",
    "\t\t\tstackX = dstack((stackX, yhat))\n",
    "\t# flatten predictions to [rows, members x probabilities]\n",
    "\tstackX = stackX.reshape((stackX.shape[0], stackX.shape[1]*stackX.shape[2]))\n",
    "\treturn stackX"
   ]
  },
  {
   "cell_type": "markdown",
   "id": "spiritual-exhibit",
   "metadata": {},
   "source": [
    "# Use the prepared training dataset to fit a meta-learner model"
   ]
  },
  {
   "cell_type": "code",
   "execution_count": 68,
   "id": "strong-insider",
   "metadata": {},
   "outputs": [],
   "source": [
    "# fit a model based on the outputs from the ensemble members\n",
    "from sklearn.linear_model import LogisticRegression\n",
    "def fit_stacked_model(members, inputX, inputy):\n",
    "# create dataset using ensemble\n",
    "    stackedX = stacked_dataset(members, inputX)\n",
    "# fit standalone model\n",
    "    model = LogisticRegression()\n",
    "    model.fit(stackedX, inputy)\n",
    "    return model"
   ]
  },
  {
   "cell_type": "markdown",
   "id": "australian-lawyer",
   "metadata": {},
   "source": [
    "# Make a prediction with the stacked model"
   ]
  },
  {
   "cell_type": "code",
   "execution_count": 69,
   "id": "honey-engineering",
   "metadata": {},
   "outputs": [],
   "source": [
    "def stacked_prediction(members, model, inputX):\n",
    "# create dataset using ensemble\n",
    "    stackedX = stacked_dataset(members, inputX)\n",
    "#make a prediction\n",
    "    yhat = model.predict(stackedX)\n",
    "    return yhat"
   ]
  },
  {
   "cell_type": "markdown",
   "id": "acceptable-highway",
   "metadata": {},
   "source": [
    "# Evaluate each single model on the training dataset and establish a baseline of performance"
   ]
  },
  {
   "cell_type": "code",
   "execution_count": 70,
   "id": "vocational-aircraft",
   "metadata": {},
   "outputs": [
    {
     "name": "stdout",
     "output_type": "stream",
     "text": [
      "Model Accuracy: 0.670\n",
      "Model Accuracy: 0.653\n",
      "Model Accuracy: 0.677\n"
     ]
    }
   ],
   "source": [
    "# evaluate standalone models on test dataset\n",
    "for model in members:\n",
    "    y_test_enc = y_test\n",
    "    _, acc = model.evaluate(X_test, y_test_enc, verbose=0)\n",
    "    print('Model Accuracy: %.3f' % acc)"
   ]
  },
  {
   "cell_type": "markdown",
   "id": "valid-spanking",
   "metadata": {},
   "source": [
    "# Fit stacked model using the ensemble"
   ]
  },
  {
   "cell_type": "code",
   "execution_count": 71,
   "id": "civic-master",
   "metadata": {},
   "outputs": [],
   "source": [
    "from sklearn.metrics import accuracy_score\n",
    "model = fit_stacked_model(members, X_test, y_test)"
   ]
  },
  {
   "cell_type": "markdown",
   "id": "weekly-navigator",
   "metadata": {},
   "source": [
    "# Evaluate model on test set"
   ]
  },
  {
   "cell_type": "code",
   "execution_count": 72,
   "id": "plain-poster",
   "metadata": {},
   "outputs": [
    {
     "name": "stdout",
     "output_type": "stream",
     "text": [
      "Stacked Test Accuracy: 0.703\n"
     ]
    }
   ],
   "source": [
    "yhat = stacked_prediction(members, model, X_test)\n",
    "acc = accuracy_score(y_test_enc, yhat)\n",
    "print('Stacked Test Accuracy: %.3f' % acc)"
   ]
  },
  {
   "cell_type": "code",
   "execution_count": 73,
   "id": "lesbian-snake",
   "metadata": {},
   "outputs": [
    {
     "name": "stdout",
     "output_type": "stream",
     "text": [
      "[[ 94  46]\n",
      " [ 43 117]]\n"
     ]
    }
   ],
   "source": [
    "from sklearn.metrics import confusion_matrix\n",
    "print(confusion_matrix(y_test_enc, yhat))"
   ]
  },
  {
   "cell_type": "code",
   "execution_count": 74,
   "id": "monetary-internship",
   "metadata": {},
   "outputs": [
    {
     "name": "stdout",
     "output_type": "stream",
     "text": [
      "              precision    recall  f1-score   support\n",
      "\n",
      "           0       0.69      0.67      0.68       140\n",
      "           1       0.72      0.73      0.72       160\n",
      "\n",
      "    accuracy                           0.70       300\n",
      "   macro avg       0.70      0.70      0.70       300\n",
      "weighted avg       0.70      0.70      0.70       300\n",
      "\n"
     ]
    }
   ],
   "source": [
    "from sklearn.metrics import classification_report\n",
    "print(classification_report(y_test_enc, yhat))"
   ]
  },
  {
   "cell_type": "code",
   "execution_count": null,
   "id": "anticipated-contents",
   "metadata": {},
   "outputs": [],
   "source": []
  }
 ],
 "metadata": {
  "kernelspec": {
   "display_name": "Python 3",
   "language": "python",
   "name": "python3"
  },
  "language_info": {
   "codemirror_mode": {
    "name": "ipython",
    "version": 3
   },
   "file_extension": ".py",
   "mimetype": "text/x-python",
   "name": "python",
   "nbconvert_exporter": "python",
   "pygments_lexer": "ipython3",
   "version": "3.7.9"
  }
 },
 "nbformat": 4,
 "nbformat_minor": 5
}
